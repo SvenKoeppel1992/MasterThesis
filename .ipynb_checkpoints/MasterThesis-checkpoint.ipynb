{
 "cells": [
  {
   "cell_type": "markdown",
   "metadata": {},
   "source": [
    "**Python function for downloading Tweets, pre-processing, word-embeddings model and automated content analysis**"
   ]
  },
  {
   "cell_type": "markdown",
   "metadata": {},
   "source": [
    "First of all, the necessary packages have to be implementend into the present Jupyter Notebook"
   ]
  },
  {
   "cell_type": "code",
   "execution_count": null,
   "metadata": {},
   "outputs": [],
   "source": [
    "from twython import Twython, TwythonRateLimitError\n",
    "import pandas as pd\n",
    "import os\n",
    "import time\n",
    "import sys\n",
    "import pickle\n",
    "import json\n",
    "import math\n",
    "import random\n",
    "import spacy\n",
    "import tweepy\n",
    "import nltk\n",
    "import sklearn\n",
    "from sklearn.metrics import confusion_matrix \n",
    "from sklearn.metrics import accuracy_score \n",
    "from sklearn.metrics import classification_report\n",
    "import seaborn as sns\n",
    "pd.set_option('display.float_format', lambda x: '%.3f' % x)\n",
    "%matplotlib inline\n",
    "import matplotlib.pyplot as plt\n",
    "from sklearn.linear_model import LogisticRegression, LinearRegression\n",
    "import statsmodels.api as sm"
   ]
  },
  {
   "cell_type": "markdown",
   "metadata": {},
   "source": [
    "Afterwards the Tweets were downloaded with the REST APIs, provided by Twitter. This was done with the help of the following steps:"
   ]
  },
  {
   "cell_type": "code",
   "execution_count": null,
   "metadata": {},
   "outputs": [],
   "source": [
    "consumer_key = '5fBNO1peoRr7IK5FJY8zo1Kc0'\n",
    "consumer_secret = 'RckcF1PQyKfNyuzL2tZosxBhak9UfLskMi6pVmTqAg6YBNfwSG'\n",
    "access_token = '705386706162327553-wnRK0d6bsIeY0TxsQiaX6QCjNBWcFgu'\n",
    "access_token_secret = 'B4f0QS32FLI1NClbBFjqcotyvCsfXpPvO5NtRdyoruTen'"
   ]
  },
  {
   "cell_type": "code",
   "execution_count": null,
   "metadata": {},
   "outputs": [],
   "source": [
    "def search_tweets(query, lang, rounds):\n",
    "    print('collecting tweets for the query', query)\n",
    "    results = pd.DataFrame()\n",
    "\n",
    "    counter = 0\n",
    "    max_id = None\n",
    "    \n",
    "    if lang:\n",
    "        tweets = twitter.search(q=query, lang=lang)\n",
    "    else:\n",
    "        tweets = twitter.search(q=query)\n",
    "        \n",
    "    tweets = tweets['statuses']\n",
    "    \n",
    "    results = results.append(pd.DataFrame(tweets))\n",
    "    max_id = tweets[-1]['id']\n",
    "    results.to_pickle('@May29Female.pkl') #the name of the dataset has to be changed for each search query\n",
    "    \n",
    "    if rounds:\n",
    "        while counter < rounds:\n",
    "            if lang:\n",
    "                tweets = twitter.search(q=query, lang=lang, max_id = max_id, count=100)\n",
    "            else:\n",
    "                tweets = twitter.search(q=query, max_id = max_id, count = 100)\n",
    "\n",
    "            tweets = tweets['statuses']\n",
    "            old_max_id = max_id\n",
    "            max_id = tweets[-1]['id']\n",
    "            results = results.append(pd.DataFrame(tweets))\n",
    "            results.to_pickle('@May29Female.pkl') #the name of the dataset has to be changed for each search query\n",
    "            if max_id == old_max_id:\n",
    "                print('no more tweets found for', query)\n",
    "                break\n",
    "            else:\n",
    "                print('collected', len(tweets), 'tweets in round', counter + 1, 'last id', max_id, '|| waiting for 15 seconds')\n",
    "                time.sleep(15)\n",
    "                counter += 1\n",
    "    else:\n",
    "        while True:\n",
    "            if lang:\n",
    "                tweets = twitter.search(q=query, lang=lang, max_id = max_id, count=100)\n",
    "            else:\n",
    "                tweets = twitter.search(q=query, max_id = max_id, count = 100)\n",
    "\n",
    "            tweets = tweets['statuses']\n",
    "            old_max_id = max_id\n",
    "            max_id = tweets[-1]['id']\n",
    "            results = results.append(pd.DataFrame(tweets))\n",
    "            results.to_pickle('@May29Female.pkl') #the name of the dataset has to be changed for each search query\n",
    "            if max_id == old_max_id:\n",
    "                print('no more tweets found for', query)\n",
    "                break\n",
    "            else:\n",
    "                print('collected', len(tweets), 'tweets in round', counter + 1, 'last id', max_id, '|| waiting for 15 seconds')\n",
    "                time.sleep(15)\n",
    "                counter += 1\n",
    "                \n",
    "    print('completed')\n",
    "    results = results.drop_duplicates(subset='id_str')\n",
    "    results.to_pickle('@May29Female.pkl') #the name of the dataset has to be changed for each search query\n",
    "    \n",
    "    return results"
   ]
  },
  {
   "cell_type": "code",
   "execution_count": null,
   "metadata": {},
   "outputs": [],
   "source": [
    "twitter = Twython(consumer_key, consumer_secret, access_token, access_token_secret)"
   ]
  },
  {
   "cell_type": "markdown",
   "metadata": {},
   "source": [
    "The REST API was implemented to search for the following official Twitter accounts of the following 25 top-ranked ATP male tennis players."
   ]
  },
  {
   "cell_type": "code",
   "execution_count": null,
   "metadata": {},
   "outputs": [],
   "source": [
    "query = \"@DjokerNole OR @RafaelNadal OR @ThiemDomi OR @rogerfederer OR @DaniilMedwed OR @StefTsitsipas OR @AlexZverev OR @Gael_Monfils OR @fabiofogna OR @BautistaAgut OR @dieschwartzman OR @AndreyRublev97 OR @karenkhachanov OR @denis_shapo OR @stanwawrinka OR @GrigorDimitrov OR @felixtennis OR @JohnIsner OR @benoitpaire OR @Dutzee OR @Taylor_Fritz97 OR @pablocarreno91 OR @alexdeminaur OR @HubertHurkacz\"\n",
    "lang = None\n",
    "rounds = None"
   ]
  },
  {
   "cell_type": "code",
   "execution_count": null,
   "metadata": {},
   "outputs": [],
   "source": [
    "results = search_tweets(query, lang, rounds)"
   ]
  },
  {
   "cell_type": "markdown",
   "metadata": {},
   "source": [
    "Furthermore, the REST API was implemented to search for the following official Twitter accounts of the following 25 top-ranked ATP female tennis players."
   ]
  },
  {
   "cell_type": "code",
   "execution_count": null,
   "metadata": {},
   "outputs": [],
   "source": [
    "query = \"@ashbarty OR @KaPliskova OR @naomiosaka OR @Simona_Halep OR @ElinaSvitolina OR @Petra_Kvitova OR @BelindaBencic OR @kikibertens OR @serenawilliams OR @SabalenkaA OR @JohannaKonta OR @Madison_Keys OR @SofiaKenin OR @elise_mertens OR @Riske4rewards OR @DonnaVekic OR @AngeliqueKerber OR @D_Yastremska OR @mariasakkari OR @AnisimovaAmanda OR @SloaneStephens OR @juliagoerges OR @NastiaPav OR @BaraStrycova OR @geniebouchard OR @MariaSharapova\"\n",
    "lang = None\n",
    "rounds = None"
   ]
  },
  {
   "cell_type": "code",
   "execution_count": null,
   "metadata": {},
   "outputs": [],
   "source": [
    "results = search_tweets(query, lang, rounds)"
   ]
  },
  {
   "cell_type": "markdown",
   "metadata": {},
   "source": [
    "After the download was executed, the pickle files have to be read...Quote: Due to a lack of knowledge, each player was searched for individually in the beginning. However, this misconstruction was corrected and did not lead to any disadvantages for the study"
   ]
  },
  {
   "cell_type": "code",
   "execution_count": null,
   "metadata": {},
   "outputs": [],
   "source": [
    "DF1 = pd.read_pickle('@DjokerNole.pkl')\n",
    "\n",
    "DF52 = pd.read_pickle('@DjokerNole1.pkl')\n",
    "\n",
    "DF102 = pd.read_pickle('@DjokerNole2.pkl')\n",
    "\n",
    "DF2 = pd.read_pickle('@RafaelNadal.pkl')\n",
    "\n",
    "DF53 = pd.read_pickle('@RafaelNadal1.pkl')\n",
    "\n",
    "DF103 = pd.read_pickle('@RafaelNadal2.pkl')\n",
    "\n",
    "DF3 = pd.read_pickle('@ThiemDomi.pkl')\n",
    "\n",
    "DF54 = pd.read_pickle('@ThiemDomi1.pkl')\n",
    "\n",
    "DF104 = pd.read_pickle('@ThiemDomi2.pkl')\n",
    "\n",
    "#and so on..."
   ]
  },
  {
   "cell_type": "code",
   "execution_count": null,
   "metadata": {
    "jupyter": {
     "source_hidden": true
    }
   },
   "outputs": [],
   "source": [
    "DF4 = pd.read_pickle('@rogerfederer.pkl')\n",
    "\n",
    "DF55 = pd.read_pickle('@rogerfederer1.pkl')\n",
    "\n",
    "DF105 = pd.read_pickle('@rogerfederer2.pkl')\n",
    "\n",
    "DF5 = pd.read_pickle('@DaniilMedwed.pkl')\n",
    "\n",
    "DF56 = pd.read_pickle('@DaniilMedwed1.pkl')\n",
    "\n",
    "DF106 = pd.read_pickle('@DaniilMedwed2.pkl')\n",
    "\n",
    "DF6 = pd.read_pickle('@StefTsitsipas.pkl')\n",
    "\n",
    "DF57 = pd.read_pickle('@StefTsitsipas1.pkl')\n",
    "\n",
    "DF107 = pd.read_pickle('@StefTsitsipas2.pkl')\n",
    "\n",
    "DF7 = pd.read_pickle('@AlexZverev.pkl')\n",
    "\n",
    "DF58 = pd.read_pickle('@AlexZverev1.pkl')\n",
    "\n",
    "DF108 = pd.read_pickle('@AlexZverev2.pkl')\n",
    "\n",
    "DF8 = pd.read_pickle('@Gael_Monfils.pkl')\n",
    "\n",
    "DF59 = pd.read_pickle('@Gael_Monfils1.pkl')\n",
    "\n",
    "DF109 = pd.read_pickle('@Gael_Monfils2.pkl')\n",
    "\n",
    "DF10 = pd.read_pickle('@fabiofogna.pkl')\n",
    "\n",
    "DF60 = pd.read_pickle('@fabiofogna1.pkl')\n",
    "\n",
    "DF110 = pd.read_pickle('@fabiofogna2.pkl')\n",
    "\n",
    "DF11 = pd.read_pickle('@BautistaAgut.pkl')\n",
    "\n",
    "DF61 = pd.read_pickle('@BautistaAgut1.pkl')\n",
    "\n",
    "DF111 = pd.read_pickle('@BautistaAgut2.pkl')\n",
    "\n",
    "DF12 = pd.read_pickle('@dieschwartzman.pkl')\n",
    "\n",
    "DF62 = pd.read_pickle('@dieschwartzman1.pkl')\n",
    "\n",
    "DF112 = pd.read_pickle('@dieschwartzman2.pkl')\n",
    "\n",
    "DF13 = pd.read_pickle('@AndreyRublev97.pkl')\n",
    "\n",
    "DF63 = pd.read_pickle('@AndreyRublev971.pkl')\n",
    "\n",
    "DF113 = pd.read_pickle('@AndreyRublev972.pkl')\n",
    "\n",
    "DF14 = pd.read_pickle('@karenkhachanov.pkl')\n",
    "\n",
    "DF64 = pd.read_pickle('@karenkhachanov1.pkl')\n",
    "\n",
    "DF114 = pd.read_pickle('@karenkhachanov2.pkl')\n",
    "\n",
    "DF15 = pd.read_pickle('@denis_shapo.pkl')\n",
    "\n",
    "DF65 = pd.read_pickle('@denis_shapo1.pkl')\n",
    "\n",
    "DF115 = pd.read_pickle('@denis_shapo2.pkl')\n",
    "\n",
    "DF16 = pd.read_pickle('@stanwawrinka.pkl')\n",
    "\n",
    "DF66 = pd.read_pickle('@stanwawrinka1.pkl')\n",
    "\n",
    "DF116 = pd.read_pickle('@stanwawrinka2.pkl')\n",
    "\n",
    "DF17 = pd.read_pickle('@GrigorDimitrov.pkl')\n",
    "\n",
    "DF67 = pd.read_pickle('@GrigorDimitrov1.pkl')\n",
    "\n",
    "DF117 = pd.read_pickle('@GrigorDimitrov2.pkl')\n",
    "\n",
    "DF18 = pd.read_pickle('@felixtennis.pkl')\n",
    "\n",
    "DF68 = pd.read_pickle('@felixtennis1.pkl')\n",
    "\n",
    "DF118 = pd.read_pickle('@felixtennis2.pkl')\n",
    "\n",
    "DF19 = pd.read_pickle('@JohnIsner.pkl')\n",
    "\n",
    "DF69 = pd.read_pickle('@JohnIsner1.pkl')\n",
    "\n",
    "DF119 = pd.read_pickle('@JohnIsner2.pkl')\n",
    "\n",
    "DF20 = pd.read_pickle('@benoitpaire.pkl')\n",
    "\n",
    "DF70 = pd.read_pickle('@benoitpaire1.pkl')\n",
    "\n",
    "DF120 = pd.read_pickle('@benoitpaire2.pkl')\n",
    "\n",
    "DF21 = pd.read_pickle('@Dutzee.pkl')\n",
    "\n",
    "DF71 = pd.read_pickle('@Dutzee1.pkl')\n",
    "\n",
    "DF121 = pd.read_pickle('@Dutzee2.pkl')\n",
    "\n",
    "DF22 = pd.read_pickle('@Taylor_Fritz97.pkl')\n",
    "\n",
    "DF72 = pd.read_pickle('@Taylor_Fritz971.pkl')\n",
    "\n",
    "DF122 = pd.read_pickle('@Taylor_Fritz972.pkl')\n",
    "\n",
    "DF23 = pd.read_pickle('@pablocarreno91.pkl')\n",
    "\n",
    "DF73 = pd.read_pickle('@pablocarreno911.pkl')\n",
    "\n",
    "DF123 = pd.read_pickle('@pablocarreno912.pkl')\n",
    "\n",
    "DF24 = pd.read_pickle('@alexdeminaur.pkl')\n",
    "\n",
    "DF74 = pd.read_pickle('@alexdeminaur1.pkl')\n",
    "\n",
    "DF124 = pd.read_pickle('@alexdeminaur2.pkl')\n",
    "\n",
    "DF25 = pd.read_pickle('@HubertHurkacz.pkl')\n",
    "\n",
    "DF75 = pd.read_pickle('@HubertHurkacz1.pkl')\n",
    "\n",
    "DF125 = pd.read_pickle('@HubertHurkacz2.pkl')\n",
    "\n",
    "DF152 = pd.read_pickle('@May19Male.pkl')"
   ]
  },
  {
   "cell_type": "markdown",
   "metadata": {},
   "source": [
    "...the same for the female pickle files"
   ]
  },
  {
   "cell_type": "code",
   "execution_count": null,
   "metadata": {},
   "outputs": [],
   "source": [
    "DF26 = pd.read_pickle('@ashbarty.pkl')\n",
    "\n",
    "DF76 = pd.read_pickle('@ashbarty1.pkl')\n",
    "\n",
    "DF126 = pd.read_pickle('@ashbarty2.pkl')\n",
    "\n",
    "DF27 = pd.read_pickle('@KaPliskova.pkl')\n",
    "\n",
    "DF77 = pd.read_pickle('@KaPliskova1.pkl')\n",
    "\n",
    "DF127 = pd.read_pickle('@KaPliskova2.pkl')\n",
    "\n",
    "DF28 = pd.read_pickle('@naomiosaka.pkl')\n",
    "\n",
    "DF78 = pd.read_pickle('@naomiosaka1.pkl')\n",
    "\n",
    "DF128 = pd.read_pickle('@naomiosaka2.pkl')\n",
    "\n",
    "DF29 = pd.read_pickle('@Simona_Halep.pkl') #and so on..."
   ]
  },
  {
   "cell_type": "code",
   "execution_count": null,
   "metadata": {
    "jupyter": {
     "source_hidden": true
    }
   },
   "outputs": [],
   "source": [
    "DF79 = pd.read_pickle('@Simona_Halep1.pkl')\n",
    "\n",
    "DF129 = pd.read_pickle('@Simona_Halep2.pkl')\n",
    "\n",
    "DF31 = pd.read_pickle('@ElinaSvitolina.pkl')\n",
    "\n",
    "DF80 = pd.read_pickle('@ElinaSvitolina1.pkl')\n",
    "\n",
    "DF130 = pd.read_pickle('@ElinaSvitolina2.pkl')\n",
    "\n",
    "DF32 = pd.read_pickle('@Petra_Kvitova.pkl')\n",
    "\n",
    "DF81 = pd.read_pickle('@Petra_Kvitova1.pkl')\n",
    "\n",
    "DF131 = pd.read_pickle('@Petra_Kvitova2.pkl')\n",
    "\n",
    "DF33 = pd.read_pickle('@BelindaBencic.pkl')\n",
    "\n",
    "DF82 = pd.read_pickle('@BelindaBencic1.pkl')\n",
    "\n",
    "DF132 = pd.read_pickle('@BelindaBencic2.pkl')\n",
    "\n",
    "DF34 = pd.read_pickle('@kikibertens.pkl')\n",
    "\n",
    "DF83 = pd.read_pickle('@kikibertens1.pkl')\n",
    "\n",
    "DF133 = pd.read_pickle('@kikibertens2.pkl')\n",
    "\n",
    "DF35 = pd.read_pickle('@serenawilliams.pkl')\n",
    "\n",
    "DF84 = pd.read_pickle('@serenawilliams1.pkl')\n",
    "\n",
    "DF134 = pd.read_pickle('@serenawilliams2.pkl')\n",
    "\n",
    "DF36 = pd.read_pickle('@SabalenkaA.pkl')\n",
    "\n",
    "DF85 = pd.read_pickle('@SabalenkaA1.pkl')\n",
    "\n",
    "DF135 = pd.read_pickle('@SabalenkaA2.pkl')\n",
    "\n",
    "DF37 = pd.read_pickle('@JohannaKonta.pkl')\n",
    "\n",
    "DF86 = pd.read_pickle('@JohannaKonta1.pkl')\n",
    "\n",
    "DF136 = pd.read_pickle('@JohannaKonta2.pkl')\n",
    "\n",
    "DF38 = pd.read_pickle('@Madison_Keys.pkl')\n",
    "\n",
    "DF87 = pd.read_pickle('@Madison_Keys1.pkl')\n",
    "\n",
    "DF137 = pd.read_pickle('@Madison_Keys2.pkl')\n",
    "\n",
    "DF39 = pd.read_pickle('@SofiaKenin.pkl')\n",
    "\n",
    "DF88 = pd.read_pickle('@SofiaKenin1.pkl')\n",
    "\n",
    "DF138 = pd.read_pickle('@SofiaKenin2.pkl')\n",
    "\n",
    "DF40 = pd.read_pickle('@elise_mertens.pkl')\n",
    "\n",
    "DF89 = pd.read_pickle('@elise_mertens1.pkl')\n",
    "\n",
    "DF139 = pd.read_pickle('@elise_mertens2.pkl')\n",
    "\n",
    "DF41 = pd.read_pickle('@Riske4rewards.pkl')\n",
    "\n",
    "DF90 = pd.read_pickle('@Riske4rewards1.pkl')\n",
    "\n",
    "DF140 = pd.read_pickle('@Riske4rewards2.pkl')\n",
    "\n",
    "DF42 = pd.read_pickle('@DonnaVekic.pkl')\n",
    "\n",
    "DF91 = pd.read_pickle('@DonnaVekic1.pkl')\n",
    "\n",
    "DF141 = pd.read_pickle('@DonnaVekic2.pkl')\n",
    "\n",
    "DF43 = pd.read_pickle('@AngeliqueKerber.pkl')\n",
    "\n",
    "DF92 = pd.read_pickle('@AngeliqueKerber1.pkl')\n",
    "\n",
    "DF142 = pd.read_pickle('@AngeliqueKerber2.pkl')\n",
    "\n",
    "DF44 = pd.read_pickle('@D_Yastremska.pkl')\n",
    "\n",
    "DF93 = pd.read_pickle('@D_Yastremska1.pkl')\n",
    "\n",
    "DF143 = pd.read_pickle('@D_Yastremska2.pkl')\n",
    "\n",
    "DF45 = pd.read_pickle('@mariasakkari.pkl')\n",
    "\n",
    "DF94 = pd.read_pickle('@mariasakkari1.pkl')\n",
    "\n",
    "DF144 = pd.read_pickle('@mariasakkari2.pkl')\n",
    "\n",
    "DF46 = pd.read_pickle('@AnisimovaAmanda.pkl')\n",
    "\n",
    "DF95 = pd.read_pickle('@AnisimovaAmanda1.pkl')\n",
    "\n",
    "DF145 = pd.read_pickle('@AnisimovaAmanda2.pkl')\n",
    "\n",
    "DF47 = pd.read_pickle('@SloaneStephens.pkl')\n",
    "\n",
    "DF96 = pd.read_pickle('@SloaneStephens1.pkl')\n",
    "\n",
    "DF146 = pd.read_pickle('@SloaneStephens2.pkl')\n",
    "\n",
    "DF48 = pd.read_pickle('@juliagoerges.pkl')\n",
    "\n",
    "DF97 = pd.read_pickle('@juliagoerges1.pkl')\n",
    "\n",
    "DF147 = pd.read_pickle('@juliagoerges2.pkl')\n",
    "\n",
    "DF49 = pd.read_pickle('@NastiaPav.pkl')\n",
    "\n",
    "DF98 = pd.read_pickle('@NastiaPav1.pkl')\n",
    "\n",
    "DF148 = pd.read_pickle('@NastiaPav2.pkl')\n",
    "\n",
    "DF50 = pd.read_pickle('@BaraStrycova.pkl')\n",
    "\n",
    "DF99 = pd.read_pickle('@BaraStrycova1.pkl')\n",
    "\n",
    "DF149 = pd.read_pickle('@BaraStrycova2.pkl')\n",
    "\n",
    "DF51 = pd.read_pickle('@geniebouchard.pkl')\n",
    "\n",
    "DF100 = pd.read_pickle('@geniebouchard1.pkl')\n",
    "\n",
    "DF150 = pd.read_pickle('@geniebouchard2.pkl')\n",
    "\n",
    "DF101 = pd.read_pickle('@MariaSharapova.pkl')\n",
    "\n",
    "DF151 = pd.read_pickle('@MariaSharapova1.pkl')\n",
    "\n",
    "DF153 = pd.read_pickle('@May19Female.pkl')"
   ]
  },
  {
   "cell_type": "markdown",
   "metadata": {},
   "source": [
    "Due to the merging of all the datasets into one male dataset, the further analysis was made simpler."
   ]
  },
  {
   "cell_type": "code",
   "execution_count": null,
   "metadata": {},
   "outputs": [],
   "source": [
    "Final = DF1.append(DF2)"
   ]
  },
  {
   "cell_type": "code",
   "execution_count": null,
   "metadata": {},
   "outputs": [],
   "source": [
    "Final = Final.append(DF3)"
   ]
  },
  {
   "cell_type": "code",
   "execution_count": null,
   "metadata": {
    "jupyter": {
     "source_hidden": true
    }
   },
   "outputs": [],
   "source": [
    "Final = Final.append(DF4)\n",
    "\n",
    "Final = Final.append(DF5)\n",
    "\n",
    "Final = Final.append(DF6)\n",
    "\n",
    "Final = Final.append(DF7)\n",
    "\n",
    "Final = Final.append(DF8)\n",
    "\n",
    "Final = Final.append(DF10)\n",
    "\n",
    "Final = Final.append(DF11)\n",
    "\n",
    "Final = Final.append(DF12)\n",
    "\n",
    "Final = Final.append(DF13)\n",
    "\n",
    "Final = Final.append(DF14)\n",
    "\n",
    "Final = Final.append(DF15)\n",
    "\n",
    "Final = Final.append(DF16)\n",
    "\n",
    "Final = Final.append(DF17)\n",
    "\n",
    "Final = Final.append(DF18)\n",
    "\n",
    "Final = Final.append(DF19)\n",
    "\n",
    "Final = Final.append(DF20)\n",
    "\n",
    "Final = Final.append(DF21)\n",
    "\n",
    "Final = Final.append(DF22)\n",
    "\n",
    "Final = Final.append(DF23)\n",
    "\n",
    "Final = Final.append(DF24)\n",
    "\n",
    "Final = Final.append(DF25)\n",
    "\n",
    "Final = Final.append(DF52)\n",
    "\n",
    "Final = Final.append(DF53)\n",
    "\n",
    "Final = Final.append(DF54)\n",
    "\n",
    "Final = Final.append(DF55)\n",
    "\n",
    "Final = Final.append(DF56)\n",
    "\n",
    "Final = Final.append(DF57)\n",
    "\n",
    "Final = Final.append(DF58)\n",
    "\n",
    "Final = Final.append(DF59)\n",
    "\n",
    "Final = Final.append(DF60)\n",
    "\n",
    "Final = Final.append(DF61)\n",
    "\n",
    "Final = Final.append(DF62)\n",
    "\n",
    "Final = Final.append(DF63)\n",
    "\n",
    "Final = Final.append(DF64)\n",
    "\n",
    "Final = Final.append(DF65)\n",
    "\n",
    "Final = Final.append(DF66)\n",
    "\n",
    "Final = Final.append(DF67)\n",
    "\n",
    "Final = Final.append(DF68)\n",
    "\n",
    "Final = Final.append(DF69)\n",
    "\n",
    "Final = Final.append(DF70)\n",
    "\n",
    "Final = Final.append(DF71)\n",
    "\n",
    "Final = Final.append(DF72)\n",
    "\n",
    "Final = Final.append(DF73)\n",
    "\n",
    "Final = Final.append(DF74)\n",
    "\n",
    "Final = Final.append(DF75)\n",
    "\n",
    "Final = Final.append(DF102)\n",
    "\n",
    "Final = Final.append(DF103)\n",
    "\n",
    "Final = Final.append(DF104)\n",
    "\n",
    "Final = Final.append(DF105)\n",
    "\n",
    "Final = Final.append(DF106)\n",
    "\n",
    "Final = Final.append(DF107)\n",
    "\n",
    "Final = Final.append(DF108)\n",
    "\n",
    "Final = Final.append(DF109)\n",
    "\n",
    "Final = Final.append(DF110)\n",
    "\n",
    "Final = Final.append(DF111)\n",
    "\n",
    "Final = Final.append(DF112)\n",
    "\n",
    "Final = Final.append(DF113)\n",
    "\n",
    "Final = Final.append(DF114)\n",
    "\n",
    "Final = Final.append(DF115)\n",
    "\n",
    "Final = Final.append(DF116)\n",
    "\n",
    "Final = Final.append(DF117)\n",
    "\n",
    "Final = Final.append(DF118)\n",
    "\n",
    "Final = Final.append(DF119)\n",
    "\n",
    "Final = Final.append(DF120)\n",
    "\n",
    "Final = Final.append(DF121)\n",
    "\n",
    "Final = Final.append(DF122)\n",
    "\n",
    "Final = Final.append(DF123)\n",
    "\n",
    "Final = Final.append(DF124)\n",
    "\n",
    "Final = Final.append(DF125)\n",
    "\n",
    "Final = Final.append(DF152)\n",
    "\n",
    "Final.reset_index(drop=True)\n",
    "\n",
    "len(Final)"
   ]
  },
  {
   "cell_type": "code",
   "execution_count": null,
   "metadata": {},
   "outputs": [],
   "source": [
    "Final.reset_index(drop=True)"
   ]
  },
  {
   "cell_type": "markdown",
   "metadata": {},
   "source": [
    "Creating a CSV File for the male tweets"
   ]
  },
  {
   "cell_type": "code",
   "execution_count": null,
   "metadata": {},
   "outputs": [],
   "source": [
    "Final.to_csv(\"Full_Tweets_Male.csv\")"
   ]
  },
  {
   "cell_type": "markdown",
   "metadata": {},
   "source": [
    "Appending the female tweets to one dataset."
   ]
  },
  {
   "cell_type": "code",
   "execution_count": null,
   "metadata": {},
   "outputs": [],
   "source": [
    "Final_Female = DF26.append(DF27)"
   ]
  },
  {
   "cell_type": "code",
   "execution_count": null,
   "metadata": {},
   "outputs": [],
   "source": [
    "Final_Female = Final_Female.append(DF28)"
   ]
  },
  {
   "cell_type": "code",
   "execution_count": null,
   "metadata": {
    "jupyter": {
     "source_hidden": true
    }
   },
   "outputs": [],
   "source": [
    "Final_Female = Final_Female.append(DF29)\n",
    "\n",
    "Final_Female = Final_Female.append(DF31)\n",
    "\n",
    "Final_Female = Final_Female.append(DF32)\n",
    "\n",
    "Final_Female = Final_Female.append(DF33)\n",
    "\n",
    "Final_Female = Final_Female.append(DF34)\n",
    "\n",
    "Final_Female = Final_Female.append(DF35)\n",
    "\n",
    "Final_Female = Final_Female.append(DF36)\n",
    "\n",
    "Final_Female = Final_Female.append(DF37)\n",
    "\n",
    "Final_Female = Final_Female.append(DF38)\n",
    "\n",
    "Final_Female = Final_Female.append(DF39)\n",
    "\n",
    "Final_Female = Final_Female.append(DF40)\n",
    "\n",
    "Final_Female = Final_Female.append(DF41)\n",
    "\n",
    "Final_Female = Final_Female.append(DF42)\n",
    "\n",
    "Final_Female = Final_Female.append(DF43)\n",
    "\n",
    "Final_Female = Final_Female.append(DF44)\n",
    "\n",
    "Final_Female = Final_Female.append(DF45)\n",
    "\n",
    "Final_Female = Final_Female.append(DF46)\n",
    "\n",
    "Final_Female = Final_Female.append(DF47)\n",
    "\n",
    "Final_Female = Final_Female.append(DF48)\n",
    "\n",
    "Final_Female = Final_Female.append(DF49)\n",
    "\n",
    "Final_Female = Final_Female.append(DF50)\n",
    "\n",
    "Final_Female = Final_Female.append(DF51)\n",
    "\n",
    "Final_Female = Final_Female.append(DF76)\n",
    "\n",
    "Final_Female = Final_Female.append(DF77)\n",
    "\n",
    "Final_Female = Final_Female.append(DF78)\n",
    "\n",
    "Final_Female = Final_Female.append(DF79)\n",
    "\n",
    "Final_Female = Final_Female.append(DF80)\n",
    "\n",
    "Final_Female = Final_Female.append(DF81)\n",
    "\n",
    "Final_Female = Final_Female.append(DF82)\n",
    "\n",
    "Final_Female = Final_Female.append(DF83)\n",
    "\n",
    "Final_Female = Final_Female.append(DF84)\n",
    "\n",
    "Final_Female = Final_Female.append(DF85)\n",
    "\n",
    "Final_Female = Final_Female.append(DF86)\n",
    "\n",
    "Final_Female = Final_Female.append(DF87)\n",
    "\n",
    "Final_Female = Final_Female.append(DF88)\n",
    "\n",
    "Final_Female = Final_Female.append(DF89)\n",
    "\n",
    "Final_Female = Final_Female.append(DF90)\n",
    "\n",
    "Final_Female = Final_Female.append(DF91)\n",
    "\n",
    "Final_Female = Final_Female.append(DF92)\n",
    "\n",
    "Final_Female = Final_Female.append(DF93)\n",
    "\n",
    "Final_Female = Final_Female.append(DF94)\n",
    "\n",
    "Final_Female = Final_Female.append(DF95)\n",
    "\n",
    "Final_Female = Final_Female.append(DF96)\n",
    "\n",
    "Final_Female = Final_Female.append(DF97)\n",
    "\n",
    "Final_Female = Final_Female.append(DF98)\n",
    "\n",
    "Final_Female = Final_Female.append(DF99)\n",
    "\n",
    "Final_Female = Final_Female.append(DF100)\n",
    "\n",
    "Final_Female = Final_Female.append(DF101)\n",
    "\n",
    "Final_Female = Final_Female.append(DF126)\n",
    "\n",
    "Final_Female = Final_Female.append(DF127)\n",
    "\n",
    "Final_Female = Final_Female.append(DF128)\n",
    "\n",
    "Final_Female = Final_Female.append(DF129)\n",
    "\n",
    "Final_Female = Final_Female.append(DF130)\n",
    "\n",
    "Final_Female = Final_Female.append(DF131)\n",
    "\n",
    "Final_Female = Final_Female.append(DF132)\n",
    "\n",
    "Final_Female = Final_Female.append(DF133)\n",
    "\n",
    "Final_Female = Final_Female.append(DF134)\n",
    "\n",
    "Final_Female = Final_Female.append(DF135)\n",
    "\n",
    "Final_Female = Final_Female.append(DF136)\n",
    "\n",
    "Final_Female = Final_Female.append(DF137)\n",
    "\n",
    "Final_Female = Final_Female.append(DF138)\n",
    "\n",
    "Final_Female = Final_Female.append(DF139)\n",
    "\n",
    "Final_Female = Final_Female.append(DF140)\n",
    "\n",
    "Final_Female = Final_Female.append(DF141)\n",
    "\n",
    "Final_Female = Final_Female.append(DF142)\n",
    "\n",
    "Final_Female = Final_Female.append(DF143)\n",
    "\n",
    "Final_Female = Final_Female.append(DF144)\n",
    "\n",
    "Final_Female = Final_Female.append(DF145)\n",
    "\n",
    "Final_Female = Final_Female.append(DF146)\n",
    "\n",
    "Final_Female = Final_Female.append(DF147)\n",
    "\n",
    "Final_Female = Final_Female.append(DF148)\n",
    "\n",
    "Final_Female = Final_Female.append(DF149)\n",
    "\n",
    "Final_Female = Final_Female.append(DF150)\n",
    "\n",
    "Final_Female = Final_Female.append(DF151)\n",
    "\n",
    "Final_Female = Final_Female.append(DF153)"
   ]
  },
  {
   "cell_type": "code",
   "execution_count": null,
   "metadata": {},
   "outputs": [],
   "source": [
    "Final_Female.reset_index(drop=True)"
   ]
  },
  {
   "cell_type": "markdown",
   "metadata": {},
   "source": [
    "Creating a CSV File for the female tweets"
   ]
  },
  {
   "cell_type": "code",
   "execution_count": null,
   "metadata": {},
   "outputs": [],
   "source": [
    "Final_Female.to_csv(\"Full_Tweets_Female.csv\")"
   ]
  },
  {
   "cell_type": "markdown",
   "metadata": {},
   "source": [
    "**Data Cleaning**"
   ]
  },
  {
   "cell_type": "code",
   "execution_count": null,
   "metadata": {},
   "outputs": [],
   "source": [
    "Final_Tweets_Male = pd.read_csv(\"Full_Tweets_Male.csv\")\n",
    "Final_Tweets_Female = pd.read_csv(\"Full_Tweets_Female.csv\")"
   ]
  },
  {
   "cell_type": "markdown",
   "metadata": {},
   "source": [
    "Appending and loading the Tweets, which were generated after fixing the misconstruction; from now on, the comments referring to players were downloaded together. "
   ]
  },
  {
   "cell_type": "code",
   "execution_count": null,
   "metadata": {},
   "outputs": [],
   "source": [
    "DF154 = pd.read_pickle('@May20Male.pkl')"
   ]
  },
  {
   "cell_type": "code",
   "execution_count": null,
   "metadata": {},
   "outputs": [],
   "source": [
    "DF157 = pd.read_pickle('@May23Male.pkl')"
   ]
  },
  {
   "cell_type": "code",
   "execution_count": null,
   "metadata": {},
   "outputs": [],
   "source": [
    "DF158 = pd.read_pickle('@May29Male.pkl')"
   ]
  },
  {
   "cell_type": "code",
   "execution_count": null,
   "metadata": {},
   "outputs": [],
   "source": [
    "Final_Tweets_Male = Final_Tweets_Male.append(DF154)"
   ]
  },
  {
   "cell_type": "code",
   "execution_count": null,
   "metadata": {},
   "outputs": [],
   "source": [
    "Final_Tweets_Male = Final_Tweets_Male.append(DF157)"
   ]
  },
  {
   "cell_type": "code",
   "execution_count": null,
   "metadata": {},
   "outputs": [],
   "source": [
    "Final_Tweets_Male = Final_Tweets_Male.append(DF158)"
   ]
  },
  {
   "cell_type": "code",
   "execution_count": null,
   "metadata": {},
   "outputs": [],
   "source": [
    "Final_Tweets_Male.reset_index(drop=True)"
   ]
  },
  {
   "cell_type": "code",
   "execution_count": null,
   "metadata": {},
   "outputs": [],
   "source": [
    "DF155 = pd.read_pickle('@May20Female.pkl')"
   ]
  },
  {
   "cell_type": "code",
   "execution_count": null,
   "metadata": {},
   "outputs": [],
   "source": [
    "DF156 = pd.read_pickle(\"@May23Female.pkl\")"
   ]
  },
  {
   "cell_type": "code",
   "execution_count": null,
   "metadata": {},
   "outputs": [],
   "source": [
    "DF159 = pd.read_pickle(\"@May29Female.pkl\")"
   ]
  },
  {
   "cell_type": "code",
   "execution_count": null,
   "metadata": {},
   "outputs": [],
   "source": [
    "Final_Tweets_Female = Final_Tweets_Female.append(DF155)"
   ]
  },
  {
   "cell_type": "code",
   "execution_count": null,
   "metadata": {},
   "outputs": [],
   "source": [
    "Final_Tweets_Female = Final_Tweets_Female.append(DF156)"
   ]
  },
  {
   "cell_type": "code",
   "execution_count": null,
   "metadata": {},
   "outputs": [],
   "source": [
    "Final_Tweets_Female = Final_Tweets_Female.append(DF159)"
   ]
  },
  {
   "cell_type": "code",
   "execution_count": null,
   "metadata": {},
   "outputs": [],
   "source": [
    "Final_Tweets_Female.reset_index(drop=True)"
   ]
  },
  {
   "cell_type": "code",
   "execution_count": null,
   "metadata": {},
   "outputs": [],
   "source": [
    "len(Final_Tweets_Male) , len(Final_Tweets_Female)"
   ]
  },
  {
   "cell_type": "markdown",
   "metadata": {},
   "source": [
    "Detecting missing variables in both dataset"
   ]
  },
  {
   "cell_type": "code",
   "execution_count": null,
   "metadata": {},
   "outputs": [],
   "source": [
    "Final_Tweets_Female.isna().sum() , Final_Tweets_Male.isna().sum()"
   ]
  },
  {
   "cell_type": "markdown",
   "metadata": {},
   "source": [
    "It is highly important to just have one version of every Tweet included in the dataset. For this reason duplicates are deleted."
   ]
  },
  {
   "cell_type": "code",
   "execution_count": null,
   "metadata": {},
   "outputs": [],
   "source": [
    "FTF1 = Final_Tweets_Female.drop_duplicates(subset='text')\n",
    "FT1 = Final_Tweets_Male.drop_duplicates(subset='text')"
   ]
  },
  {
   "cell_type": "code",
   "execution_count": null,
   "metadata": {},
   "outputs": [],
   "source": [
    "len(FT1), len(FTF1)"
   ]
  },
  {
   "cell_type": "markdown",
   "metadata": {},
   "source": [
    "With the help of the column \"lang\" the language of every Tweet could be examined and afterwards, all the non-English Tweets could have been sorted out. "
   ]
  },
  {
   "cell_type": "code",
   "execution_count": null,
   "metadata": {},
   "outputs": [],
   "source": [
    "FT1['lang'].value_counts() , FTF1['lang'].value_counts()"
   ]
  },
  {
   "cell_type": "code",
   "execution_count": null,
   "metadata": {},
   "outputs": [],
   "source": [
    "FT2 = FT1[FT1['lang'] == \"en\"]"
   ]
  },
  {
   "cell_type": "code",
   "execution_count": null,
   "metadata": {},
   "outputs": [],
   "source": [
    "FTF2 = FTF1[FTF1['lang'] == \"en\"]"
   ]
  },
  {
   "cell_type": "code",
   "execution_count": null,
   "metadata": {},
   "outputs": [],
   "source": [
    "FT2['lang'].value_counts() , FTF2['lang'].value_counts()"
   ]
  },
  {
   "cell_type": "code",
   "execution_count": null,
   "metadata": {},
   "outputs": [],
   "source": [
    "FT2.to_csv(\"FT2.csv\")\n",
    "FTF2.to_csv(\"FTF2.csv\")"
   ]
  },
  {
   "cell_type": "code",
   "execution_count": null,
   "metadata": {},
   "outputs": [],
   "source": [
    "FemaleTweets = pd.read_csv(\"FTF2.csv\")\n",
    "len(FemaleTweets)"
   ]
  },
  {
   "cell_type": "markdown",
   "metadata": {},
   "source": [
    "There were 34105 Tweets, referring to female athletes after deleting the dublicates and the non-English Tweets. "
   ]
  },
  {
   "cell_type": "code",
   "execution_count": null,
   "metadata": {},
   "outputs": [],
   "source": [
    "MaleTweets = pd.read_csv(\"FT2.csv\")\n",
    "len(MaleTweets)"
   ]
  },
  {
   "cell_type": "markdown",
   "metadata": {},
   "source": [
    "There were 52753 Tweets, referring to male athletes after deleting the dublicates and the non-English Tweets. "
   ]
  },
  {
   "cell_type": "markdown",
   "metadata": {},
   "source": [
    "The column \"Gender\" is being built to prevent loosing this information in the further analysis. The Tweets, referring to sportswomen were coded as 0; The Tweets, referring to sportsmen were coded as 1"
   ]
  },
  {
   "cell_type": "code",
   "execution_count": null,
   "metadata": {},
   "outputs": [],
   "source": [
    "FemaleTweets[\"Gender\"] = 0\n",
    "MaleTweets[\"Gender\"] = 1"
   ]
  },
  {
   "cell_type": "code",
   "execution_count": null,
   "metadata": {},
   "outputs": [],
   "source": [
    "MaleTweets[\"Gender\"].value_counts() , FemaleTweets[\"Gender\"].value_counts()"
   ]
  },
  {
   "cell_type": "markdown",
   "metadata": {},
   "source": [
    "The distribution of Tweets within the column \"Gender\" also represents the distribution of Tweets between the two genders. "
   ]
  },
  {
   "cell_type": "markdown",
   "metadata": {},
   "source": [
    "Appending the female and male Tweets to one dataset"
   ]
  },
  {
   "cell_type": "code",
   "execution_count": null,
   "metadata": {},
   "outputs": [],
   "source": [
    "AllTweets = FemaleTweets.append(MaleTweets)\n",
    "AllTweets.reset_index(drop=True)\n",
    "len(AllTweets)"
   ]
  },
  {
   "cell_type": "markdown",
   "metadata": {},
   "source": [
    "By appending the male and female datasets, 86858 Tweets remained, which represents the whole dataset examined. "
   ]
  },
  {
   "cell_type": "code",
   "execution_count": null,
   "metadata": {},
   "outputs": [],
   "source": [
    "AllTweets.columns, AllTweets[\"Gender\"].value_counts()"
   ]
  },
  {
   "cell_type": "markdown",
   "metadata": {},
   "source": [
    "For the further analysis, just the columns \"id\", \"text\" and \"Gender\" are necessary"
   ]
  },
  {
   "cell_type": "code",
   "execution_count": null,
   "metadata": {},
   "outputs": [],
   "source": [
    "AllTweets = AllTweets[[\"id\" , \"text\" , \"Gender\"]]"
   ]
  },
  {
   "cell_type": "code",
   "execution_count": null,
   "metadata": {},
   "outputs": [],
   "source": [
    "AllTweets.head()"
   ]
  },
  {
   "cell_type": "code",
   "execution_count": null,
   "metadata": {},
   "outputs": [],
   "source": [
    "AllTweets.to_csv(\"AllTweets.csv\")"
   ]
  },
  {
   "cell_type": "markdown",
   "metadata": {},
   "source": [
    "**Natural Language Processing and word2vectors**"
   ]
  },
  {
   "cell_type": "code",
   "execution_count": null,
   "metadata": {},
   "outputs": [],
   "source": [
    "import re  # For preprocessing\n",
    "import json\n",
    "import pandas as pd  # For data handling\n",
    "from time import time  # To time our operations\n",
    "\n",
    "\n",
    "print('CSV cleaning started! Please, wait...')\n",
    "# Compile regular expressions for cleaning\n",
    "re_mentions_hashtags=re.compile('([@#][\\w_-]+)')\n",
    "re_nums=re.compile('[0-9]')\n",
    "re_URLs=re.compile('http[s]?://(?:[a-zA-Z]|[0-9]|[$-_@.&+]|[!*\\(\\),]|(?:%[0-9a-fA-F][0-9a-fA-F]))+')\n",
    "re_special_chars=re.compile(r'[\\,\\|\\-\\:\\_\\*\\+\\.\\?\\!\\…\\\"]') # Includes …(char code 8230 instead of real 3 dots)\n",
    "re_quotes=re.compile(r'\\\"\\\"')\n",
    "re_html_amp=re.compile('\\&amp\\;')\n",
    "re_html_amp=re.compile('\\&amp\\;')\n",
    "re_nn=re.compile(r'[\\n\\n]')\n",
    "\n",
    "re_emoji=re.compile(r\"\\U0001f469\\u200d\\u2764\\ufe0f\\u200d\\U0001f48b\\u200d\\U0001f468|\\U0001f468\\u200d\\u2764\\ufe0f\\u200d\\U0001f48b\\u200d\\U0001f468|\\U0001f469\\u200d\\u2764\\ufe0f\\u200d\\U0001f48b\\u200d\\U0001f469|\\U0001f9d1\\U0001f3fb\\u200d\\U0001f91d\\u200d\\U0001f9d1\\U0001f3fb|\\U0001f9d1\\U0001f3fc\\u200d\\U0001f91d\\u200d\\U0001f9d1\\U0001f3fb|\\U0001f9d1\\U0001f3fc\\u200d\\U0001f91d\\u200d\\U0001f9d1\\U0001f3fc|\\U0001f9d1\\U0001f3fd\\u200d\\U0001f91d\\u200d\\U0001f9d1\\U0001f3fb|\\U0001f9d1\\U0001f3fd\\u200d\\U0001f91d\\u200d\\U0001f9d1\\U0001f3fc|\\U0001f9d1\\U0001f3fd\\u200d\\U0001f91d\\u200d\\U0001f9d1\\U0001f3fd|\\U0001f9d1\\U0001f3fe\\u200d\\U0001f91d\\u200d\\U0001f9d1\\U0001f3fb|\\U0001f9d1\\U0001f3fe\\u200d\\U0001f91d\\u200d\\U0001f9d1\\U0001f3fc|\\U0001f9d1\\U0001f3fe\\u200d\\U0001f91d\\u200d\\U0001f9d1\\U0001f3fd|\\U0001f9d1\\U0001f3fe\\u200d\\U0001f91d\\u200d\\U0001f9d1\\U0001f3fe|\\U0001f9d1\\U0001f3ff\\u200d\\U0001f91d\\u200d\\U0001f9d1\\U0001f3fb|\\U0001f9d1\\U0001f3ff\\u200d\\U0001f91d\\u200d\\U0001f9d1\\U0001f3fc|\\U0001f9d1\\U0001f3ff\\u200d\\U0001f91d\\u200d\\U0001f9d1\\U0001f3fd|\\U0001f9d1\\U0001f3ff\\u200d\\U0001f91d\\u200d\\U0001f9d1\\U0001f3fe|\\U0001f9d1\\U0001f3ff\\u200d\\U0001f91d\\u200d\\U0001f9d1\\U0001f3ff|\\U0001f469\\U0001f3fc\\u200d\\U0001f91d\\u200d\\U0001f469\\U0001f3fb|\\U0001f469\\U0001f3fd\\u200d\\U0001f91d\\u200d\\U0001f469\\U0001f3fb|\\U0001f469\\U0001f3fd\\u200d\\U0001f91d\\u200d\\U0001f469\\U0001f3fc|\\U0001f469\\U0001f3fe\\u200d\\U0001f91d\\u200d\\U0001f469\\U0001f3fb|\\U0001f469\\U0001f3fe\\u200d\\U0001f91d\\u200d\\U0001f469\\U0001f3fc|\\U0001f469\\U0001f3fe\\u200d\\U0001f91d\\u200d\\U0001f469\\U0001f3fd|\\U0001f469\\U0001f3ff\\u200d\\U0001f91d\\u200d\\U0001f469\\U0001f3fb|\\U0001f469\\U0001f3ff\\u200d\\U0001f91d\\u200d\\U0001f469\\U0001f3fc|\\U0001f469\\U0001f3ff\\u200d\\U0001f91d\\u200d\\U0001f469\\U0001f3fd|\\U0001f469\\U0001f3ff\\u200d\\U0001f91d\\u200d\\U0001f469\\U0001f3fe|\\U0001f469\\U0001f3fb\\u200d\\U0001f91d\\u200d\\U0001f468\\U0001f3fc|\\U0001f469\\U0001f3fb\\u200d\\U0001f91d\\u200d\\U0001f468\\U0001f3fd|\\U0001f469\\U0001f3fb\\u200d\\U0001f91d\\u200d\\U0001f468\\U0001f3fe|\\U0001f469\\U0001f3fb\\u200d\\U0001f91d\\u200d\\U0001f468\\U0001f3ff|\\U0001f469\\U0001f3fc\\u200d\\U0001f91d\\u200d\\U0001f468\\U0001f3fb|\\U0001f469\\U0001f3fc\\u200d\\U0001f91d\\u200d\\U0001f468\\U0001f3fd|\\U0001f469\\U0001f3fc\\u200d\\U0001f91d\\u200d\\U0001f468\\U0001f3fe|\\U0001f469\\U0001f3fc\\u200d\\U0001f91d\\u200d\\U0001f468\\U0001f3ff|\\U0001f469\\U0001f3fd\\u200d\\U0001f91d\\u200d\\U0001f468\\U0001f3fb|\\U0001f469\\U0001f3fd\\u200d\\U0001f91d\\u200d\\U0001f468\\U0001f3fc|\\U0001f469\\U0001f3fd\\u200d\\U0001f91d\\u200d\\U0001f468\\U0001f3fe|\\U0001f469\\U0001f3fd\\u200d\\U0001f91d\\u200d\\U0001f468\\U0001f3ff|\\U0001f469\\U0001f3fe\\u200d\\U0001f91d\\u200d\\U0001f468\\U0001f3fb|\\U0001f469\\U0001f3fe\\u200d\\U0001f91d\\u200d\\U0001f468\\U0001f3fc|\\U0001f469\\U0001f3fe\\u200d\\U0001f91d\\u200d\\U0001f468\\U0001f3fd|\\U0001f469\\U0001f3fe\\u200d\\U0001f91d\\u200d\\U0001f468\\U0001f3ff|\\U0001f469\\U0001f3ff\\u200d\\U0001f91d\\u200d\\U0001f468\\U0001f3fb|\\U0001f469\\U0001f3ff\\u200d\\U0001f91d\\u200d\\U0001f468\\U0001f3fc|\\U0001f469\\U0001f3ff\\u200d\\U0001f91d\\u200d\\U0001f468\\U0001f3fd|\\U0001f469\\U0001f3ff\\u200d\\U0001f91d\\u200d\\U0001f468\\U0001f3fe|\\U0001f468\\U0001f3fc\\u200d\\U0001f91d\\u200d\\U0001f468\\U0001f3fb|\\U0001f468\\U0001f3fd\\u200d\\U0001f91d\\u200d\\U0001f468\\U0001f3fb|\\U0001f468\\U0001f3fd\\u200d\\U0001f91d\\u200d\\U0001f468\\U0001f3fc|\\U0001f468\\U0001f3fe\\u200d\\U0001f91d\\u200d\\U0001f468\\U0001f3fb|\\U0001f468\\U0001f3fe\\u200d\\U0001f91d\\u200d\\U0001f468\\U0001f3fc|\\U0001f468\\U0001f3fe\\u200d\\U0001f91d\\u200d\\U0001f468\\U0001f3fd|\\U0001f468\\U0001f3ff\\u200d\\U0001f91d\\u200d\\U0001f468\\U0001f3fb|\\U0001f468\\U0001f3ff\\u200d\\U0001f91d\\u200d\\U0001f468\\U0001f3fc|\\U0001f468\\U0001f3ff\\u200d\\U0001f91d\\u200d\\U0001f468\\U0001f3fd|\\U0001f468\\U0001f3ff\\u200d\\U0001f91d\\u200d\\U0001f468\\U0001f3fe|\\U0001f469\\u200d\\u2764\\u200d\\U0001f48b\\u200d\\U0001f468|\\U0001f468\\u200d\\u2764\\u200d\\U0001f48b\\u200d\\U0001f468|\\U0001f469\\u200d\\u2764\\u200d\\U0001f48b\\u200d\\U0001f469|\\U0001f468\\u200d\\U0001f469\\u200d\\U0001f467\\u200d\\U0001f466|\\U0001f468\\u200d\\U0001f469\\u200d\\U0001f466\\u200d\\U0001f466|\\U0001f468\\u200d\\U0001f469\\u200d\\U0001f467\\u200d\\U0001f467|\\U0001f468\\u200d\\U0001f468\\u200d\\U0001f467\\u200d\\U0001f466|\\U0001f468\\u200d\\U0001f468\\u200d\\U0001f466\\u200d\\U0001f466|\\U0001f468\\u200d\\U0001f468\\u200d\\U0001f467\\u200d\\U0001f467|\\U0001f469\\u200d\\U0001f469\\u200d\\U0001f467\\u200d\\U0001f466|\\U0001f469\\u200d\\U0001f469\\u200d\\U0001f466\\u200d\\U0001f466|\\U0001f469\\u200d\\U0001f469\\u200d\\U0001f467\\u200d\\U0001f467|\\U0001f3f4\\U000e0067\\U000e0062\\U000e0065\\U000e006e\\U000e0067\\U000e007f|\\U0001f3f4\\U000e0067\\U000e0062\\U000e0073\\U000e0063\\U000e0074\\U000e007f|\\U0001f3f4\\U000e0067\\U000e0062\\U000e0077\\U000e006c\\U000e0073\\U000e007f|\\U0001f469\\u200d\\u2764\\ufe0f\\u200d\\U0001f468|\\U0001f468\\u200d\\u2764\\ufe0f\\u200d\\U0001f468|\\U0001f469\\u200d\\u2764\\ufe0f\\u200d\\U0001f469|\\U0001f441\\ufe0f\\u200d\\U0001f5e8\\ufe0f|\\U0001f471\\U0001f3fb\\u200d\\u2642\\ufe0f|\\U0001f471\\U0001f3fc\\u200d\\u2642\\ufe0f|\\U0001f471\\U0001f3fd\\u200d\\u2642\\ufe0f|\\U0001f471\\U0001f3fe\\u200d\\u2642\\ufe0f|\\U0001f471\\U0001f3ff\\u200d\\u2642\\ufe0f|\\U0001f471\\U0001f3fb\\u200d\\u2640\\ufe0f|\\U0001f471\\U0001f3fc\\u200d\\u2640\\ufe0f|\\U0001f471\\U0001f3fd\\u200d\\u2640\\ufe0f|\\U0001f471\\U0001f3fe\\u200d\\u2640\\ufe0f|\\U0001f471\\U0001f3ff\\u200d\\u2640\\ufe0f|\\U0001f64d\\U0001f3fb\\u200d\\u2642\\ufe0f|\\U0001f64d\\U0001f3fc\\u200d\\u2642\\ufe0f|\\U0001f64d\\U0001f3fd\\u200d\\u2642\\ufe0f|\\U0001f64d\\U0001f3fe\\u200d\\u2642\\ufe0f|\\U0001f64d\\U0001f3ff\\u200d\\u2642\\ufe0f|\\U0001f64d\\U0001f3fb\\u200d\\u2640\\ufe0f|\\U0001f64d\\U0001f3fc\\u200d\\u2640\\ufe0f|\\U0001f64d\\U0001f3fd\\u200d\\u2640\\ufe0f|\\U0001f64d\\U0001f3fe\\u200d\\u2640\\ufe0f|\\U0001f64d\\U0001f3ff\\u200d\\u2640\\ufe0f|\\U0001f64e\\U0001f3fb\\u200d\\u2642\\ufe0f|\\U0001f64e\\U0001f3fc\\u200d\\u2642\\ufe0f|\\U0001f64e\\U0001f3fd\\u200d\\u2642\\ufe0f|\\U0001f64e\\U0001f3fe\\u200d\\u2642\\ufe0f|\\U0001f64e\\U0001f3ff\\u200d\\u2642\\ufe0f|\\U0001f64e\\U0001f3fb\\u200d\\u2640\\ufe0f|\\U0001f64e\\U0001f3fc\\u200d\\u2640\\ufe0f|\\U0001f64e\\U0001f3fd\\u200d\\u2640\\ufe0f|\\U0001f64e\\U0001f3fe\\u200d\\u2640\\ufe0f|\\U0001f64e\\U0001f3ff\\u200d\\u2640\\ufe0f|\\U0001f645\\U0001f3fb\\u200d\\u2642\\ufe0f|\\U0001f645\\U0001f3fc\\u200d\\u2642\\ufe0f|\\U0001f645\\U0001f3fd\\u200d\\u2642\\ufe0f|\\U0001f645\\U0001f3fe\\u200d\\u2642\\ufe0f|\\U0001f645\\U0001f3ff\\u200d\\u2642\\ufe0f|\\U0001f645\\U0001f3fb\\u200d\\u2640\\ufe0f|\\U0001f645\\U0001f3fc\\u200d\\u2640\\ufe0f|\\U0001f645\\U0001f3fd\\u200d\\u2640\\ufe0f|\\U0001f645\\U0001f3fe\\u200d\\u2640\\ufe0f|\\U0001f645\\U0001f3ff\\u200d\\u2640\\ufe0f|\\U0001f646\\U0001f3fb\\u200d\\u2642\\ufe0f|\\U0001f646\\U0001f3fc\\u200d\\u2642\\ufe0f|\\U0001f646\\U0001f3fd\\u200d\\u2642\\ufe0f|\\U0001f646\\U0001f3fe\\u200d\\u2642\\ufe0f|\\U0001f646\\U0001f3ff\\u200d\\u2642\\ufe0f|\\U0001f646\\U0001f3fb\\u200d\\u2640\\ufe0f|\\U0001f646\\U0001f3fc\\u200d\\u2640\\ufe0f|\\U0001f646\\U0001f3fd\\u200d\\u2640\\ufe0f|\\U0001f646\\U0001f3fe\\u200d\\u2640\\ufe0f|\\U0001f646\\U0001f3ff\\u200d\\u2640\\ufe0f|\\U0001f481\\U0001f3fb\\u200d\\u2642\\ufe0f|\\U0001f481\\U0001f3fc\\u200d\\u2642\\ufe0f|\\U0001f481\\U0001f3fd\\u200d\\u2642\\ufe0f|\\U0001f481\\U0001f3fe\\u200d\\u2642\\ufe0f|\\U0001f481\\U0001f3ff\\u200d\\u2642\\ufe0f|\\U0001f481\\U0001f3fb\\u200d\\u2640\\ufe0f|\\U0001f481\\U0001f3fc\\u200d\\u2640\\ufe0f|\\U0001f481\\U0001f3fd\\u200d\\u2640\\ufe0f|\\U0001f481\\U0001f3fe\\u200d\\u2640\\ufe0f|\\U0001f481\\U0001f3ff\\u200d\\u2640\\ufe0f|\\U0001f64b\\U0001f3fb\\u200d\\u2642\\ufe0f|\\U0001f64b\\U0001f3fc\\u200d\\u2642\\ufe0f|\\U0001f64b\\U0001f3fd\\u200d\\u2642\\ufe0f|\\U0001f64b\\U0001f3fe\\u200d\\u2642\\ufe0f|\\U0001f64b\\U0001f3ff\\u200d\\u2642\\ufe0f|\\U0001f64b\\U0001f3fb\\u200d\\u2640\\ufe0f|\\U0001f64b\\U0001f3fc\\u200d\\u2640\\ufe0f|\\U0001f64b\\U0001f3fd\\u200d\\u2640\\ufe0f|\\U0001f64b\\U0001f3fe\\u200d\\u2640\\ufe0f|\\U0001f64b\\U0001f3ff\\u200d\\u2640\\ufe0f|\\U0001f9cf\\U0001f3fb\\u200d\\u2642\\ufe0f|\\U0001f9cf\\U0001f3fc\\u200d\\u2642\\ufe0f|\\U0001f9cf\\U0001f3fd\\u200d\\u2642\\ufe0f|\\U0001f9cf\\U0001f3fe\\u200d\\u2642\\ufe0f|\\U0001f9cf\\U0001f3ff\\u200d\\u2642\\ufe0f|\\U0001f9cf\\U0001f3fb\\u200d\\u2640\\ufe0f|\\U0001f9cf\\U0001f3fc\\u200d\\u2640\\ufe0f|\\U0001f9cf\\U0001f3fd\\u200d\\u2640\\ufe0f|\\U0001f9cf\\U0001f3fe\\u200d\\u2640\\ufe0f|\\U0001f9cf\\U0001f3ff\\u200d\\u2640\\ufe0f|\\U0001f647\\U0001f3fb\\u200d\\u2642\\ufe0f|\\U0001f647\\U0001f3fc\\u200d\\u2642\\ufe0f|\\U0001f647\\U0001f3fd\\u200d\\u2642\\ufe0f|\\U0001f647\\U0001f3fe\\u200d\\u2642\\ufe0f|\\U0001f647\\U0001f3ff\\u200d\\u2642\\ufe0f|\\U0001f647\\U0001f3fb\\u200d\\u2640\\ufe0f|\\U0001f647\\U0001f3fc\\u200d\\u2640\\ufe0f|\\U0001f647\\U0001f3fd\\u200d\\u2640\\ufe0f|\\U0001f647\\U0001f3fe\\u200d\\u2640\\ufe0f|\\U0001f647\\U0001f3ff\\u200d\\u2640\\ufe0f|\\U0001f926\\U0001f3fb\\u200d\\u2642\\ufe0f|\\U0001f926\\U0001f3fc\\u200d\\u2642\\ufe0f|\\U0001f926\\U0001f3fd\\u200d\\u2642\\ufe0f|\\U0001f926\\U0001f3fe\\u200d\\u2642\\ufe0f|\\U0001f926\\U0001f3ff\\u200d\\u2642\\ufe0f|\\U0001f926\\U0001f3fb\\u200d\\u2640\\ufe0f|\\U0001f926\\U0001f3fc\\u200d\\u2640\\ufe0f|\\U0001f926\\U0001f3fd\\u200d\\u2640\\ufe0f|\\U0001f926\\U0001f3fe\\u200d\\u2640\\ufe0f|\\U0001f926\\U0001f3ff\\u200d\\u2640\\ufe0f|\\U0001f937\\U0001f3fb\\u200d\\u2642\\ufe0f|\\U0001f937\\U0001f3fc\\u200d\\u2642\\ufe0f|\\U0001f937\\U0001f3fd\\u200d\\u2642\\ufe0f|\\U0001f937\\U0001f3fe\\u200d\\u2642\\ufe0f|\\U0001f937\\U0001f3ff\\u200d\\u2642\\ufe0f|\\U0001f937\\U0001f3fb\\u200d\\u2640\\ufe0f|\\U0001f937\\U0001f3fc\\u200d\\u2640\\ufe0f|\\U0001f937\\U0001f3fd\\u200d\\u2640\\ufe0f|\\U0001f937\\U0001f3fe\\u200d\\u2640\\ufe0f|\\U0001f937\\U0001f3ff\\u200d\\u2640\\ufe0f|\\U0001f468\\U0001f3fb\\u200d\\u2695\\ufe0f|\\U0001f468\\U0001f3fc\\u200d\\u2695\\ufe0f|\\U0001f468\\U0001f3fd\\u200d\\u2695\\ufe0f|\\U0001f468\\U0001f3fe\\u200d\\u2695\\ufe0f|\\U0001f468\\U0001f3ff\\u200d\\u2695\\ufe0f|\\U0001f469\\U0001f3fb\\u200d\\u2695\\ufe0f|\\U0001f469\\U0001f3fc\\u200d\\u2695\\ufe0f|\\U0001f469\\U0001f3fd\\u200d\\u2695\\ufe0f|\\U0001f469\\U0001f3fe\\u200d\\u2695\\ufe0f|\\U0001f469\\U0001f3ff\\u200d\\u2695\\ufe0f|\\U0001f468\\U0001f3fb\\u200d\\u2696\\ufe0f|\\U0001f468\\U0001f3fc\\u200d\\u2696\\ufe0f|\\U0001f468\\U0001f3fd\\u200d\\u2696\\ufe0f|\\U0001f468\\U0001f3fe\\u200d\\u2696\\ufe0f|\\U0001f468\\U0001f3ff\\u200d\\u2696\\ufe0f|\\U0001f469\\U0001f3fb\\u200d\\u2696\\ufe0f|\\U0001f469\\U0001f3fc\\u200d\\u2696\\ufe0f|\\U0001f469\\U0001f3fd\\u200d\\u2696\\ufe0f|\\U0001f469\\U0001f3fe\\u200d\\u2696\\ufe0f|\\U0001f469\\U0001f3ff\\u200d\\u2696\\ufe0f|\\U0001f468\\U0001f3fb\\u200d\\u2708\\ufe0f|\\U0001f468\\U0001f3fc\\u200d\\u2708\\ufe0f|\\U0001f468\\U0001f3fd\\u200d\\u2708\\ufe0f|\\U0001f468\\U0001f3fe\\u200d\\u2708\\ufe0f|\\U0001f468\\U0001f3ff\\u200d\\u2708\\ufe0f|\\U0001f469\\U0001f3fb\\u200d\\u2708\\ufe0f|\\U0001f469\\U0001f3fc\\u200d\\u2708\\ufe0f|\\U0001f469\\U0001f3fd\\u200d\\u2708\\ufe0f|\\U0001f469\\U0001f3fe\\u200d\\u2708\\ufe0f|\\U0001f469\\U0001f3ff\\u200d\\u2708\\ufe0f|\\U0001f46e\\U0001f3fb\\u200d\\u2642\\ufe0f|\\U0001f46e\\U0001f3fc\\u200d\\u2642\\ufe0f|\\U0001f46e\\U0001f3fd\\u200d\\u2642\\ufe0f|\\U0001f46e\\U0001f3fe\\u200d\\u2642\\ufe0f|\\U0001f46e\\U0001f3ff\\u200d\\u2642\\ufe0f|\\U0001f46e\\U0001f3fb\\u200d\\u2640\\ufe0f|\\U0001f46e\\U0001f3fc\\u200d\\u2640\\ufe0f|\\U0001f46e\\U0001f3fd\\u200d\\u2640\\ufe0f|\\U0001f46e\\U0001f3fe\\u200d\\u2640\\ufe0f|\\U0001f46e\\U0001f3ff\\u200d\\u2640\\ufe0f|\\U0001f575\\ufe0f\\u200d\\u2642\\ufe0f|\\U0001f575\\U0001f3fb\\u200d\\u2642\\ufe0f|\\U0001f575\\U0001f3fc\\u200d\\u2642\\ufe0f|\\U0001f575\\U0001f3fd\\u200d\\u2642\\ufe0f|\\U0001f575\\U0001f3fe\\u200d\\u2642\\ufe0f|\\U0001f575\\U0001f3ff\\u200d\\u2642\\ufe0f|\\U0001f575\\ufe0f\\u200d\\u2640\\ufe0f|\\U0001f575\\U0001f3fb\\u200d\\u2640\\ufe0f|\\U0001f575\\U0001f3fc\\u200d\\u2640\\ufe0f|\\U0001f575\\U0001f3fd\\u200d\\u2640\\ufe0f|\\U0001f575\\U0001f3fe\\u200d\\u2640\\ufe0f|\\U0001f575\\U0001f3ff\\u200d\\u2640\\ufe0f|\\U0001f482\\U0001f3fb\\u200d\\u2642\\ufe0f|\\U0001f482\\U0001f3fc\\u200d\\u2642\\ufe0f|\\U0001f482\\U0001f3fd\\u200d\\u2642\\ufe0f|\\U0001f482\\U0001f3fe\\u200d\\u2642\\ufe0f|\\U0001f482\\U0001f3ff\\u200d\\u2642\\ufe0f|\\U0001f482\\U0001f3fb\\u200d\\u2640\\ufe0f|\\U0001f482\\U0001f3fc\\u200d\\u2640\\ufe0f|\\U0001f482\\U0001f3fd\\u200d\\u2640\\ufe0f|\\U0001f482\\U0001f3fe\\u200d\\u2640\\ufe0f|\\U0001f482\\U0001f3ff\\u200d\\u2640\\ufe0f|\\U0001f477\\U0001f3fb\\u200d\\u2642\\ufe0f|\\U0001f477\\U0001f3fc\\u200d\\u2642\\ufe0f|\\U0001f477\\U0001f3fd\\u200d\\u2642\\ufe0f|\\U0001f477\\U0001f3fe\\u200d\\u2642\\ufe0f|\\U0001f477\\U0001f3ff\\u200d\\u2642\\ufe0f|\\U0001f477\\U0001f3fb\\u200d\\u2640\\ufe0f|\\U0001f477\\U0001f3fc\\u200d\\u2640\\ufe0f|\\U0001f477\\U0001f3fd\\u200d\\u2640\\ufe0f|\\U0001f477\\U0001f3fe\\u200d\\u2640\\ufe0f|\\U0001f477\\U0001f3ff\\u200d\\u2640\\ufe0f|\\U0001f473\\U0001f3fb\\u200d\\u2642\\ufe0f|\\U0001f473\\U0001f3fc\\u200d\\u2642\\ufe0f|\\U0001f473\\U0001f3fd\\u200d\\u2642\\ufe0f|\\U0001f473\\U0001f3fe\\u200d\\u2642\\ufe0f|\\U0001f473\\U0001f3ff\\u200d\\u2642\\ufe0f|\\U0001f473\\U0001f3fb\\u200d\\u2640\\ufe0f|\\U0001f473\\U0001f3fc\\u200d\\u2640\\ufe0f|\\U0001f473\\U0001f3fd\\u200d\\u2640\\ufe0f|\\U0001f473\\U0001f3fe\\u200d\\u2640\\ufe0f|\\U0001f473\\U0001f3ff\\u200d\\u2640\\ufe0f|\\U0001f9b8\\U0001f3fb\\u200d\\u2642\\ufe0f|\\U0001f9b8\\U0001f3fc\\u200d\\u2642\\ufe0f|\\U0001f9b8\\U0001f3fd\\u200d\\u2642\\ufe0f|\\U0001f9b8\\U0001f3fe\\u200d\\u2642\\ufe0f|\\U0001f9b8\\U0001f3ff\\u200d\\u2642\\ufe0f|\\U0001f9b8\\U0001f3fb\\u200d\\u2640\\ufe0f|\\U0001f9b8\\U0001f3fc\\u200d\\u2640\\ufe0f|\\U0001f9b8\\U0001f3fd\\u200d\\u2640\\ufe0f|\\U0001f9b8\\U0001f3fe\\u200d\\u2640\\ufe0f|\\U0001f9b8\\U0001f3ff\\u200d\\u2640\\ufe0f|\\U0001f9b9\\U0001f3fb\\u200d\\u2642\\ufe0f|\\U0001f9b9\\U0001f3fc\\u200d\\u2642\\ufe0f|\\U0001f9b9\\U0001f3fd\\u200d\\u2642\\ufe0f|\\U0001f9b9\\U0001f3fe\\u200d\\u2642\\ufe0f|\\U0001f9b9\\U0001f3ff\\u200d\\u2642\\ufe0f|\\U0001f9b9\\U0001f3fb\\u200d\\u2640\\ufe0f|\\U0001f9b9\\U0001f3fc\\u200d\\u2640\\ufe0f|\\U0001f9b9\\U0001f3fd\\u200d\\u2640\\ufe0f|\\U0001f9b9\\U0001f3fe\\u200d\\u2640\\ufe0f|\\U0001f9b9\\U0001f3ff\\u200d\\u2640\\ufe0f|\\U0001f9d9\\U0001f3fb\\u200d\\u2642\\ufe0f|\\U0001f9d9\\U0001f3fc\\u200d\\u2642\\ufe0f|\\U0001f9d9\\U0001f3fd\\u200d\\u2642\\ufe0f|\\U0001f9d9\\U0001f3fe\\u200d\\u2642\\ufe0f|\\U0001f9d9\\U0001f3ff\\u200d\\u2642\\ufe0f|\\U0001f9d9\\U0001f3fb\\u200d\\u2640\\ufe0f|\\U0001f9d9\\U0001f3fc\\u200d\\u2640\\ufe0f|\\U0001f9d9\\U0001f3fd\\u200d\\u2640\\ufe0f|\\U0001f9d9\\U0001f3fe\\u200d\\u2640\\ufe0f|\\U0001f9d9\\U0001f3ff\\u200d\\u2640\\ufe0f|\\U0001f9da\\U0001f3fb\\u200d\\u2642\\ufe0f|\\U0001f9da\\U0001f3fc\\u200d\\u2642\\ufe0f|\\U0001f9da\\U0001f3fd\\u200d\\u2642\\ufe0f|\\U0001f9da\\U0001f3fe\\u200d\\u2642\\ufe0f|\\U0001f9da\\U0001f3ff\\u200d\\u2642\\ufe0f|\\U0001f9da\\U0001f3fb\\u200d\\u2640\\ufe0f|\\U0001f9da\\U0001f3fc\\u200d\\u2640\\ufe0f|\\U0001f9da\\U0001f3fd\\u200d\\u2640\\ufe0f|\\U0001f9da\\U0001f3fe\\u200d\\u2640\\ufe0f|\\U0001f9da\\U0001f3ff\\u200d\\u2640\\ufe0f|\\U0001f9db\\U0001f3fb\\u200d\\u2642\\ufe0f|\\U0001f9db\\U0001f3fc\\u200d\\u2642\\ufe0f|\\U0001f9db\\U0001f3fd\\u200d\\u2642\\ufe0f|\\U0001f9db\\U0001f3fe\\u200d\\u2642\\ufe0f|\\U0001f9db\\U0001f3ff\\u200d\\u2642\\ufe0f|\\U0001f9db\\U0001f3fb\\u200d\\u2640\\ufe0f|\\U0001f9db\\U0001f3fc\\u200d\\u2640\\ufe0f|\\U0001f9db\\U0001f3fd\\u200d\\u2640\\ufe0f|\\U0001f9db\\U0001f3fe\\u200d\\u2640\\ufe0f|\\U0001f9db\\U0001f3ff\\u200d\\u2640\\ufe0f|\\U0001f9dc\\U0001f3fb\\u200d\\u2642\\ufe0f|\\U0001f9dc\\U0001f3fc\\u200d\\u2642\\ufe0f|\\U0001f9dc\\U0001f3fd\\u200d\\u2642\\ufe0f|\\U0001f9dc\\U0001f3fe\\u200d\\u2642\\ufe0f|\\U0001f9dc\\U0001f3ff\\u200d\\u2642\\ufe0f|\\U0001f9dc\\U0001f3fb\\u200d\\u2640\\ufe0f|\\U0001f9dc\\U0001f3fc\\u200d\\u2640\\ufe0f|\\U0001f9dc\\U0001f3fd\\u200d\\u2640\\ufe0f|\\U0001f9dc\\U0001f3fe\\u200d\\u2640\\ufe0f|\\U0001f9dc\\U0001f3ff\\u200d\\u2640\\ufe0f|\\U0001f9dd\\U0001f3fb\\u200d\\u2642\\ufe0f|\\U0001f9dd\\U0001f3fc\\u200d\\u2642\\ufe0f|\\U0001f9dd\\U0001f3fd\\u200d\\u2642\\ufe0f|\\U0001f9dd\\U0001f3fe\\u200d\\u2642\\ufe0f|\\U0001f9dd\\U0001f3ff\\u200d\\u2642\\ufe0f|\\U0001f9dd\\U0001f3fb\\u200d\\u2640\\ufe0f|\\U0001f9dd\\U0001f3fc\\u200d\\u2640\\ufe0f|\\U0001f9dd\\U0001f3fd\\u200d\\u2640\\ufe0f|\\U0001f9dd\\U0001f3fe\\u200d\\u2640\\ufe0f|\\U0001f9dd\\U0001f3ff\\u200d\\u2640\\ufe0f|\\U0001f486\\U0001f3fb\\u200d\\u2642\\ufe0f|\\U0001f486\\U0001f3fc\\u200d\\u2642\\ufe0f|\\U0001f486\\U0001f3fd\\u200d\\u2642\\ufe0f|\\U0001f486\\U0001f3fe\\u200d\\u2642\\ufe0f|\\U0001f486\\U0001f3ff\\u200d\\u2642\\ufe0f|\\U0001f486\\U0001f3fb\\u200d\\u2640\\ufe0f|\\U0001f486\\U0001f3fc\\u200d\\u2640\\ufe0f|\\U0001f486\\U0001f3fd\\u200d\\u2640\\ufe0f|\\U0001f486\\U0001f3fe\\u200d\\u2640\\ufe0f|\\U0001f486\\U0001f3ff\\u200d\\u2640\\ufe0f|\\U0001f487\\U0001f3fb\\u200d\\u2642\\ufe0f|\\U0001f487\\U0001f3fc\\u200d\\u2642\\ufe0f|\\U0001f487\\U0001f3fd\\u200d\\u2642\\ufe0f|\\U0001f487\\U0001f3fe\\u200d\\u2642\\ufe0f|\\U0001f487\\U0001f3ff\\u200d\\u2642\\ufe0f|\\U0001f487\\U0001f3fb\\u200d\\u2640\\ufe0f|\\U0001f487\\U0001f3fc\\u200d\\u2640\\ufe0f|\\U0001f487\\U0001f3fd\\u200d\\u2640\\ufe0f|\\U0001f487\\U0001f3fe\\u200d\\u2640\\ufe0f|\\U0001f487\\U0001f3ff\\u200d\\u2640\\ufe0f|\\U0001f6b6\\U0001f3fb\\u200d\\u2642\\ufe0f|\\U0001f6b6\\U0001f3fc\\u200d\\u2642\\ufe0f|\\U0001f6b6\\U0001f3fd\\u200d\\u2642\\ufe0f|\\U0001f6b6\\U0001f3fe\\u200d\\u2642\\ufe0f|\\U0001f6b6\\U0001f3ff\\u200d\\u2642\\ufe0f|\\U0001f6b6\\U0001f3fb\\u200d\\u2640\\ufe0f|\\U0001f6b6\\U0001f3fc\\u200d\\u2640\\ufe0f|\\U0001f6b6\\U0001f3fd\\u200d\\u2640\\ufe0f|\\U0001f6b6\\U0001f3fe\\u200d\\u2640\\ufe0f|\\U0001f6b6\\U0001f3ff\\u200d\\u2640\\ufe0f|\\U0001f9cd\\U0001f3fb\\u200d\\u2642\\ufe0f|\\U0001f9cd\\U0001f3fc\\u200d\\u2642\\ufe0f|\\U0001f9cd\\U0001f3fd\\u200d\\u2642\\ufe0f|\\U0001f9cd\\U0001f3fe\\u200d\\u2642\\ufe0f|\\U0001f9cd\\U0001f3ff\\u200d\\u2642\\ufe0f|\\U0001f9cd\\U0001f3fb\\u200d\\u2640\\ufe0f|\\U0001f9cd\\U0001f3fc\\u200d\\u2640\\ufe0f|\\U0001f9cd\\U0001f3fd\\u200d\\u2640\\ufe0f|\\U0001f9cd\\U0001f3fe\\u200d\\u2640\\ufe0f|\\U0001f9cd\\U0001f3ff\\u200d\\u2640\\ufe0f|\\U0001f9ce\\U0001f3fb\\u200d\\u2642\\ufe0f|\\U0001f9ce\\U0001f3fc\\u200d\\u2642\\ufe0f|\\U0001f9ce\\U0001f3fd\\u200d\\u2642\\ufe0f|\\U0001f9ce\\U0001f3fe\\u200d\\u2642\\ufe0f|\\U0001f9ce\\U0001f3ff\\u200d\\u2642\\ufe0f|\\U0001f9ce\\U0001f3fb\\u200d\\u2640\\ufe0f|\\U0001f9ce\\U0001f3fc\\u200d\\u2640\\ufe0f|\\U0001f9ce\\U0001f3fd\\u200d\\u2640\\ufe0f|\\U0001f9ce\\U0001f3fe\\u200d\\u2640\\ufe0f|\\U0001f9ce\\U0001f3ff\\u200d\\u2640\\ufe0f|\\U0001f3c3\\U0001f3fb\\u200d\\u2642\\ufe0f|\\U0001f3c3\\U0001f3fc\\u200d\\u2642\\ufe0f|\\U0001f3c3\\U0001f3fd\\u200d\\u2642\\ufe0f|\\U0001f3c3\\U0001f3fe\\u200d\\u2642\\ufe0f|\\U0001f3c3\\U0001f3ff\\u200d\\u2642\\ufe0f|\\U0001f3c3\\U0001f3fb\\u200d\\u2640\\ufe0f|\\U0001f3c3\\U0001f3fc\\u200d\\u2640\\ufe0f|\\U0001f3c3\\U0001f3fd\\u200d\\u2640\\ufe0f|\\U0001f3c3\\U0001f3fe\\u200d\\u2640\\ufe0f|\\U0001f3c3\\U0001f3ff\\u200d\\u2640\\ufe0f|\\U0001f9d6\\U0001f3fb\\u200d\\u2642\\ufe0f|\\U0001f9d6\\U0001f3fc\\u200d\\u2642\\ufe0f|\\U0001f9d6\\U0001f3fd\\u200d\\u2642\\ufe0f|\\U0001f9d6\\U0001f3fe\\u200d\\u2642\\ufe0f|\\U0001f9d6\\U0001f3ff\\u200d\\u2642\\ufe0f|\\U0001f9d6\\U0001f3fb\\u200d\\u2640\\ufe0f|\\U0001f9d6\\U0001f3fc\\u200d\\u2640\\ufe0f|\\U0001f9d6\\U0001f3fd\\u200d\\u2640\\ufe0f|\\U0001f9d6\\U0001f3fe\\u200d\\u2640\\ufe0f|\\U0001f9d6\\U0001f3ff\\u200d\\u2640\\ufe0f|\\U0001f9d7\\U0001f3fb\\u200d\\u2642\\ufe0f|\\U0001f9d7\\U0001f3fc\\u200d\\u2642\\ufe0f|\\U0001f9d7\\U0001f3fd\\u200d\\u2642\\ufe0f|\\U0001f9d7\\U0001f3fe\\u200d\\u2642\\ufe0f|\\U0001f9d7\\U0001f3ff\\u200d\\u2642\\ufe0f|\\U0001f9d7\\U0001f3fb\\u200d\\u2640\\ufe0f|\\U0001f9d7\\U0001f3fc\\u200d\\u2640\\ufe0f|\\U0001f9d7\\U0001f3fd\\u200d\\u2640\\ufe0f|\\U0001f9d7\\U0001f3fe\\u200d\\u2640\\ufe0f|\\U0001f9d7\\U0001f3ff\\u200d\\u2640\\ufe0f|\\U0001f3cc\\ufe0f\\u200d\\u2642\\ufe0f|\\U0001f3cc\\U0001f3fb\\u200d\\u2642\\ufe0f|\\U0001f3cc\\U0001f3fc\\u200d\\u2642\\ufe0f|\\U0001f3cc\\U0001f3fd\\u200d\\u2642\\ufe0f|\\U0001f3cc\\U0001f3fe\\u200d\\u2642\\ufe0f|\\U0001f3cc\\U0001f3ff\\u200d\\u2642\\ufe0f|\\U0001f3cc\\ufe0f\\u200d\\u2640\\ufe0f|\\U0001f3cc\\U0001f3fb\\u200d\\u2640\\ufe0f|\\U0001f3cc\\U0001f3fc\\u200d\\u2640\\ufe0f|\\U0001f3cc\\U0001f3fd\\u200d\\u2640\\ufe0f|\\U0001f3cc\\U0001f3fe\\u200d\\u2640\\ufe0f|\\U0001f3cc\\U0001f3ff\\u200d\\u2640\\ufe0f|\\U0001f3c4\\U0001f3fb\\u200d\\u2642\\ufe0f|\\U0001f3c4\\U0001f3fc\\u200d\\u2642\\ufe0f|\\U0001f3c4\\U0001f3fd\\u200d\\u2642\\ufe0f|\\U0001f3c4\\U0001f3fe\\u200d\\u2642\\ufe0f|\\U0001f3c4\\U0001f3ff\\u200d\\u2642\\ufe0f|\\U0001f3c4\\U0001f3fb\\u200d\\u2640\\ufe0f|\\U0001f3c4\\U0001f3fc\\u200d\\u2640\\ufe0f|\\U0001f3c4\\U0001f3fd\\u200d\\u2640\\ufe0f|\\U0001f3c4\\U0001f3fe\\u200d\\u2640\\ufe0f|\\U0001f3c4\\U0001f3ff\\u200d\\u2640\\ufe0f|\\U0001f6a3\\U0001f3fb\\u200d\\u2642\\ufe0f|\\U0001f6a3\\U0001f3fc\\u200d\\u2642\\ufe0f|\\U0001f6a3\\U0001f3fd\\u200d\\u2642\\ufe0f|\\U0001f6a3\\U0001f3fe\\u200d\\u2642\\ufe0f|\\U0001f6a3\\U0001f3ff\\u200d\\u2642\\ufe0f|\\U0001f6a3\\U0001f3fb\\u200d\\u2640\\ufe0f|\\U0001f6a3\\U0001f3fc\\u200d\\u2640\\ufe0f|\\U0001f6a3\\U0001f3fd\\u200d\\u2640\\ufe0f|\\U0001f6a3\\U0001f3fe\\u200d\\u2640\\ufe0f|\\U0001f6a3\\U0001f3ff\\u200d\\u2640\\ufe0f|\\U0001f3ca\\U0001f3fb\\u200d\\u2642\\ufe0f|\\U0001f3ca\\U0001f3fc\\u200d\\u2642\\ufe0f|\\U0001f3ca\\U0001f3fd\\u200d\\u2642\\ufe0f|\\U0001f3ca\\U0001f3fe\\u200d\\u2642\\ufe0f|\\U0001f3ca\\U0001f3ff\\u200d\\u2642\\ufe0f|\\U0001f3ca\\U0001f3fb\\u200d\\u2640\\ufe0f|\\U0001f3ca\\U0001f3fc\\u200d\\u2640\\ufe0f|\\U0001f3ca\\U0001f3fd\\u200d\\u2640\\ufe0f|\\U0001f3ca\\U0001f3fe\\u200d\\u2640\\ufe0f|\\U0001f3ca\\U0001f3ff\\u200d\\u2640\\ufe0f|\\u26f9\\ufe0f\\u200d\\u2642\\ufe0f|\\u26f9\\U0001f3fb\\u200d\\u2642\\ufe0f|\\u26f9\\U0001f3fc\\u200d\\u2642\\ufe0f|\\u26f9\\U0001f3fd\\u200d\\u2642\\ufe0f|\\u26f9\\U0001f3fe\\u200d\\u2642\\ufe0f|\\u26f9\\U0001f3ff\\u200d\\u2642\\ufe0f|\\u26f9\\ufe0f\\u200d\\u2640\\ufe0f|\\u26f9\\U0001f3fb\\u200d\\u2640\\ufe0f|\\u26f9\\U0001f3fc\\u200d\\u2640\\ufe0f|\\u26f9\\U0001f3fd\\u200d\\u2640\\ufe0f|\\u26f9\\U0001f3fe\\u200d\\u2640\\ufe0f|\\u26f9\\U0001f3ff\\u200d\\u2640\\ufe0f|\\U0001f3cb\\ufe0f\\u200d\\u2642\\ufe0f|\\U0001f3cb\\U0001f3fb\\u200d\\u2642\\ufe0f|\\U0001f3cb\\U0001f3fc\\u200d\\u2642\\ufe0f|\\U0001f3cb\\U0001f3fd\\u200d\\u2642\\ufe0f|\\U0001f3cb\\U0001f3fe\\u200d\\u2642\\ufe0f|\\U0001f3cb\\U0001f3ff\\u200d\\u2642\\ufe0f|\\U0001f3cb\\ufe0f\\u200d\\u2640\\ufe0f|\\U0001f3cb\\U0001f3fb\\u200d\\u2640\\ufe0f|\\U0001f3cb\\U0001f3fc\\u200d\\u2640\\ufe0f|\\U0001f3cb\\U0001f3fd\\u200d\\u2640\\ufe0f|\\U0001f3cb\\U0001f3fe\\u200d\\u2640\\ufe0f|\\U0001f3cb\\U0001f3ff\\u200d\\u2640\\ufe0f|\\U0001f6b4\\U0001f3fb\\u200d\\u2642\\ufe0f|\\U0001f6b4\\U0001f3fc\\u200d\\u2642\\ufe0f|\\U0001f6b4\\U0001f3fd\\u200d\\u2642\\ufe0f|\\U0001f6b4\\U0001f3fe\\u200d\\u2642\\ufe0f|\\U0001f6b4\\U0001f3ff\\u200d\\u2642\\ufe0f|\\U0001f6b4\\U0001f3fb\\u200d\\u2640\\ufe0f|\\U0001f6b4\\U0001f3fc\\u200d\\u2640\\ufe0f|\\U0001f6b4\\U0001f3fd\\u200d\\u2640\\ufe0f|\\U0001f6b4\\U0001f3fe\\u200d\\u2640\\ufe0f|\\U0001f6b4\\U0001f3ff\\u200d\\u2640\\ufe0f|\\U0001f6b5\\U0001f3fb\\u200d\\u2642\\ufe0f|\\U0001f6b5\\U0001f3fc\\u200d\\u2642\\ufe0f|\\U0001f6b5\\U0001f3fd\\u200d\\u2642\\ufe0f|\\U0001f6b5\\U0001f3fe\\u200d\\u2642\\ufe0f|\\U0001f6b5\\U0001f3ff\\u200d\\u2642\\ufe0f|\\U0001f6b5\\U0001f3fb\\u200d\\u2640\\ufe0f|\\U0001f6b5\\U0001f3fc\\u200d\\u2640\\ufe0f|\\U0001f6b5\\U0001f3fd\\u200d\\u2640\\ufe0f|\\U0001f6b5\\U0001f3fe\\u200d\\u2640\\ufe0f|\\U0001f6b5\\U0001f3ff\\u200d\\u2640\\ufe0f|\\U0001f938\\U0001f3fb\\u200d\\u2642\\ufe0f|\\U0001f938\\U0001f3fc\\u200d\\u2642\\ufe0f|\\U0001f938\\U0001f3fd\\u200d\\u2642\\ufe0f|\\U0001f938\\U0001f3fe\\u200d\\u2642\\ufe0f|\\U0001f938\\U0001f3ff\\u200d\\u2642\\ufe0f|\\U0001f938\\U0001f3fb\\u200d\\u2640\\ufe0f|\\U0001f938\\U0001f3fc\\u200d\\u2640\\ufe0f|\\U0001f938\\U0001f3fd\\u200d\\u2640\\ufe0f|\\U0001f938\\U0001f3fe\\u200d\\u2640\\ufe0f|\\U0001f938\\U0001f3ff\\u200d\\u2640\\ufe0f|\\U0001f93d\\U0001f3fb\\u200d\\u2642\\ufe0f|\\U0001f93d\\U0001f3fc\\u200d\\u2642\\ufe0f|\\U0001f93d\\U0001f3fd\\u200d\\u2642\\ufe0f|\\U0001f93d\\U0001f3fe\\u200d\\u2642\\ufe0f|\\U0001f93d\\U0001f3ff\\u200d\\u2642\\ufe0f|\\U0001f93d\\U0001f3fb\\u200d\\u2640\\ufe0f|\\U0001f93d\\U0001f3fc\\u200d\\u2640\\ufe0f|\\U0001f93d\\U0001f3fd\\u200d\\u2640\\ufe0f|\\U0001f93d\\U0001f3fe\\u200d\\u2640\\ufe0f|\\U0001f93d\\U0001f3ff\\u200d\\u2640\\ufe0f|\\U0001f93e\\U0001f3fb\\u200d\\u2642\\ufe0f|\\U0001f93e\\U0001f3fc\\u200d\\u2642\\ufe0f|\\U0001f93e\\U0001f3fd\\u200d\\u2642\\ufe0f|\\U0001f93e\\U0001f3fe\\u200d\\u2642\\ufe0f|\\U0001f93e\\U0001f3ff\\u200d\\u2642\\ufe0f|\\U0001f93e\\U0001f3fb\\u200d\\u2640\\ufe0f|\\U0001f93e\\U0001f3fc\\u200d\\u2640\\ufe0f|\\U0001f93e\\U0001f3fd\\u200d\\u2640\\ufe0f|\\U0001f93e\\U0001f3fe\\u200d\\u2640\\ufe0f|\\U0001f93e\\U0001f3ff\\u200d\\u2640\\ufe0f|\\U0001f939\\U0001f3fb\\u200d\\u2642\\ufe0f|\\U0001f939\\U0001f3fc\\u200d\\u2642\\ufe0f|\\U0001f939\\U0001f3fd\\u200d\\u2642\\ufe0f|\\U0001f939\\U0001f3fe\\u200d\\u2642\\ufe0f|\\U0001f939\\U0001f3ff\\u200d\\u2642\\ufe0f|\\U0001f939\\U0001f3fb\\u200d\\u2640\\ufe0f|\\U0001f939\\U0001f3fc\\u200d\\u2640\\ufe0f|\\U0001f939\\U0001f3fd\\u200d\\u2640\\ufe0f|\\U0001f939\\U0001f3fe\\u200d\\u2640\\ufe0f|\\U0001f939\\U0001f3ff\\u200d\\u2640\\ufe0f|\\U0001f9d8\\U0001f3fb\\u200d\\u2642\\ufe0f|\\U0001f9d8\\U0001f3fc\\u200d\\u2642\\ufe0f|\\U0001f9d8\\U0001f3fd\\u200d\\u2642\\ufe0f|\\U0001f9d8\\U0001f3fe\\u200d\\u2642\\ufe0f|\\U0001f9d8\\U0001f3ff\\u200d\\u2642\\ufe0f|\\U0001f9d8\\U0001f3fb\\u200d\\u2640\\ufe0f|\\U0001f9d8\\U0001f3fc\\u200d\\u2640\\ufe0f|\\U0001f9d8\\U0001f3fd\\u200d\\u2640\\ufe0f|\\U0001f9d8\\U0001f3fe\\u200d\\u2640\\ufe0f|\\U0001f9d8\\U0001f3ff\\u200d\\u2640\\ufe0f|\\U0001f9d1\\u200d\\U0001f91d\\u200d\\U0001f9d1|\\U0001f469\\u200d\\u2764\\u200d\\U0001f468|\\U0001f468\\u200d\\u2764\\u200d\\U0001f468|\\U0001f469\\u200d\\u2764\\u200d\\U0001f469|\\U0001f468\\u200d\\U0001f469\\u200d\\U0001f466|\\U0001f468\\u200d\\U0001f469\\u200d\\U0001f467|\\U0001f468\\u200d\\U0001f468\\u200d\\U0001f466|\\U0001f468\\u200d\\U0001f468\\u200d\\U0001f467|\\U0001f469\\u200d\\U0001f469\\u200d\\U0001f466|\\U0001f469\\u200d\\U0001f469\\u200d\\U0001f467|\\U0001f468\\u200d\\U0001f466\\u200d\\U0001f466|\\U0001f468\\u200d\\U0001f467\\u200d\\U0001f466|\\U0001f468\\u200d\\U0001f467\\u200d\\U0001f467|\\U0001f469\\u200d\\U0001f466\\u200d\\U0001f466|\\U0001f469\\u200d\\U0001f467\\u200d\\U0001f466|\\U0001f469\\u200d\\U0001f467\\u200d\\U0001f467|\\U0001f441\\u200d\\U0001f5e8\\ufe0f|\\U0001f441\\ufe0f\\u200d\\U0001f5e8|\\U0001f471\\u200d\\u2642\\ufe0f|\\U0001f471\\U0001f3fb\\u200d\\u2642|\\U0001f471\\U0001f3fc\\u200d\\u2642|\\U0001f471\\U0001f3fd\\u200d\\u2642|\\U0001f471\\U0001f3fe\\u200d\\u2642|\\U0001f471\\U0001f3ff\\u200d\\u2642|\\U0001f468\\U0001f3fb\\u200d\\U0001f9b0|\\U0001f468\\U0001f3fc\\u200d\\U0001f9b0|\\U0001f468\\U0001f3fd\\u200d\\U0001f9b0|\\U0001f468\\U0001f3fe\\u200d\\U0001f9b0|\\U0001f468\\U0001f3ff\\u200d\\U0001f9b0|\\U0001f468\\U0001f3fb\\u200d\\U0001f9b1|\\U0001f468\\U0001f3fc\\u200d\\U0001f9b1|\\U0001f468\\U0001f3fd\\u200d\\U0001f9b1|\\U0001f468\\U0001f3fe\\u200d\\U0001f9b1|\\U0001f468\\U0001f3ff\\u200d\\U0001f9b1|\\U0001f468\\U0001f3fb\\u200d\\U0001f9b3|\\U0001f468\\U0001f3fc\\u200d\\U0001f9b3|\\U0001f468\\U0001f3fd\\u200d\\U0001f9b3|\\U0001f468\\U0001f3fe\\u200d\\U0001f9b3|\\U0001f468\\U0001f3ff\\u200d\\U0001f9b3|\\U0001f468\\U0001f3fb\\u200d\\U0001f9b2|\\U0001f468\\U0001f3fc\\u200d\\U0001f9b2|\\U0001f468\\U0001f3fd\\u200d\\U0001f9b2|\\U0001f468\\U0001f3fe\\u200d\\U0001f9b2|\\U0001f468\\U0001f3ff\\u200d\\U0001f9b2|\\U0001f471\\u200d\\u2640\\ufe0f|\\U0001f471\\U0001f3fb\\u200d\\u2640|\\U0001f471\\U0001f3fc\\u200d\\u2640|\\U0001f471\\U0001f3fd\\u200d\\u2640|\\U0001f471\\U0001f3fe\\u200d\\u2640|\\U0001f471\\U0001f3ff\\u200d\\u2640|\\U0001f469\\U0001f3fb\\u200d\\U0001f9b0|\\U0001f469\\U0001f3fc\\u200d\\U0001f9b0|\\U0001f469\\U0001f3fd\\u200d\\U0001f9b0|\\U0001f469\\U0001f3fe\\u200d\\U0001f9b0|\\U0001f469\\U0001f3ff\\u200d\\U0001f9b0|\\U0001f469\\U0001f3fb\\u200d\\U0001f9b1|\\U0001f469\\U0001f3fc\\u200d\\U0001f9b1|\\U0001f469\\U0001f3fd\\u200d\\U0001f9b1|\\U0001f469\\U0001f3fe\\u200d\\U0001f9b1|\\U0001f469\\U0001f3ff\\u200d\\U0001f9b1|\\U0001f469\\U0001f3fb\\u200d\\U0001f9b3|\\U0001f469\\U0001f3fc\\u200d\\U0001f9b3|\\U0001f469\\U0001f3fd\\u200d\\U0001f9b3|\\U0001f469\\U0001f3fe\\u200d\\U0001f9b3|\\U0001f469\\U0001f3ff\\u200d\\U0001f9b3|\\U0001f469\\U0001f3fb\\u200d\\U0001f9b2|\\U0001f469\\U0001f3fc\\u200d\\U0001f9b2|\\U0001f469\\U0001f3fd\\u200d\\U0001f9b2|\\U0001f469\\U0001f3fe\\u200d\\U0001f9b2|\\U0001f469\\U0001f3ff\\u200d\\U0001f9b2|\\U0001f64d\\u200d\\u2642\\ufe0f|\\U0001f64d\\U0001f3fb\\u200d\\u2642|\\U0001f64d\\U0001f3fc\\u200d\\u2642|\\U0001f64d\\U0001f3fd\\u200d\\u2642|\\U0001f64d\\U0001f3fe\\u200d\\u2642|\\U0001f64d\\U0001f3ff\\u200d\\u2642|\\U0001f64d\\u200d\\u2640\\ufe0f|\\U0001f64d\\U0001f3fb\\u200d\\u2640|\\U0001f64d\\U0001f3fc\\u200d\\u2640|\\U0001f64d\\U0001f3fd\\u200d\\u2640|\\U0001f64d\\U0001f3fe\\u200d\\u2640|\\U0001f64d\\U0001f3ff\\u200d\\u2640|\\U0001f64e\\u200d\\u2642\\ufe0f|\\U0001f64e\\U0001f3fb\\u200d\\u2642|\\U0001f64e\\U0001f3fc\\u200d\\u2642|\\U0001f64e\\U0001f3fd\\u200d\\u2642|\\U0001f64e\\U0001f3fe\\u200d\\u2642|\\U0001f64e\\U0001f3ff\\u200d\\u2642|\\U0001f64e\\u200d\\u2640\\ufe0f|\\U0001f64e\\U0001f3fb\\u200d\\u2640|\\U0001f64e\\U0001f3fc\\u200d\\u2640|\\U0001f64e\\U0001f3fd\\u200d\\u2640|\\U0001f64e\\U0001f3fe\\u200d\\u2640|\\U0001f64e\\U0001f3ff\\u200d\\u2640|\\U0001f645\\u200d\\u2642\\ufe0f|\\U0001f645\\U0001f3fb\\u200d\\u2642|\\U0001f645\\U0001f3fc\\u200d\\u2642|\\U0001f645\\U0001f3fd\\u200d\\u2642|\\U0001f645\\U0001f3fe\\u200d\\u2642|\\U0001f645\\U0001f3ff\\u200d\\u2642|\\U0001f645\\u200d\\u2640\\ufe0f|\\U0001f645\\U0001f3fb\\u200d\\u2640|\\U0001f645\\U0001f3fc\\u200d\\u2640|\\U0001f645\\U0001f3fd\\u200d\\u2640|\\U0001f645\\U0001f3fe\\u200d\\u2640|\\U0001f645\\U0001f3ff\\u200d\\u2640|\\U0001f646\\u200d\\u2642\\ufe0f|\\U0001f646\\U0001f3fb\\u200d\\u2642|\\U0001f646\\U0001f3fc\\u200d\\u2642|\\U0001f646\\U0001f3fd\\u200d\\u2642|\\U0001f646\\U0001f3fe\\u200d\\u2642|\\U0001f646\\U0001f3ff\\u200d\\u2642|\\U0001f646\\u200d\\u2640\\ufe0f|\\U0001f646\\U0001f3fb\\u200d\\u2640|\\U0001f646\\U0001f3fc\\u200d\\u2640|\\U0001f646\\U0001f3fd\\u200d\\u2640|\\U0001f646\\U0001f3fe\\u200d\\u2640|\\U0001f646\\U0001f3ff\\u200d\\u2640|\\U0001f481\\u200d\\u2642\\ufe0f|\\U0001f481\\U0001f3fb\\u200d\\u2642|\\U0001f481\\U0001f3fc\\u200d\\u2642|\\U0001f481\\U0001f3fd\\u200d\\u2642|\\U0001f481\\U0001f3fe\\u200d\\u2642|\\U0001f481\\U0001f3ff\\u200d\\u2642|\\U0001f481\\u200d\\u2640\\ufe0f|\\U0001f481\\U0001f3fb\\u200d\\u2640|\\U0001f481\\U0001f3fc\\u200d\\u2640|\\U0001f481\\U0001f3fd\\u200d\\u2640|\\U0001f481\\U0001f3fe\\u200d\\u2640|\\U0001f481\\U0001f3ff\\u200d\\u2640|\\U0001f64b\\u200d\\u2642\\ufe0f|\\U0001f64b\\U0001f3fb\\u200d\\u2642|\\U0001f64b\\U0001f3fc\\u200d\\u2642|\\U0001f64b\\U0001f3fd\\u200d\\u2642|\\U0001f64b\\U0001f3fe\\u200d\\u2642|\\U0001f64b\\U0001f3ff\\u200d\\u2642|\\U0001f64b\\u200d\\u2640\\ufe0f|\\U0001f64b\\U0001f3fb\\u200d\\u2640|\\U0001f64b\\U0001f3fc\\u200d\\u2640|\\U0001f64b\\U0001f3fd\\u200d\\u2640|\\U0001f64b\\U0001f3fe\\u200d\\u2640|\\U0001f64b\\U0001f3ff\\u200d\\u2640|\\U0001f9cf\\u200d\\u2642\\ufe0f|\\U0001f9cf\\U0001f3fb\\u200d\\u2642|\\U0001f9cf\\U0001f3fc\\u200d\\u2642|\\U0001f9cf\\U0001f3fd\\u200d\\u2642|\\U0001f9cf\\U0001f3fe\\u200d\\u2642|\\U0001f9cf\\U0001f3ff\\u200d\\u2642|\\U0001f9cf\\u200d\\u2640\\ufe0f|\\U0001f9cf\\U0001f3fb\\u200d\\u2640|\\U0001f9cf\\U0001f3fc\\u200d\\u2640|\\U0001f9cf\\U0001f3fd\\u200d\\u2640|\\U0001f9cf\\U0001f3fe\\u200d\\u2640|\\U0001f9cf\\U0001f3ff\\u200d\\u2640|\\U0001f647\\u200d\\u2642\\ufe0f|\\U0001f647\\U0001f3fb\\u200d\\u2642|\\U0001f647\\U0001f3fc\\u200d\\u2642|\\U0001f647\\U0001f3fd\\u200d\\u2642|\\U0001f647\\U0001f3fe\\u200d\\u2642|\\U0001f647\\U0001f3ff\\u200d\\u2642|\\U0001f647\\u200d\\u2640\\ufe0f|\\U0001f647\\U0001f3fb\\u200d\\u2640|\\U0001f647\\U0001f3fc\\u200d\\u2640|\\U0001f647\\U0001f3fd\\u200d\\u2640|\\U0001f647\\U0001f3fe\\u200d\\u2640|\\U0001f647\\U0001f3ff\\u200d\\u2640|\\U0001f926\\u200d\\u2642\\ufe0f|\\U0001f926\\U0001f3fb\\u200d\\u2642|\\U0001f926\\U0001f3fc\\u200d\\u2642|\\U0001f926\\U0001f3fd\\u200d\\u2642|\\U0001f926\\U0001f3fe\\u200d\\u2642|\\U0001f926\\U0001f3ff\\u200d\\u2642|\\U0001f926\\u200d\\u2640\\ufe0f|\\U0001f926\\U0001f3fb\\u200d\\u2640|\\U0001f926\\U0001f3fc\\u200d\\u2640|\\U0001f926\\U0001f3fd\\u200d\\u2640|\\U0001f926\\U0001f3fe\\u200d\\u2640|\\U0001f926\\U0001f3ff\\u200d\\u2640|\\U0001f937\\u200d\\u2642\\ufe0f|\\U0001f937\\U0001f3fb\\u200d\\u2642|\\U0001f937\\U0001f3fc\\u200d\\u2642|\\U0001f937\\U0001f3fd\\u200d\\u2642|\\U0001f937\\U0001f3fe\\u200d\\u2642|\\U0001f937\\U0001f3ff\\u200d\\u2642|\\U0001f937\\u200d\\u2640\\ufe0f|\\U0001f937\\U0001f3fb\\u200d\\u2640|\\U0001f937\\U0001f3fc\\u200d\\u2640|\\U0001f937\\U0001f3fd\\u200d\\u2640|\\U0001f937\\U0001f3fe\\u200d\\u2640|\\U0001f937\\U0001f3ff\\u200d\\u2640|\\U0001f468\\u200d\\u2695\\ufe0f|\\U0001f468\\U0001f3fb\\u200d\\u2695|\\U0001f468\\U0001f3fc\\u200d\\u2695|\\U0001f468\\U0001f3fd\\u200d\\u2695|\\U0001f468\\U0001f3fe\\u200d\\u2695|\\U0001f468\\U0001f3ff\\u200d\\u2695|\\U0001f469\\u200d\\u2695\\ufe0f|\\U0001f469\\U0001f3fb\\u200d\\u2695|\\U0001f469\\U0001f3fc\\u200d\\u2695|\\U0001f469\\U0001f3fd\\u200d\\u2695|\\U0001f469\\U0001f3fe\\u200d\\u2695|\\U0001f469\\U0001f3ff\\u200d\\u2695|\\U0001f468\\U0001f3fb\\u200d\\U0001f393|\\U0001f468\\U0001f3fc\\u200d\\U0001f393|\\U0001f468\\U0001f3fd\\u200d\\U0001f393|\\U0001f468\\U0001f3fe\\u200d\\U0001f393|\\U0001f468\\U0001f3ff\\u200d\\U0001f393|\\U0001f469\\U0001f3fb\\u200d\\U0001f393|\\U0001f469\\U0001f3fc\\u200d\\U0001f393|\\U0001f469\\U0001f3fd\\u200d\\U0001f393|\\U0001f469\\U0001f3fe\\u200d\\U0001f393|\\U0001f469\\U0001f3ff\\u200d\\U0001f393|\\U0001f468\\U0001f3fb\\u200d\\U0001f3eb|\\U0001f468\\U0001f3fc\\u200d\\U0001f3eb|\\U0001f468\\U0001f3fd\\u200d\\U0001f3eb|\\U0001f468\\U0001f3fe\\u200d\\U0001f3eb|\\U0001f468\\U0001f3ff\\u200d\\U0001f3eb|\\U0001f469\\U0001f3fb\\u200d\\U0001f3eb|\\U0001f469\\U0001f3fc\\u200d\\U0001f3eb|\\U0001f469\\U0001f3fd\\u200d\\U0001f3eb|\\U0001f469\\U0001f3fe\\u200d\\U0001f3eb|\\U0001f469\\U0001f3ff\\u200d\\U0001f3eb|\\U0001f468\\u200d\\u2696\\ufe0f|\\U0001f468\\U0001f3fb\\u200d\\u2696|\\U0001f468\\U0001f3fc\\u200d\\u2696|\\U0001f468\\U0001f3fd\\u200d\\u2696|\\U0001f468\\U0001f3fe\\u200d\\u2696|\\U0001f468\\U0001f3ff\\u200d\\u2696|\\U0001f469\\u200d\\u2696\\ufe0f|\\U0001f469\\U0001f3fb\\u200d\\u2696|\\U0001f469\\U0001f3fc\\u200d\\u2696|\\U0001f469\\U0001f3fd\\u200d\\u2696|\\U0001f469\\U0001f3fe\\u200d\\u2696|\\U0001f469\\U0001f3ff\\u200d\\u2696|\\U0001f468\\U0001f3fb\\u200d\\U0001f33e|\\U0001f468\\U0001f3fc\\u200d\\U0001f33e|\\U0001f468\\U0001f3fd\\u200d\\U0001f33e|\\U0001f468\\U0001f3fe\\u200d\\U0001f33e|\\U0001f468\\U0001f3ff\\u200d\\U0001f33e|\\U0001f469\\U0001f3fb\\u200d\\U0001f33e|\\U0001f469\\U0001f3fc\\u200d\\U0001f33e|\\U0001f469\\U0001f3fd\\u200d\\U0001f33e|\\U0001f469\\U0001f3fe\\u200d\\U0001f33e|\\U0001f469\\U0001f3ff\\u200d\\U0001f33e|\\U0001f468\\U0001f3fb\\u200d\\U0001f373|\\U0001f468\\U0001f3fc\\u200d\\U0001f373|\\U0001f468\\U0001f3fd\\u200d\\U0001f373|\\U0001f468\\U0001f3fe\\u200d\\U0001f373|\\U0001f468\\U0001f3ff\\u200d\\U0001f373|\\U0001f469\\U0001f3fb\\u200d\\U0001f373|\\U0001f469\\U0001f3fc\\u200d\\U0001f373|\\U0001f469\\U0001f3fd\\u200d\\U0001f373|\\U0001f469\\U0001f3fe\\u200d\\U0001f373|\\U0001f469\\U0001f3ff\\u200d\\U0001f373|\\U0001f468\\U0001f3fb\\u200d\\U0001f527|\\U0001f468\\U0001f3fc\\u200d\\U0001f527|\\U0001f468\\U0001f3fd\\u200d\\U0001f527|\\U0001f468\\U0001f3fe\\u200d\\U0001f527|\\U0001f468\\U0001f3ff\\u200d\\U0001f527|\\U0001f469\\U0001f3fb\\u200d\\U0001f527|\\U0001f469\\U0001f3fc\\u200d\\U0001f527|\\U0001f469\\U0001f3fd\\u200d\\U0001f527|\\U0001f469\\U0001f3fe\\u200d\\U0001f527|\\U0001f469\\U0001f3ff\\u200d\\U0001f527|\\U0001f468\\U0001f3fb\\u200d\\U0001f3ed|\\U0001f468\\U0001f3fc\\u200d\\U0001f3ed|\\U0001f468\\U0001f3fd\\u200d\\U0001f3ed|\\U0001f468\\U0001f3fe\\u200d\\U0001f3ed|\\U0001f468\\U0001f3ff\\u200d\\U0001f3ed|\\U0001f469\\U0001f3fb\\u200d\\U0001f3ed|\\U0001f469\\U0001f3fc\\u200d\\U0001f3ed|\\U0001f469\\U0001f3fd\\u200d\\U0001f3ed|\\U0001f469\\U0001f3fe\\u200d\\U0001f3ed|\\U0001f469\\U0001f3ff\\u200d\\U0001f3ed|\\U0001f468\\U0001f3fb\\u200d\\U0001f4bc|\\U0001f468\\U0001f3fc\\u200d\\U0001f4bc|\\U0001f468\\U0001f3fd\\u200d\\U0001f4bc|\\U0001f468\\U0001f3fe\\u200d\\U0001f4bc|\\U0001f468\\U0001f3ff\\u200d\\U0001f4bc|\\U0001f469\\U0001f3fb\\u200d\\U0001f4bc|\\U0001f469\\U0001f3fc\\u200d\\U0001f4bc|\\U0001f469\\U0001f3fd\\u200d\\U0001f4bc|\\U0001f469\\U0001f3fe\\u200d\\U0001f4bc|\\U0001f469\\U0001f3ff\\u200d\\U0001f4bc|\\U0001f468\\U0001f3fb\\u200d\\U0001f52c|\\U0001f468\\U0001f3fc\\u200d\\U0001f52c|\\U0001f468\\U0001f3fd\\u200d\\U0001f52c|\\U0001f468\\U0001f3fe\\u200d\\U0001f52c|\\U0001f468\\U0001f3ff\\u200d\\U0001f52c|\\U0001f469\\U0001f3fb\\u200d\\U0001f52c|\\U0001f469\\U0001f3fc\\u200d\\U0001f52c|\\U0001f469\\U0001f3fd\\u200d\\U0001f52c|\\U0001f469\\U0001f3fe\\u200d\\U0001f52c|\\U0001f469\\U0001f3ff\\u200d\\U0001f52c|\\U0001f468\\U0001f3fb\\u200d\\U0001f4bb|\\U0001f468\\U0001f3fc\\u200d\\U0001f4bb|\\U0001f468\\U0001f3fd\\u200d\\U0001f4bb|\\U0001f468\\U0001f3fe\\u200d\\U0001f4bb|\\U0001f468\\U0001f3ff\\u200d\\U0001f4bb|\\U0001f469\\U0001f3fb\\u200d\\U0001f4bb|\\U0001f469\\U0001f3fc\\u200d\\U0001f4bb|\\U0001f469\\U0001f3fd\\u200d\\U0001f4bb|\\U0001f469\\U0001f3fe\\u200d\\U0001f4bb|\\U0001f469\\U0001f3ff\\u200d\\U0001f4bb|\\U0001f468\\U0001f3fb\\u200d\\U0001f3a4|\\U0001f468\\U0001f3fc\\u200d\\U0001f3a4|\\U0001f468\\U0001f3fd\\u200d\\U0001f3a4|\\U0001f468\\U0001f3fe\\u200d\\U0001f3a4|\\U0001f468\\U0001f3ff\\u200d\\U0001f3a4|\\U0001f469\\U0001f3fb\\u200d\\U0001f3a4|\\U0001f469\\U0001f3fc\\u200d\\U0001f3a4|\\U0001f469\\U0001f3fd\\u200d\\U0001f3a4|\\U0001f469\\U0001f3fe\\u200d\\U0001f3a4|\\U0001f469\\U0001f3ff\\u200d\\U0001f3a4|\\U0001f468\\U0001f3fb\\u200d\\U0001f3a8|\\U0001f468\\U0001f3fc\\u200d\\U0001f3a8|\\U0001f468\\U0001f3fd\\u200d\\U0001f3a8|\\U0001f468\\U0001f3fe\\u200d\\U0001f3a8|\\U0001f468\\U0001f3ff\\u200d\\U0001f3a8|\\U0001f469\\U0001f3fb\\u200d\\U0001f3a8|\\U0001f469\\U0001f3fc\\u200d\\U0001f3a8|\\U0001f469\\U0001f3fd\\u200d\\U0001f3a8|\\U0001f469\\U0001f3fe\\u200d\\U0001f3a8|\\U0001f469\\U0001f3ff\\u200d\\U0001f3a8|\\U0001f468\\u200d\\u2708\\ufe0f|\\U0001f468\\U0001f3fb\\u200d\\u2708|\\U0001f468\\U0001f3fc\\u200d\\u2708|\\U0001f468\\U0001f3fd\\u200d\\u2708|\\U0001f468\\U0001f3fe\\u200d\\u2708|\\U0001f468\\U0001f3ff\\u200d\\u2708|\\U0001f469\\u200d\\u2708\\ufe0f|\\U0001f469\\U0001f3fb\\u200d\\u2708|\\U0001f469\\U0001f3fc\\u200d\\u2708|\\U0001f469\\U0001f3fd\\u200d\\u2708|\\U0001f469\\U0001f3fe\\u200d\\u2708|\\U0001f469\\U0001f3ff\\u200d\\u2708|\\U0001f468\\U0001f3fb\\u200d\\U0001f680|\\U0001f468\\U0001f3fc\\u200d\\U0001f680|\\U0001f468\\U0001f3fd\\u200d\\U0001f680|\\U0001f468\\U0001f3fe\\u200d\\U0001f680|\\U0001f468\\U0001f3ff\\u200d\\U0001f680|\\U0001f469\\U0001f3fb\\u200d\\U0001f680|\\U0001f469\\U0001f3fc\\u200d\\U0001f680|\\U0001f469\\U0001f3fd\\u200d\\U0001f680|\\U0001f469\\U0001f3fe\\u200d\\U0001f680|\\U0001f469\\U0001f3ff\\u200d\\U0001f680|\\U0001f468\\U0001f3fb\\u200d\\U0001f692|\\U0001f468\\U0001f3fc\\u200d\\U0001f692|\\U0001f468\\U0001f3fd\\u200d\\U0001f692|\\U0001f468\\U0001f3fe\\u200d\\U0001f692|\\U0001f468\\U0001f3ff\\u200d\\U0001f692|\\U0001f469\\U0001f3fb\\u200d\\U0001f692|\\U0001f469\\U0001f3fc\\u200d\\U0001f692|\\U0001f469\\U0001f3fd\\u200d\\U0001f692|\\U0001f469\\U0001f3fe\\u200d\\U0001f692|\\U0001f469\\U0001f3ff\\u200d\\U0001f692|\\U0001f46e\\u200d\\u2642\\ufe0f|\\U0001f46e\\U0001f3fb\\u200d\\u2642|\\U0001f46e\\U0001f3fc\\u200d\\u2642|\\U0001f46e\\U0001f3fd\\u200d\\u2642|\\U0001f46e\\U0001f3fe\\u200d\\u2642|\\U0001f46e\\U0001f3ff\\u200d\\u2642|\\U0001f46e\\u200d\\u2640\\ufe0f|\\U0001f46e\\U0001f3fb\\u200d\\u2640|\\U0001f46e\\U0001f3fc\\u200d\\u2640|\\U0001f46e\\U0001f3fd\\u200d\\u2640|\\U0001f46e\\U0001f3fe\\u200d\\u2640|\\U0001f46e\\U0001f3ff\\u200d\\u2640|\\U0001f575\\u200d\\u2642\\ufe0f|\\U0001f575\\ufe0f\\u200d\\u2642|\\U0001f575\\U0001f3fb\\u200d\\u2642|\\U0001f575\\U0001f3fc\\u200d\\u2642|\\U0001f575\\U0001f3fd\\u200d\\u2642|\\U0001f575\\U0001f3fe\\u200d\\u2642|\\U0001f575\\U0001f3ff\\u200d\\u2642|\\U0001f575\\u200d\\u2640\\ufe0f|\\U0001f575\\ufe0f\\u200d\\u2640|\\U0001f575\\U0001f3fb\\u200d\\u2640|\\U0001f575\\U0001f3fc\\u200d\\u2640|\\U0001f575\\U0001f3fd\\u200d\\u2640|\\U0001f575\\U0001f3fe\\u200d\\u2640|\\U0001f575\\U0001f3ff\\u200d\\u2640|\\U0001f482\\u200d\\u2642\\ufe0f|\\U0001f482\\U0001f3fb\\u200d\\u2642|\\U0001f482\\U0001f3fc\\u200d\\u2642|\\U0001f482\\U0001f3fd\\u200d\\u2642|\\U0001f482\\U0001f3fe\\u200d\\u2642|\\U0001f482\\U0001f3ff\\u200d\\u2642|\\U0001f482\\u200d\\u2640\\ufe0f|\\U0001f482\\U0001f3fb\\u200d\\u2640|\\U0001f482\\U0001f3fc\\u200d\\u2640|\\U0001f482\\U0001f3fd\\u200d\\u2640|\\U0001f482\\U0001f3fe\\u200d\\u2640|\\U0001f482\\U0001f3ff\\u200d\\u2640|\\U0001f477\\u200d\\u2642\\ufe0f|\\U0001f477\\U0001f3fb\\u200d\\u2642|\\U0001f477\\U0001f3fc\\u200d\\u2642|\\U0001f477\\U0001f3fd\\u200d\\u2642|\\U0001f477\\U0001f3fe\\u200d\\u2642|\\U0001f477\\U0001f3ff\\u200d\\u2642|\\U0001f477\\u200d\\u2640\\ufe0f|\\U0001f477\\U0001f3fb\\u200d\\u2640|\\U0001f477\\U0001f3fc\\u200d\\u2640|\\U0001f477\\U0001f3fd\\u200d\\u2640|\\U0001f477\\U0001f3fe\\u200d\\u2640|\\U0001f477\\U0001f3ff\\u200d\\u2640|\\U0001f473\\u200d\\u2642\\ufe0f|\\U0001f473\\U0001f3fb\\u200d\\u2642|\\U0001f473\\U0001f3fc\\u200d\\u2642|\\U0001f473\\U0001f3fd\\u200d\\u2642|\\U0001f473\\U0001f3fe\\u200d\\u2642|\\U0001f473\\U0001f3ff\\u200d\\u2642|\\U0001f473\\u200d\\u2640\\ufe0f|\\U0001f473\\U0001f3fb\\u200d\\u2640|\\U0001f473\\U0001f3fc\\u200d\\u2640|\\U0001f473\\U0001f3fd\\u200d\\u2640|\\U0001f473\\U0001f3fe\\u200d\\u2640|\\U0001f473\\U0001f3ff\\u200d\\u2640|\\U0001f9b8\\u200d\\u2642\\ufe0f|\\U0001f9b8\\U0001f3fb\\u200d\\u2642|\\U0001f9b8\\U0001f3fc\\u200d\\u2642|\\U0001f9b8\\U0001f3fd\\u200d\\u2642|\\U0001f9b8\\U0001f3fe\\u200d\\u2642|\\U0001f9b8\\U0001f3ff\\u200d\\u2642|\\U0001f9b8\\u200d\\u2640\\ufe0f|\\U0001f9b8\\U0001f3fb\\u200d\\u2640|\\U0001f9b8\\U0001f3fc\\u200d\\u2640|\\U0001f9b8\\U0001f3fd\\u200d\\u2640|\\U0001f9b8\\U0001f3fe\\u200d\\u2640|\\U0001f9b8\\U0001f3ff\\u200d\\u2640|\\U0001f9b9\\u200d\\u2642\\ufe0f|\\U0001f9b9\\U0001f3fb\\u200d\\u2642|\\U0001f9b9\\U0001f3fc\\u200d\\u2642|\\U0001f9b9\\U0001f3fd\\u200d\\u2642|\\U0001f9b9\\U0001f3fe\\u200d\\u2642|\\U0001f9b9\\U0001f3ff\\u200d\\u2642|\\U0001f9b9\\u200d\\u2640\\ufe0f|\\U0001f9b9\\U0001f3fb\\u200d\\u2640|\\U0001f9b9\\U0001f3fc\\u200d\\u2640|\\U0001f9b9\\U0001f3fd\\u200d\\u2640|\\U0001f9b9\\U0001f3fe\\u200d\\u2640|\\U0001f9b9\\U0001f3ff\\u200d\\u2640|\\U0001f9d9\\u200d\\u2642\\ufe0f|\\U0001f9d9\\U0001f3fb\\u200d\\u2642|\\U0001f9d9\\U0001f3fc\\u200d\\u2642|\\U0001f9d9\\U0001f3fd\\u200d\\u2642|\\U0001f9d9\\U0001f3fe\\u200d\\u2642|\\U0001f9d9\\U0001f3ff\\u200d\\u2642|\\U0001f9d9\\u200d\\u2640\\ufe0f|\\U0001f9d9\\U0001f3fb\\u200d\\u2640|\\U0001f9d9\\U0001f3fc\\u200d\\u2640|\\U0001f9d9\\U0001f3fd\\u200d\\u2640|\\U0001f9d9\\U0001f3fe\\u200d\\u2640|\\U0001f9d9\\U0001f3ff\\u200d\\u2640|\\U0001f9da\\u200d\\u2642\\ufe0f|\\U0001f9da\\U0001f3fb\\u200d\\u2642|\\U0001f9da\\U0001f3fc\\u200d\\u2642|\\U0001f9da\\U0001f3fd\\u200d\\u2642|\\U0001f9da\\U0001f3fe\\u200d\\u2642|\\U0001f9da\\U0001f3ff\\u200d\\u2642|\\U0001f9da\\u200d\\u2640\\ufe0f|\\U0001f9da\\U0001f3fb\\u200d\\u2640|\\U0001f9da\\U0001f3fc\\u200d\\u2640|\\U0001f9da\\U0001f3fd\\u200d\\u2640|\\U0001f9da\\U0001f3fe\\u200d\\u2640|\\U0001f9da\\U0001f3ff\\u200d\\u2640|\\U0001f9db\\u200d\\u2642\\ufe0f|\\U0001f9db\\U0001f3fb\\u200d\\u2642|\\U0001f9db\\U0001f3fc\\u200d\\u2642|\\U0001f9db\\U0001f3fd\\u200d\\u2642|\\U0001f9db\\U0001f3fe\\u200d\\u2642|\\U0001f9db\\U0001f3ff\\u200d\\u2642|\\U0001f9db\\u200d\\u2640\\ufe0f|\\U0001f9db\\U0001f3fb\\u200d\\u2640|\\U0001f9db\\U0001f3fc\\u200d\\u2640|\\U0001f9db\\U0001f3fd\\u200d\\u2640|\\U0001f9db\\U0001f3fe\\u200d\\u2640|\\U0001f9db\\U0001f3ff\\u200d\\u2640|\\U0001f9dc\\u200d\\u2642\\ufe0f|\\U0001f9dc\\U0001f3fb\\u200d\\u2642|\\U0001f9dc\\U0001f3fc\\u200d\\u2642|\\U0001f9dc\\U0001f3fd\\u200d\\u2642|\\U0001f9dc\\U0001f3fe\\u200d\\u2642|\\U0001f9dc\\U0001f3ff\\u200d\\u2642|\\U0001f9dc\\u200d\\u2640\\ufe0f|\\U0001f9dc\\U0001f3fb\\u200d\\u2640|\\U0001f9dc\\U0001f3fc\\u200d\\u2640|\\U0001f9dc\\U0001f3fd\\u200d\\u2640|\\U0001f9dc\\U0001f3fe\\u200d\\u2640|\\U0001f9dc\\U0001f3ff\\u200d\\u2640|\\U0001f9dd\\u200d\\u2642\\ufe0f|\\U0001f9dd\\U0001f3fb\\u200d\\u2642|\\U0001f9dd\\U0001f3fc\\u200d\\u2642|\\U0001f9dd\\U0001f3fd\\u200d\\u2642|\\U0001f9dd\\U0001f3fe\\u200d\\u2642|\\U0001f9dd\\U0001f3ff\\u200d\\u2642|\\U0001f9dd\\u200d\\u2640\\ufe0f|\\U0001f9dd\\U0001f3fb\\u200d\\u2640|\\U0001f9dd\\U0001f3fc\\u200d\\u2640|\\U0001f9dd\\U0001f3fd\\u200d\\u2640|\\U0001f9dd\\U0001f3fe\\u200d\\u2640|\\U0001f9dd\\U0001f3ff\\u200d\\u2640|\\U0001f9de\\u200d\\u2642\\ufe0f|\\U0001f9de\\u200d\\u2640\\ufe0f|\\U0001f9df\\u200d\\u2642\\ufe0f|\\U0001f9df\\u200d\\u2640\\ufe0f|\\U0001f486\\u200d\\u2642\\ufe0f|\\U0001f486\\U0001f3fb\\u200d\\u2642|\\U0001f486\\U0001f3fc\\u200d\\u2642|\\U0001f486\\U0001f3fd\\u200d\\u2642|\\U0001f486\\U0001f3fe\\u200d\\u2642|\\U0001f486\\U0001f3ff\\u200d\\u2642|\\U0001f486\\u200d\\u2640\\ufe0f|\\U0001f486\\U0001f3fb\\u200d\\u2640|\\U0001f486\\U0001f3fc\\u200d\\u2640|\\U0001f486\\U0001f3fd\\u200d\\u2640|\\U0001f486\\U0001f3fe\\u200d\\u2640|\\U0001f486\\U0001f3ff\\u200d\\u2640|\\U0001f487\\u200d\\u2642\\ufe0f|\\U0001f487\\U0001f3fb\\u200d\\u2642|\\U0001f487\\U0001f3fc\\u200d\\u2642|\\U0001f487\\U0001f3fd\\u200d\\u2642|\\U0001f487\\U0001f3fe\\u200d\\u2642|\\U0001f487\\U0001f3ff\\u200d\\u2642|\\U0001f487\\u200d\\u2640\\ufe0f|\\U0001f487\\U0001f3fb\\u200d\\u2640|\\U0001f487\\U0001f3fc\\u200d\\u2640|\\U0001f487\\U0001f3fd\\u200d\\u2640|\\U0001f487\\U0001f3fe\\u200d\\u2640|\\U0001f487\\U0001f3ff\\u200d\\u2640|\\U0001f6b6\\u200d\\u2642\\ufe0f|\\U0001f6b6\\U0001f3fb\\u200d\\u2642|\\U0001f6b6\\U0001f3fc\\u200d\\u2642|\\U0001f6b6\\U0001f3fd\\u200d\\u2642|\\U0001f6b6\\U0001f3fe\\u200d\\u2642|\\U0001f6b6\\U0001f3ff\\u200d\\u2642|\\U0001f6b6\\u200d\\u2640\\ufe0f|\\U0001f6b6\\U0001f3fb\\u200d\\u2640|\\U0001f6b6\\U0001f3fc\\u200d\\u2640|\\U0001f6b6\\U0001f3fd\\u200d\\u2640|\\U0001f6b6\\U0001f3fe\\u200d\\u2640|\\U0001f6b6\\U0001f3ff\\u200d\\u2640|\\U0001f9cd\\u200d\\u2642\\ufe0f|\\U0001f9cd\\U0001f3fb\\u200d\\u2642|\\U0001f9cd\\U0001f3fc\\u200d\\u2642|\\U0001f9cd\\U0001f3fd\\u200d\\u2642|\\U0001f9cd\\U0001f3fe\\u200d\\u2642|\\U0001f9cd\\U0001f3ff\\u200d\\u2642|\\U0001f9cd\\u200d\\u2640\\ufe0f|\\U0001f9cd\\U0001f3fb\\u200d\\u2640|\\U0001f9cd\\U0001f3fc\\u200d\\u2640|\\U0001f9cd\\U0001f3fd\\u200d\\u2640|\\U0001f9cd\\U0001f3fe\\u200d\\u2640|\\U0001f9cd\\U0001f3ff\\u200d\\u2640|\\U0001f9ce\\u200d\\u2642\\ufe0f|\\U0001f9ce\\U0001f3fb\\u200d\\u2642|\\U0001f9ce\\U0001f3fc\\u200d\\u2642|\\U0001f9ce\\U0001f3fd\\u200d\\u2642|\\U0001f9ce\\U0001f3fe\\u200d\\u2642|\\U0001f9ce\\U0001f3ff\\u200d\\u2642|\\U0001f9ce\\u200d\\u2640\\ufe0f|\\U0001f9ce\\U0001f3fb\\u200d\\u2640|\\U0001f9ce\\U0001f3fc\\u200d\\u2640|\\U0001f9ce\\U0001f3fd\\u200d\\u2640|\\U0001f9ce\\U0001f3fe\\u200d\\u2640|\\U0001f9ce\\U0001f3ff\\u200d\\u2640|\\U0001f468\\U0001f3fb\\u200d\\U0001f9af|\\U0001f468\\U0001f3fc\\u200d\\U0001f9af|\\U0001f468\\U0001f3fd\\u200d\\U0001f9af|\\U0001f468\\U0001f3fe\\u200d\\U0001f9af|\\U0001f468\\U0001f3ff\\u200d\\U0001f9af|\\U0001f469\\U0001f3fb\\u200d\\U0001f9af|\\U0001f469\\U0001f3fc\\u200d\\U0001f9af|\\U0001f469\\U0001f3fd\\u200d\\U0001f9af|\\U0001f469\\U0001f3fe\\u200d\\U0001f9af|\\U0001f469\\U0001f3ff\\u200d\\U0001f9af|\\U0001f468\\U0001f3fb\\u200d\\U0001f9bc|\\U0001f468\\U0001f3fc\\u200d\\U0001f9bc|\\U0001f468\\U0001f3fd\\u200d\\U0001f9bc|\\U0001f468\\U0001f3fe\\u200d\\U0001f9bc|\\U0001f468\\U0001f3ff\\u200d\\U0001f9bc|\\U0001f469\\U0001f3fb\\u200d\\U0001f9bc|\\U0001f469\\U0001f3fc\\u200d\\U0001f9bc|\\U0001f469\\U0001f3fd\\u200d\\U0001f9bc|\\U0001f469\\U0001f3fe\\u200d\\U0001f9bc|\\U0001f469\\U0001f3ff\\u200d\\U0001f9bc|\\U0001f468\\U0001f3fb\\u200d\\U0001f9bd|\\U0001f468\\U0001f3fc\\u200d\\U0001f9bd|\\U0001f468\\U0001f3fd\\u200d\\U0001f9bd|\\U0001f468\\U0001f3fe\\u200d\\U0001f9bd|\\U0001f468\\U0001f3ff\\u200d\\U0001f9bd|\\U0001f469\\U0001f3fb\\u200d\\U0001f9bd|\\U0001f469\\U0001f3fc\\u200d\\U0001f9bd|\\U0001f469\\U0001f3fd\\u200d\\U0001f9bd|\\U0001f469\\U0001f3fe\\u200d\\U0001f9bd|\\U0001f469\\U0001f3ff\\u200d\\U0001f9bd|\\U0001f3c3\\u200d\\u2642\\ufe0f|\\U0001f3c3\\U0001f3fb\\u200d\\u2642|\\U0001f3c3\\U0001f3fc\\u200d\\u2642|\\U0001f3c3\\U0001f3fd\\u200d\\u2642|\\U0001f3c3\\U0001f3fe\\u200d\\u2642|\\U0001f3c3\\U0001f3ff\\u200d\\u2642|\\U0001f3c3\\u200d\\u2640\\ufe0f|\\U0001f3c3\\U0001f3fb\\u200d\\u2640|\\U0001f3c3\\U0001f3fc\\u200d\\u2640|\\U0001f3c3\\U0001f3fd\\u200d\\u2640|\\U0001f3c3\\U0001f3fe\\u200d\\u2640|\\U0001f3c3\\U0001f3ff\\u200d\\u2640|\\U0001f46f\\u200d\\u2642\\ufe0f|\\U0001f46f\\u200d\\u2640\\ufe0f|\\U0001f9d6\\u200d\\u2642\\ufe0f|\\U0001f9d6\\U0001f3fb\\u200d\\u2642|\\U0001f9d6\\U0001f3fc\\u200d\\u2642|\\U0001f9d6\\U0001f3fd\\u200d\\u2642|\\U0001f9d6\\U0001f3fe\\u200d\\u2642|\\U0001f9d6\\U0001f3ff\\u200d\\u2642|\\U0001f9d6\\u200d\\u2640\\ufe0f|\\U0001f9d6\\U0001f3fb\\u200d\\u2640|\\U0001f9d6\\U0001f3fc\\u200d\\u2640|\\U0001f9d6\\U0001f3fd\\u200d\\u2640|\\U0001f9d6\\U0001f3fe\\u200d\\u2640|\\U0001f9d6\\U0001f3ff\\u200d\\u2640|\\U0001f9d7\\u200d\\u2642\\ufe0f|\\U0001f9d7\\U0001f3fb\\u200d\\u2642|\\U0001f9d7\\U0001f3fc\\u200d\\u2642|\\U0001f9d7\\U0001f3fd\\u200d\\u2642|\\U0001f9d7\\U0001f3fe\\u200d\\u2642|\\U0001f9d7\\U0001f3ff\\u200d\\u2642|\\U0001f9d7\\u200d\\u2640\\ufe0f|\\U0001f9d7\\U0001f3fb\\u200d\\u2640|\\U0001f9d7\\U0001f3fc\\u200d\\u2640|\\U0001f9d7\\U0001f3fd\\u200d\\u2640|\\U0001f9d7\\U0001f3fe\\u200d\\u2640|\\U0001f9d7\\U0001f3ff\\u200d\\u2640|\\U0001f3cc\\u200d\\u2642\\ufe0f|\\U0001f3cc\\ufe0f\\u200d\\u2642|\\U0001f3cc\\U0001f3fb\\u200d\\u2642|\\U0001f3cc\\U0001f3fc\\u200d\\u2642|\\U0001f3cc\\U0001f3fd\\u200d\\u2642|\\U0001f3cc\\U0001f3fe\\u200d\\u2642|\\U0001f3cc\\U0001f3ff\\u200d\\u2642|\\U0001f3cc\\u200d\\u2640\\ufe0f|\\U0001f3cc\\ufe0f\\u200d\\u2640|\\U0001f3cc\\U0001f3fb\\u200d\\u2640|\\U0001f3cc\\U0001f3fc\\u200d\\u2640|\\U0001f3cc\\U0001f3fd\\u200d\\u2640|\\U0001f3cc\\U0001f3fe\\u200d\\u2640|\\U0001f3cc\\U0001f3ff\\u200d\\u2640|\\U0001f3c4\\u200d\\u2642\\ufe0f|\\U0001f3c4\\U0001f3fb\\u200d\\u2642|\\U0001f3c4\\U0001f3fc\\u200d\\u2642|\\U0001f3c4\\U0001f3fd\\u200d\\u2642|\\U0001f3c4\\U0001f3fe\\u200d\\u2642|\\U0001f3c4\\U0001f3ff\\u200d\\u2642|\\U0001f3c4\\u200d\\u2640\\ufe0f|\\U0001f3c4\\U0001f3fb\\u200d\\u2640|\\U0001f3c4\\U0001f3fc\\u200d\\u2640|\\U0001f3c4\\U0001f3fd\\u200d\\u2640|\\U0001f3c4\\U0001f3fe\\u200d\\u2640|\\U0001f3c4\\U0001f3ff\\u200d\\u2640|\\U0001f6a3\\u200d\\u2642\\ufe0f|\\U0001f6a3\\U0001f3fb\\u200d\\u2642|\\U0001f6a3\\U0001f3fc\\u200d\\u2642|\\U0001f6a3\\U0001f3fd\\u200d\\u2642|\\U0001f6a3\\U0001f3fe\\u200d\\u2642|\\U0001f6a3\\U0001f3ff\\u200d\\u2642|\\U0001f6a3\\u200d\\u2640\\ufe0f|\\U0001f6a3\\U0001f3fb\\u200d\\u2640|\\U0001f6a3\\U0001f3fc\\u200d\\u2640|\\U0001f6a3\\U0001f3fd\\u200d\\u2640|\\U0001f6a3\\U0001f3fe\\u200d\\u2640|\\U0001f6a3\\U0001f3ff\\u200d\\u2640|\\U0001f3ca\\u200d\\u2642\\ufe0f|\\U0001f3ca\\U0001f3fb\\u200d\\u2642|\\U0001f3ca\\U0001f3fc\\u200d\\u2642|\\U0001f3ca\\U0001f3fd\\u200d\\u2642|\\U0001f3ca\\U0001f3fe\\u200d\\u2642|\\U0001f3ca\\U0001f3ff\\u200d\\u2642|\\U0001f3ca\\u200d\\u2640\\ufe0f|\\U0001f3ca\\U0001f3fb\\u200d\\u2640|\\U0001f3ca\\U0001f3fc\\u200d\\u2640|\\U0001f3ca\\U0001f3fd\\u200d\\u2640|\\U0001f3ca\\U0001f3fe\\u200d\\u2640|\\U0001f3ca\\U0001f3ff\\u200d\\u2640|\\u26f9\\u200d\\u2642\\ufe0f|\\u26f9\\ufe0f\\u200d\\u2642|\\u26f9\\U0001f3fb\\u200d\\u2642|\\u26f9\\U0001f3fc\\u200d\\u2642|\\u26f9\\U0001f3fd\\u200d\\u2642|\\u26f9\\U0001f3fe\\u200d\\u2642|\\u26f9\\U0001f3ff\\u200d\\u2642|\\u26f9\\u200d\\u2640\\ufe0f|\\u26f9\\ufe0f\\u200d\\u2640|\\u26f9\\U0001f3fb\\u200d\\u2640|\\u26f9\\U0001f3fc\\u200d\\u2640|\\u26f9\\U0001f3fd\\u200d\\u2640|\\u26f9\\U0001f3fe\\u200d\\u2640|\\u26f9\\U0001f3ff\\u200d\\u2640|\\U0001f3cb\\u200d\\u2642\\ufe0f|\\U0001f3cb\\ufe0f\\u200d\\u2642|\\U0001f3cb\\U0001f3fb\\u200d\\u2642|\\U0001f3cb\\U0001f3fc\\u200d\\u2642|\\U0001f3cb\\U0001f3fd\\u200d\\u2642|\\U0001f3cb\\U0001f3fe\\u200d\\u2642|\\U0001f3cb\\U0001f3ff\\u200d\\u2642|\\U0001f3cb\\u200d\\u2640\\ufe0f|\\U0001f3cb\\ufe0f\\u200d\\u2640|\\U0001f3cb\\U0001f3fb\\u200d\\u2640|\\U0001f3cb\\U0001f3fc\\u200d\\u2640|\\U0001f3cb\\U0001f3fd\\u200d\\u2640|\\U0001f3cb\\U0001f3fe\\u200d\\u2640|\\U0001f3cb\\U0001f3ff\\u200d\\u2640|\\U0001f6b4\\u200d\\u2642\\ufe0f|\\U0001f6b4\\U0001f3fb\\u200d\\u2642|\\U0001f6b4\\U0001f3fc\\u200d\\u2642|\\U0001f6b4\\U0001f3fd\\u200d\\u2642|\\U0001f6b4\\U0001f3fe\\u200d\\u2642|\\U0001f6b4\\U0001f3ff\\u200d\\u2642|\\U0001f6b4\\u200d\\u2640\\ufe0f|\\U0001f6b4\\U0001f3fb\\u200d\\u2640|\\U0001f6b4\\U0001f3fc\\u200d\\u2640|\\U0001f6b4\\U0001f3fd\\u200d\\u2640|\\U0001f6b4\\U0001f3fe\\u200d\\u2640|\\U0001f6b4\\U0001f3ff\\u200d\\u2640|\\U0001f6b5\\u200d\\u2642\\ufe0f|\\U0001f6b5\\U0001f3fb\\u200d\\u2642|\\U0001f6b5\\U0001f3fc\\u200d\\u2642|\\U0001f6b5\\U0001f3fd\\u200d\\u2642|\\U0001f6b5\\U0001f3fe\\u200d\\u2642|\\U0001f6b5\\U0001f3ff\\u200d\\u2642|\\U0001f6b5\\u200d\\u2640\\ufe0f|\\U0001f6b5\\U0001f3fb\\u200d\\u2640|\\U0001f6b5\\U0001f3fc\\u200d\\u2640|\\U0001f6b5\\U0001f3fd\\u200d\\u2640|\\U0001f6b5\\U0001f3fe\\u200d\\u2640|\\U0001f6b5\\U0001f3ff\\u200d\\u2640|\\U0001f938\\u200d\\u2642\\ufe0f|\\U0001f938\\U0001f3fb\\u200d\\u2642|\\U0001f938\\U0001f3fc\\u200d\\u2642|\\U0001f938\\U0001f3fd\\u200d\\u2642|\\U0001f938\\U0001f3fe\\u200d\\u2642|\\U0001f938\\U0001f3ff\\u200d\\u2642|\\U0001f938\\u200d\\u2640\\ufe0f|\\U0001f938\\U0001f3fb\\u200d\\u2640|\\U0001f938\\U0001f3fc\\u200d\\u2640|\\U0001f938\\U0001f3fd\\u200d\\u2640|\\U0001f938\\U0001f3fe\\u200d\\u2640|\\U0001f938\\U0001f3ff\\u200d\\u2640|\\U0001f93c\\u200d\\u2642\\ufe0f|\\U0001f93c\\u200d\\u2640\\ufe0f|\\U0001f93d\\u200d\\u2642\\ufe0f|\\U0001f93d\\U0001f3fb\\u200d\\u2642|\\U0001f93d\\U0001f3fc\\u200d\\u2642|\\U0001f93d\\U0001f3fd\\u200d\\u2642|\\U0001f93d\\U0001f3fe\\u200d\\u2642|\\U0001f93d\\U0001f3ff\\u200d\\u2642|\\U0001f93d\\u200d\\u2640\\ufe0f|\\U0001f93d\\U0001f3fb\\u200d\\u2640|\\U0001f93d\\U0001f3fc\\u200d\\u2640|\\U0001f93d\\U0001f3fd\\u200d\\u2640|\\U0001f93d\\U0001f3fe\\u200d\\u2640|\\U0001f93d\\U0001f3ff\\u200d\\u2640|\\U0001f93e\\u200d\\u2642\\ufe0f|\\U0001f93e\\U0001f3fb\\u200d\\u2642|\\U0001f93e\\U0001f3fc\\u200d\\u2642|\\U0001f93e\\U0001f3fd\\u200d\\u2642|\\U0001f93e\\U0001f3fe\\u200d\\u2642|\\U0001f93e\\U0001f3ff\\u200d\\u2642|\\U0001f93e\\u200d\\u2640\\ufe0f|\\U0001f93e\\U0001f3fb\\u200d\\u2640|\\U0001f93e\\U0001f3fc\\u200d\\u2640|\\U0001f93e\\U0001f3fd\\u200d\\u2640|\\U0001f93e\\U0001f3fe\\u200d\\u2640|\\U0001f93e\\U0001f3ff\\u200d\\u2640|\\U0001f939\\u200d\\u2642\\ufe0f|\\U0001f939\\U0001f3fb\\u200d\\u2642|\\U0001f939\\U0001f3fc\\u200d\\u2642|\\U0001f939\\U0001f3fd\\u200d\\u2642|\\U0001f939\\U0001f3fe\\u200d\\u2642|\\U0001f939\\U0001f3ff\\u200d\\u2642|\\U0001f939\\u200d\\u2640\\ufe0f|\\U0001f939\\U0001f3fb\\u200d\\u2640|\\U0001f939\\U0001f3fc\\u200d\\u2640|\\U0001f939\\U0001f3fd\\u200d\\u2640|\\U0001f939\\U0001f3fe\\u200d\\u2640|\\U0001f939\\U0001f3ff\\u200d\\u2640|\\U0001f9d8\\u200d\\u2642\\ufe0f|\\U0001f9d8\\U0001f3fb\\u200d\\u2642|\\U0001f9d8\\U0001f3fc\\u200d\\u2642|\\U0001f9d8\\U0001f3fd\\u200d\\u2642|\\U0001f9d8\\U0001f3fe\\u200d\\u2642|\\U0001f9d8\\U0001f3ff\\u200d\\u2642|\\U0001f9d8\\u200d\\u2640\\ufe0f|\\U0001f9d8\\U0001f3fb\\u200d\\u2640|\\U0001f9d8\\U0001f3fc\\u200d\\u2640|\\U0001f9d8\\U0001f3fd\\u200d\\u2640|\\U0001f9d8\\U0001f3fe\\u200d\\u2640|\\U0001f9d8\\U0001f3ff\\u200d\\u2640|\\U0001f3f3\\ufe0f\\u200d\\U0001f308|\\U0001f3f4\\u200d\\u2620\\ufe0f|\\U0001f441\\u200d\\U0001f5e8|\\U0001f471\\u200d\\u2642|\\U0001f468\\u200d\\U0001f9b0|\\U0001f468\\u200d\\U0001f9b1|\\U0001f468\\u200d\\U0001f9b3|\\U0001f468\\u200d\\U0001f9b2|\\U0001f471\\u200d\\u2640|\\U0001f469\\u200d\\U0001f9b0|\\U0001f469\\u200d\\U0001f9b1|\\U0001f469\\u200d\\U0001f9b3|\\U0001f469\\u200d\\U0001f9b2|\\U0001f64d\\u200d\\u2642|\\U0001f64d\\u200d\\u2640|\\U0001f64e\\u200d\\u2642|\\U0001f64e\\u200d\\u2640|\\U0001f645\\u200d\\u2642|\\U0001f645\\u200d\\u2640|\\U0001f646\\u200d\\u2642|\\U0001f646\\u200d\\u2640|\\U0001f481\\u200d\\u2642|\\U0001f481\\u200d\\u2640|\\U0001f64b\\u200d\\u2642|\\U0001f64b\\u200d\\u2640|\\U0001f9cf\\u200d\\u2642|\\U0001f9cf\\u200d\\u2640|\\U0001f647\\u200d\\u2642|\\U0001f647\\u200d\\u2640|\\U0001f926\\u200d\\u2642|\\U0001f926\\u200d\\u2640|\\U0001f937\\u200d\\u2642|\\U0001f937\\u200d\\u2640|\\U0001f468\\u200d\\u2695|\\U0001f469\\u200d\\u2695|\\U0001f468\\u200d\\U0001f393|\\U0001f469\\u200d\\U0001f393|\\U0001f468\\u200d\\U0001f3eb|\\U0001f469\\u200d\\U0001f3eb|\\U0001f468\\u200d\\u2696|\\U0001f469\\u200d\\u2696|\\U0001f468\\u200d\\U0001f33e|\\U0001f469\\u200d\\U0001f33e|\\U0001f468\\u200d\\U0001f373|\\U0001f469\\u200d\\U0001f373|\\U0001f468\\u200d\\U0001f527|\\U0001f469\\u200d\\U0001f527|\\U0001f468\\u200d\\U0001f3ed|\\U0001f469\\u200d\\U0001f3ed|\\U0001f468\\u200d\\U0001f4bc|\\U0001f469\\u200d\\U0001f4bc|\\U0001f468\\u200d\\U0001f52c|\\U0001f469\\u200d\\U0001f52c|\\U0001f468\\u200d\\U0001f4bb|\\U0001f469\\u200d\\U0001f4bb|\\U0001f468\\u200d\\U0001f3a4|\\U0001f469\\u200d\\U0001f3a4|\\U0001f468\\u200d\\U0001f3a8|\\U0001f469\\u200d\\U0001f3a8|\\U0001f468\\u200d\\u2708|\\U0001f469\\u200d\\u2708|\\U0001f468\\u200d\\U0001f680|\\U0001f469\\u200d\\U0001f680|\\U0001f468\\u200d\\U0001f692|\\U0001f469\\u200d\\U0001f692|\\U0001f46e\\u200d\\u2642|\\U0001f46e\\u200d\\u2640|\\U0001f575\\u200d\\u2642|\\U0001f575\\u200d\\u2640|\\U0001f482\\u200d\\u2642|\\U0001f482\\u200d\\u2640|\\U0001f477\\u200d\\u2642|\\U0001f477\\u200d\\u2640|\\U0001f473\\u200d\\u2642|\\U0001f473\\u200d\\u2640|\\U0001f9b8\\u200d\\u2642|\\U0001f9b8\\u200d\\u2640|\\U0001f9b9\\u200d\\u2642|\\U0001f9b9\\u200d\\u2640|\\U0001f9d9\\u200d\\u2642|\\U0001f9d9\\u200d\\u2640|\\U0001f9da\\u200d\\u2642|\\U0001f9da\\u200d\\u2640|\\U0001f9db\\u200d\\u2642|\\U0001f9db\\u200d\\u2640|\\U0001f9dc\\u200d\\u2642|\\U0001f9dc\\u200d\\u2640|\\U0001f9dd\\u200d\\u2642|\\U0001f9dd\\u200d\\u2640|\\U0001f9de\\u200d\\u2642|\\U0001f9de\\u200d\\u2640|\\U0001f9df\\u200d\\u2642|\\U0001f9df\\u200d\\u2640|\\U0001f486\\u200d\\u2642|\\U0001f486\\u200d\\u2640|\\U0001f487\\u200d\\u2642|\\U0001f487\\u200d\\u2640|\\U0001f6b6\\u200d\\u2642|\\U0001f6b6\\u200d\\u2640|\\U0001f9cd\\u200d\\u2642|\\U0001f9cd\\u200d\\u2640|\\U0001f9ce\\u200d\\u2642|\\U0001f9ce\\u200d\\u2640|\\U0001f468\\u200d\\U0001f9af|\\U0001f469\\u200d\\U0001f9af|\\U0001f468\\u200d\\U0001f9bc|\\U0001f469\\u200d\\U0001f9bc|\\U0001f468\\u200d\\U0001f9bd|\\U0001f469\\u200d\\U0001f9bd|\\U0001f3c3\\u200d\\u2642|\\U0001f3c3\\u200d\\u2640|\\U0001f46f\\u200d\\u2642|\\U0001f46f\\u200d\\u2640|\\U0001f9d6\\u200d\\u2642|\\U0001f9d6\\u200d\\u2640|\\U0001f9d7\\u200d\\u2642|\\U0001f9d7\\u200d\\u2640|\\U0001f3cc\\u200d\\u2642|\\U0001f3cc\\u200d\\u2640|\\U0001f3c4\\u200d\\u2642|\\U0001f3c4\\u200d\\u2640|\\U0001f6a3\\u200d\\u2642|\\U0001f6a3\\u200d\\u2640|\\U0001f3ca\\u200d\\u2642|\\U0001f3ca\\u200d\\u2640|\\u26f9\\u200d\\u2642|\\u26f9\\u200d\\u2640|\\U0001f3cb\\u200d\\u2642|\\U0001f3cb\\u200d\\u2640|\\U0001f6b4\\u200d\\u2642|\\U0001f6b4\\u200d\\u2640|\\U0001f6b5\\u200d\\u2642|\\U0001f6b5\\u200d\\u2640|\\U0001f938\\u200d\\u2642|\\U0001f938\\u200d\\u2640|\\U0001f93c\\u200d\\u2642|\\U0001f93c\\u200d\\u2640|\\U0001f93d\\u200d\\u2642|\\U0001f93d\\u200d\\u2640|\\U0001f93e\\u200d\\u2642|\\U0001f93e\\u200d\\u2640|\\U0001f939\\u200d\\u2642|\\U0001f939\\u200d\\u2640|\\U0001f9d8\\u200d\\u2642|\\U0001f9d8\\u200d\\u2640|\\U0001f468\\u200d\\U0001f466|\\U0001f468\\u200d\\U0001f467|\\U0001f469\\u200d\\U0001f466|\\U0001f469\\u200d\\U0001f467|\\U0001f415\\u200d\\U0001f9ba|\\\\#\\ufe0f\\u20e3|\\\\*\\ufe0f\\u20e3|0\\ufe0f\\u20e3|1\\ufe0f\\u20e3|2\\ufe0f\\u20e3|3\\ufe0f\\u20e3|4\\ufe0f\\u20e3|5\\ufe0f\\u20e3|6\\ufe0f\\u20e3|7\\ufe0f\\u20e3|8\\ufe0f\\u20e3|9\\ufe0f\\u20e3|\\U0001f3f3\\u200d\\U0001f308|\\U0001f3f4\\u200d\\u2620|\\u263a\\ufe0f|\\u2639\\ufe0f|\\u2620\\ufe0f|\\u2763\\ufe0f|\\u2764\\ufe0f|\\U0001f573\\ufe0f|\\U0001f5e8\\ufe0f|\\U0001f5ef\\ufe0f|\\U0001f44b\\U0001f3fb|\\U0001f44b\\U0001f3fc|\\U0001f44b\\U0001f3fd|\\U0001f44b\\U0001f3fe|\\U0001f44b\\U0001f3ff|\\U0001f91a\\U0001f3fb|\\U0001f91a\\U0001f3fc|\\U0001f91a\\U0001f3fd|\\U0001f91a\\U0001f3fe|\\U0001f91a\\U0001f3ff|\\U0001f590\\ufe0f|\\U0001f590\\U0001f3fb|\\U0001f590\\U0001f3fc|\\U0001f590\\U0001f3fd|\\U0001f590\\U0001f3fe|\\U0001f590\\U0001f3ff|\\u270b\\U0001f3fb|\\u270b\\U0001f3fc|\\u270b\\U0001f3fd|\\u270b\\U0001f3fe|\\u270b\\U0001f3ff|\\U0001f596\\U0001f3fb|\\U0001f596\\U0001f3fc|\\U0001f596\\U0001f3fd|\\U0001f596\\U0001f3fe|\\U0001f596\\U0001f3ff|\\U0001f44c\\U0001f3fb|\\U0001f44c\\U0001f3fc|\\U0001f44c\\U0001f3fd|\\U0001f44c\\U0001f3fe|\\U0001f44c\\U0001f3ff|\\U0001f90f\\U0001f3fb|\\U0001f90f\\U0001f3fc|\\U0001f90f\\U0001f3fd|\\U0001f90f\\U0001f3fe|\\U0001f90f\\U0001f3ff|\\u270c\\ufe0f|\\u270c\\U0001f3fb|\\u270c\\U0001f3fc|\\u270c\\U0001f3fd|\\u270c\\U0001f3fe|\\u270c\\U0001f3ff|\\U0001f91e\\U0001f3fb|\\U0001f91e\\U0001f3fc|\\U0001f91e\\U0001f3fd|\\U0001f91e\\U0001f3fe|\\U0001f91e\\U0001f3ff|\\U0001f91f\\U0001f3fb|\\U0001f91f\\U0001f3fc|\\U0001f91f\\U0001f3fd|\\U0001f91f\\U0001f3fe|\\U0001f91f\\U0001f3ff|\\U0001f918\\U0001f3fb|\\U0001f918\\U0001f3fc|\\U0001f918\\U0001f3fd|\\U0001f918\\U0001f3fe|\\U0001f918\\U0001f3ff|\\U0001f919\\U0001f3fb|\\U0001f919\\U0001f3fc|\\U0001f919\\U0001f3fd|\\U0001f919\\U0001f3fe|\\U0001f919\\U0001f3ff|\\U0001f448\\U0001f3fb|\\U0001f448\\U0001f3fc|\\U0001f448\\U0001f3fd|\\U0001f448\\U0001f3fe|\\U0001f448\\U0001f3ff|\\U0001f449\\U0001f3fb|\\U0001f449\\U0001f3fc|\\U0001f449\\U0001f3fd|\\U0001f449\\U0001f3fe|\\U0001f449\\U0001f3ff|\\U0001f446\\U0001f3fb|\\U0001f446\\U0001f3fc|\\U0001f446\\U0001f3fd|\\U0001f446\\U0001f3fe|\\U0001f446\\U0001f3ff|\\U0001f595\\U0001f3fb|\\U0001f595\\U0001f3fc|\\U0001f595\\U0001f3fd|\\U0001f595\\U0001f3fe|\\U0001f595\\U0001f3ff|\\U0001f447\\U0001f3fb|\\U0001f447\\U0001f3fc|\\U0001f447\\U0001f3fd|\\U0001f447\\U0001f3fe|\\U0001f447\\U0001f3ff|\\u261d\\ufe0f|\\u261d\\U0001f3fb|\\u261d\\U0001f3fc|\\u261d\\U0001f3fd|\\u261d\\U0001f3fe|\\u261d\\U0001f3ff|\\U0001f44d\\U0001f3fb|\\U0001f44d\\U0001f3fc|\\U0001f44d\\U0001f3fd|\\U0001f44d\\U0001f3fe|\\U0001f44d\\U0001f3ff|\\U0001f44e\\U0001f3fb|\\U0001f44e\\U0001f3fc|\\U0001f44e\\U0001f3fd|\\U0001f44e\\U0001f3fe|\\U0001f44e\\U0001f3ff|\\u270a\\U0001f3fb|\\u270a\\U0001f3fc|\\u270a\\U0001f3fd|\\u270a\\U0001f3fe|\\u270a\\U0001f3ff|\\U0001f44a\\U0001f3fb|\\U0001f44a\\U0001f3fc|\\U0001f44a\\U0001f3fd|\\U0001f44a\\U0001f3fe|\\U0001f44a\\U0001f3ff|\\U0001f91b\\U0001f3fb|\\U0001f91b\\U0001f3fc|\\U0001f91b\\U0001f3fd|\\U0001f91b\\U0001f3fe|\\U0001f91b\\U0001f3ff|\\U0001f91c\\U0001f3fb|\\U0001f91c\\U0001f3fc|\\U0001f91c\\U0001f3fd|\\U0001f91c\\U0001f3fe|\\U0001f91c\\U0001f3ff|\\U0001f44f\\U0001f3fb|\\U0001f44f\\U0001f3fc|\\U0001f44f\\U0001f3fd|\\U0001f44f\\U0001f3fe|\\U0001f44f\\U0001f3ff|\\U0001f64c\\U0001f3fb|\\U0001f64c\\U0001f3fc|\\U0001f64c\\U0001f3fd|\\U0001f64c\\U0001f3fe|\\U0001f64c\\U0001f3ff|\\U0001f450\\U0001f3fb|\\U0001f450\\U0001f3fc|\\U0001f450\\U0001f3fd|\\U0001f450\\U0001f3fe|\\U0001f450\\U0001f3ff|\\U0001f932\\U0001f3fb|\\U0001f932\\U0001f3fc|\\U0001f932\\U0001f3fd|\\U0001f932\\U0001f3fe|\\U0001f932\\U0001f3ff|\\U0001f64f\\U0001f3fb|\\U0001f64f\\U0001f3fc|\\U0001f64f\\U0001f3fd|\\U0001f64f\\U0001f3fe|\\U0001f64f\\U0001f3ff|\\u270d\\ufe0f|\\u270d\\U0001f3fb|\\u270d\\U0001f3fc|\\u270d\\U0001f3fd|\\u270d\\U0001f3fe|\\u270d\\U0001f3ff|\\U0001f485\\U0001f3fb|\\U0001f485\\U0001f3fc|\\U0001f485\\U0001f3fd|\\U0001f485\\U0001f3fe|\\U0001f485\\U0001f3ff|\\U0001f933\\U0001f3fb|\\U0001f933\\U0001f3fc|\\U0001f933\\U0001f3fd|\\U0001f933\\U0001f3fe|\\U0001f933\\U0001f3ff|\\U0001f4aa\\U0001f3fb|\\U0001f4aa\\U0001f3fc|\\U0001f4aa\\U0001f3fd|\\U0001f4aa\\U0001f3fe|\\U0001f4aa\\U0001f3ff|\\U0001f9b5\\U0001f3fb|\\U0001f9b5\\U0001f3fc|\\U0001f9b5\\U0001f3fd|\\U0001f9b5\\U0001f3fe|\\U0001f9b5\\U0001f3ff|\\U0001f9b6\\U0001f3fb|\\U0001f9b6\\U0001f3fc|\\U0001f9b6\\U0001f3fd|\\U0001f9b6\\U0001f3fe|\\U0001f9b6\\U0001f3ff|\\U0001f442\\U0001f3fb|\\U0001f442\\U0001f3fc|\\U0001f442\\U0001f3fd|\\U0001f442\\U0001f3fe|\\U0001f442\\U0001f3ff|\\U0001f9bb\\U0001f3fb|\\U0001f9bb\\U0001f3fc|\\U0001f9bb\\U0001f3fd|\\U0001f9bb\\U0001f3fe|\\U0001f9bb\\U0001f3ff|\\U0001f443\\U0001f3fb|\\U0001f443\\U0001f3fc|\\U0001f443\\U0001f3fd|\\U0001f443\\U0001f3fe|\\U0001f443\\U0001f3ff|\\U0001f441\\ufe0f|\\U0001f476\\U0001f3fb|\\U0001f476\\U0001f3fc|\\U0001f476\\U0001f3fd|\\U0001f476\\U0001f3fe|\\U0001f476\\U0001f3ff|\\U0001f9d2\\U0001f3fb|\\U0001f9d2\\U0001f3fc|\\U0001f9d2\\U0001f3fd|\\U0001f9d2\\U0001f3fe|\\U0001f9d2\\U0001f3ff|\\U0001f466\\U0001f3fb|\\U0001f466\\U0001f3fc|\\U0001f466\\U0001f3fd|\\U0001f466\\U0001f3fe|\\U0001f466\\U0001f3ff|\\U0001f467\\U0001f3fb|\\U0001f467\\U0001f3fc|\\U0001f467\\U0001f3fd|\\U0001f467\\U0001f3fe|\\U0001f467\\U0001f3ff|\\U0001f9d1\\U0001f3fb|\\U0001f9d1\\U0001f3fc|\\U0001f9d1\\U0001f3fd|\\U0001f9d1\\U0001f3fe|\\U0001f9d1\\U0001f3ff|\\U0001f471\\U0001f3fb|\\U0001f471\\U0001f3fc|\\U0001f471\\U0001f3fd|\\U0001f471\\U0001f3fe|\\U0001f471\\U0001f3ff|\\U0001f468\\U0001f3fb|\\U0001f468\\U0001f3fc|\\U0001f468\\U0001f3fd|\\U0001f468\\U0001f3fe|\\U0001f468\\U0001f3ff|\\U0001f9d4\\U0001f3fb|\\U0001f9d4\\U0001f3fc|\\U0001f9d4\\U0001f3fd|\\U0001f9d4\\U0001f3fe|\\U0001f9d4\\U0001f3ff|\\U0001f469\\U0001f3fb|\\U0001f469\\U0001f3fc|\\U0001f469\\U0001f3fd|\\U0001f469\\U0001f3fe|\\U0001f469\\U0001f3ff|\\U0001f9d3\\U0001f3fb|\\U0001f9d3\\U0001f3fc|\\U0001f9d3\\U0001f3fd|\\U0001f9d3\\U0001f3fe|\\U0001f9d3\\U0001f3ff|\\U0001f474\\U0001f3fb|\\U0001f474\\U0001f3fc|\\U0001f474\\U0001f3fd|\\U0001f474\\U0001f3fe|\\U0001f474\\U0001f3ff|\\U0001f475\\U0001f3fb|\\U0001f475\\U0001f3fc|\\U0001f475\\U0001f3fd|\\U0001f475\\U0001f3fe|\\U0001f475\\U0001f3ff|\\U0001f64d\\U0001f3fb|\\U0001f64d\\U0001f3fc|\\U0001f64d\\U0001f3fd|\\U0001f64d\\U0001f3fe|\\U0001f64d\\U0001f3ff|\\U0001f64e\\U0001f3fb|\\U0001f64e\\U0001f3fc|\\U0001f64e\\U0001f3fd|\\U0001f64e\\U0001f3fe|\\U0001f64e\\U0001f3ff|\\U0001f645\\U0001f3fb|\\U0001f645\\U0001f3fc|\\U0001f645\\U0001f3fd|\\U0001f645\\U0001f3fe|\\U0001f645\\U0001f3ff|\\U0001f646\\U0001f3fb|\\U0001f646\\U0001f3fc|\\U0001f646\\U0001f3fd|\\U0001f646\\U0001f3fe|\\U0001f646\\U0001f3ff|\\U0001f481\\U0001f3fb|\\U0001f481\\U0001f3fc|\\U0001f481\\U0001f3fd|\\U0001f481\\U0001f3fe|\\U0001f481\\U0001f3ff|\\U0001f64b\\U0001f3fb|\\U0001f64b\\U0001f3fc|\\U0001f64b\\U0001f3fd|\\U0001f64b\\U0001f3fe|\\U0001f64b\\U0001f3ff|\\U0001f9cf\\U0001f3fb|\\U0001f9cf\\U0001f3fc|\\U0001f9cf\\U0001f3fd|\\U0001f9cf\\U0001f3fe|\\U0001f9cf\\U0001f3ff|\\U0001f647\\U0001f3fb|\\U0001f647\\U0001f3fc|\\U0001f647\\U0001f3fd|\\U0001f647\\U0001f3fe|\\U0001f647\\U0001f3ff|\\U0001f926\\U0001f3fb|\\U0001f926\\U0001f3fc|\\U0001f926\\U0001f3fd|\\U0001f926\\U0001f3fe|\\U0001f926\\U0001f3ff|\\U0001f937\\U0001f3fb|\\U0001f937\\U0001f3fc|\\U0001f937\\U0001f3fd|\\U0001f937\\U0001f3fe|\\U0001f937\\U0001f3ff|\\U0001f46e\\U0001f3fb|\\U0001f46e\\U0001f3fc|\\U0001f46e\\U0001f3fd|\\U0001f46e\\U0001f3fe|\\U0001f46e\\U0001f3ff|\\U0001f575\\ufe0f|\\U0001f575\\U0001f3fb|\\U0001f575\\U0001f3fc|\\U0001f575\\U0001f3fd|\\U0001f575\\U0001f3fe|\\U0001f575\\U0001f3ff|\\U0001f482\\U0001f3fb|\\U0001f482\\U0001f3fc|\\U0001f482\\U0001f3fd|\\U0001f482\\U0001f3fe|\\U0001f482\\U0001f3ff|\\U0001f477\\U0001f3fb|\\U0001f477\\U0001f3fc|\\U0001f477\\U0001f3fd|\\U0001f477\\U0001f3fe|\\U0001f477\\U0001f3ff|\\U0001f934\\U0001f3fb|\\U0001f934\\U0001f3fc|\\U0001f934\\U0001f3fd|\\U0001f934\\U0001f3fe|\\U0001f934\\U0001f3ff|\\U0001f478\\U0001f3fb|\\U0001f478\\U0001f3fc|\\U0001f478\\U0001f3fd|\\U0001f478\\U0001f3fe|\\U0001f478\\U0001f3ff|\\U0001f473\\U0001f3fb|\\U0001f473\\U0001f3fc|\\U0001f473\\U0001f3fd|\\U0001f473\\U0001f3fe|\\U0001f473\\U0001f3ff|\\U0001f472\\U0001f3fb|\\U0001f472\\U0001f3fc|\\U0001f472\\U0001f3fd|\\U0001f472\\U0001f3fe|\\U0001f472\\U0001f3ff|\\U0001f9d5\\U0001f3fb|\\U0001f9d5\\U0001f3fc|\\U0001f9d5\\U0001f3fd|\\U0001f9d5\\U0001f3fe|\\U0001f9d5\\U0001f3ff|\\U0001f935\\U0001f3fb|\\U0001f935\\U0001f3fc|\\U0001f935\\U0001f3fd|\\U0001f935\\U0001f3fe|\\U0001f935\\U0001f3ff|\\U0001f470\\U0001f3fb|\\U0001f470\\U0001f3fc|\\U0001f470\\U0001f3fd|\\U0001f470\\U0001f3fe|\\U0001f470\\U0001f3ff|\\U0001f930\\U0001f3fb|\\U0001f930\\U0001f3fc|\\U0001f930\\U0001f3fd|\\U0001f930\\U0001f3fe|\\U0001f930\\U0001f3ff|\\U0001f931\\U0001f3fb|\\U0001f931\\U0001f3fc|\\U0001f931\\U0001f3fd|\\U0001f931\\U0001f3fe|\\U0001f931\\U0001f3ff|\\U0001f47c\\U0001f3fb|\\U0001f47c\\U0001f3fc|\\U0001f47c\\U0001f3fd|\\U0001f47c\\U0001f3fe|\\U0001f47c\\U0001f3ff|\\U0001f385\\U0001f3fb|\\U0001f385\\U0001f3fc|\\U0001f385\\U0001f3fd|\\U0001f385\\U0001f3fe|\\U0001f385\\U0001f3ff|\\U0001f936\\U0001f3fb|\\U0001f936\\U0001f3fc|\\U0001f936\\U0001f3fd|\\U0001f936\\U0001f3fe|\\U0001f936\\U0001f3ff|\\U0001f9b8\\U0001f3fb|\\U0001f9b8\\U0001f3fc|\\U0001f9b8\\U0001f3fd|\\U0001f9b8\\U0001f3fe|\\U0001f9b8\\U0001f3ff|\\U0001f9b9\\U0001f3fb|\\U0001f9b9\\U0001f3fc|\\U0001f9b9\\U0001f3fd|\\U0001f9b9\\U0001f3fe|\\U0001f9b9\\U0001f3ff|\\U0001f9d9\\U0001f3fb|\\U0001f9d9\\U0001f3fc|\\U0001f9d9\\U0001f3fd|\\U0001f9d9\\U0001f3fe|\\U0001f9d9\\U0001f3ff|\\U0001f9da\\U0001f3fb|\\U0001f9da\\U0001f3fc|\\U0001f9da\\U0001f3fd|\\U0001f9da\\U0001f3fe|\\U0001f9da\\U0001f3ff|\\U0001f9db\\U0001f3fb|\\U0001f9db\\U0001f3fc|\\U0001f9db\\U0001f3fd|\\U0001f9db\\U0001f3fe|\\U0001f9db\\U0001f3ff|\\U0001f9dc\\U0001f3fb|\\U0001f9dc\\U0001f3fc|\\U0001f9dc\\U0001f3fd|\\U0001f9dc\\U0001f3fe|\\U0001f9dc\\U0001f3ff|\\U0001f9dd\\U0001f3fb|\\U0001f9dd\\U0001f3fc|\\U0001f9dd\\U0001f3fd|\\U0001f9dd\\U0001f3fe|\\U0001f9dd\\U0001f3ff|\\U0001f486\\U0001f3fb|\\U0001f486\\U0001f3fc|\\U0001f486\\U0001f3fd|\\U0001f486\\U0001f3fe|\\U0001f486\\U0001f3ff|\\U0001f487\\U0001f3fb|\\U0001f487\\U0001f3fc|\\U0001f487\\U0001f3fd|\\U0001f487\\U0001f3fe|\\U0001f487\\U0001f3ff|\\U0001f6b6\\U0001f3fb|\\U0001f6b6\\U0001f3fc|\\U0001f6b6\\U0001f3fd|\\U0001f6b6\\U0001f3fe|\\U0001f6b6\\U0001f3ff|\\U0001f9cd\\U0001f3fb|\\U0001f9cd\\U0001f3fc|\\U0001f9cd\\U0001f3fd|\\U0001f9cd\\U0001f3fe|\\U0001f9cd\\U0001f3ff|\\U0001f9ce\\U0001f3fb|\\U0001f9ce\\U0001f3fc|\\U0001f9ce\\U0001f3fd|\\U0001f9ce\\U0001f3fe|\\U0001f9ce\\U0001f3ff|\\U0001f3c3\\U0001f3fb|\\U0001f3c3\\U0001f3fc|\\U0001f3c3\\U0001f3fd|\\U0001f3c3\\U0001f3fe|\\U0001f3c3\\U0001f3ff|\\U0001f483\\U0001f3fb|\\U0001f483\\U0001f3fc|\\U0001f483\\U0001f3fd|\\U0001f483\\U0001f3fe|\\U0001f483\\U0001f3ff|\\U0001f57a\\U0001f3fb|\\U0001f57a\\U0001f3fc|\\U0001f57a\\U0001f3fd|\\U0001f57a\\U0001f3fe|\\U0001f57a\\U0001f3ff|\\U0001f574\\ufe0f|\\U0001f574\\U0001f3fb|\\U0001f574\\U0001f3fc|\\U0001f574\\U0001f3fd|\\U0001f574\\U0001f3fe|\\U0001f574\\U0001f3ff|\\U0001f9d6\\U0001f3fb|\\U0001f9d6\\U0001f3fc|\\U0001f9d6\\U0001f3fd|\\U0001f9d6\\U0001f3fe|\\U0001f9d6\\U0001f3ff|\\U0001f9d7\\U0001f3fb|\\U0001f9d7\\U0001f3fc|\\U0001f9d7\\U0001f3fd|\\U0001f9d7\\U0001f3fe|\\U0001f9d7\\U0001f3ff|\\U0001f3c7\\U0001f3fb|\\U0001f3c7\\U0001f3fc|\\U0001f3c7\\U0001f3fd|\\U0001f3c7\\U0001f3fe|\\U0001f3c7\\U0001f3ff|\\u26f7\\ufe0f|\\U0001f3c2\\U0001f3fb|\\U0001f3c2\\U0001f3fc|\\U0001f3c2\\U0001f3fd|\\U0001f3c2\\U0001f3fe|\\U0001f3c2\\U0001f3ff|\\U0001f3cc\\ufe0f|\\U0001f3cc\\U0001f3fb|\\U0001f3cc\\U0001f3fc|\\U0001f3cc\\U0001f3fd|\\U0001f3cc\\U0001f3fe|\\U0001f3cc\\U0001f3ff|\\U0001f3c4\\U0001f3fb|\\U0001f3c4\\U0001f3fc|\\U0001f3c4\\U0001f3fd|\\U0001f3c4\\U0001f3fe|\\U0001f3c4\\U0001f3ff|\\U0001f6a3\\U0001f3fb|\\U0001f6a3\\U0001f3fc|\\U0001f6a3\\U0001f3fd|\\U0001f6a3\\U0001f3fe|\\U0001f6a3\\U0001f3ff|\\U0001f3ca\\U0001f3fb|\\U0001f3ca\\U0001f3fc|\\U0001f3ca\\U0001f3fd|\\U0001f3ca\\U0001f3fe|\\U0001f3ca\\U0001f3ff|\\u26f9\\ufe0f|\\u26f9\\U0001f3fb|\\u26f9\\U0001f3fc|\\u26f9\\U0001f3fd|\\u26f9\\U0001f3fe|\\u26f9\\U0001f3ff|\\U0001f3cb\\ufe0f|\\U0001f3cb\\U0001f3fb|\\U0001f3cb\\U0001f3fc|\\U0001f3cb\\U0001f3fd|\\U0001f3cb\\U0001f3fe|\\U0001f3cb\\U0001f3ff|\\U0001f6b4\\U0001f3fb|\\U0001f6b4\\U0001f3fc|\\U0001f6b4\\U0001f3fd|\\U0001f6b4\\U0001f3fe|\\U0001f6b4\\U0001f3ff|\\U0001f6b5\\U0001f3fb|\\U0001f6b5\\U0001f3fc|\\U0001f6b5\\U0001f3fd|\\U0001f6b5\\U0001f3fe|\\U0001f6b5\\U0001f3ff|\\U0001f938\\U0001f3fb|\\U0001f938\\U0001f3fc|\\U0001f938\\U0001f3fd|\\U0001f938\\U0001f3fe|\\U0001f938\\U0001f3ff|\\U0001f93d\\U0001f3fb|\\U0001f93d\\U0001f3fc|\\U0001f93d\\U0001f3fd|\\U0001f93d\\U0001f3fe|\\U0001f93d\\U0001f3ff|\\U0001f93e\\U0001f3fb|\\U0001f93e\\U0001f3fc|\\U0001f93e\\U0001f3fd|\\U0001f93e\\U0001f3fe|\\U0001f93e\\U0001f3ff|\\U0001f939\\U0001f3fb|\\U0001f939\\U0001f3fc|\\U0001f939\\U0001f3fd|\\U0001f939\\U0001f3fe|\\U0001f939\\U0001f3ff|\\U0001f9d8\\U0001f3fb|\\U0001f9d8\\U0001f3fc|\\U0001f9d8\\U0001f3fd|\\U0001f9d8\\U0001f3fe|\\U0001f9d8\\U0001f3ff|\\U0001f6c0\\U0001f3fb|\\U0001f6c0\\U0001f3fc|\\U0001f6c0\\U0001f3fd|\\U0001f6c0\\U0001f3fe|\\U0001f6c0\\U0001f3ff|\\U0001f6cc\\U0001f3fb|\\U0001f6cc\\U0001f3fc|\\U0001f6cc\\U0001f3fd|\\U0001f6cc\\U0001f3fe|\\U0001f6cc\\U0001f3ff|\\U0001f46d\\U0001f3fb|\\U0001f46d\\U0001f3fc|\\U0001f46d\\U0001f3fd|\\U0001f46d\\U0001f3fe|\\U0001f46d\\U0001f3ff|\\U0001f46b\\U0001f3fb|\\U0001f46b\\U0001f3fc|\\U0001f46b\\U0001f3fd|\\U0001f46b\\U0001f3fe|\\U0001f46b\\U0001f3ff|\\U0001f46c\\U0001f3fb|\\U0001f46c\\U0001f3fc|\\U0001f46c\\U0001f3fd|\\U0001f46c\\U0001f3fe|\\U0001f46c\\U0001f3ff|\\U0001f5e3\\ufe0f|\\U0001f43f\\ufe0f|\\U0001f54a\\ufe0f|\\U0001f577\\ufe0f|\\U0001f578\\ufe0f|\\U0001f3f5\\ufe0f|\\u2618\\ufe0f|\\U0001f336\\ufe0f|\\U0001f37d\\ufe0f|\\U0001f5fa\\ufe0f|\\U0001f3d4\\ufe0f|\\u26f0\\ufe0f|\\U0001f3d5\\ufe0f|\\U0001f3d6\\ufe0f|\\U0001f3dc\\ufe0f|\\U0001f3dd\\ufe0f|\\U0001f3de\\ufe0f|\\U0001f3df\\ufe0f|\\U0001f3db\\ufe0f|\\U0001f3d7\\ufe0f|\\U0001f3d8\\ufe0f|\\U0001f3da\\ufe0f|\\u26e9\\ufe0f|\\U0001f3d9\\ufe0f|\\u2668\\ufe0f|\\U0001f3ce\\ufe0f|\\U0001f3cd\\ufe0f|\\U0001f6e3\\ufe0f|\\U0001f6e4\\ufe0f|\\U0001f6e2\\ufe0f|\\U0001f6f3\\ufe0f|\\u26f4\\ufe0f|\\U0001f6e5\\ufe0f|\\u2708\\ufe0f|\\U0001f6e9\\ufe0f|\\U0001f6f0\\ufe0f|\\U0001f6ce\\ufe0f|\\u23f1\\ufe0f|\\u23f2\\ufe0f|\\U0001f570\\ufe0f|\\U0001f321\\ufe0f|\\u2600\\ufe0f|\\u2601\\ufe0f|\\u26c8\\ufe0f|\\U0001f324\\ufe0f|\\U0001f325\\ufe0f|\\U0001f326\\ufe0f|\\U0001f327\\ufe0f|\\U0001f328\\ufe0f|\\U0001f329\\ufe0f|\\U0001f32a\\ufe0f|\\U0001f32b\\ufe0f|\\U0001f32c\\ufe0f|\\u2602\\ufe0f|\\u26f1\\ufe0f|\\u2744\\ufe0f|\\u2603\\ufe0f|\\u2604\\ufe0f|\\U0001f397\\ufe0f|\\U0001f39f\\ufe0f|\\U0001f396\\ufe0f|\\u26f8\\ufe0f|\\U0001f579\\ufe0f|\\u2660\\ufe0f|\\u2665\\ufe0f|\\u2666\\ufe0f|\\u2663\\ufe0f|\\u265f\\ufe0f|\\U0001f5bc\\ufe0f|\\U0001f576\\ufe0f|\\U0001f6cd\\ufe0f|\\u26d1\\ufe0f|\\U0001f399\\ufe0f|\\U0001f39a\\ufe0f|\\U0001f39b\\ufe0f|\\u260e\\ufe0f|\\U0001f5a5\\ufe0f|\\U0001f5a8\\ufe0f|\\u2328\\ufe0f|\\U0001f5b1\\ufe0f|\\U0001f5b2\\ufe0f|\\U0001f39e\\ufe0f|\\U0001f4fd\\ufe0f|\\U0001f56f\\ufe0f|\\U0001f5de\\ufe0f|\\U0001f3f7\\ufe0f|\\u2709\\ufe0f|\\U0001f5f3\\ufe0f|\\u270f\\ufe0f|\\u2712\\ufe0f|\\U0001f58b\\ufe0f|\\U0001f58a\\ufe0f|\\U0001f58c\\ufe0f|\\U0001f58d\\ufe0f|\\U0001f5c2\\ufe0f|\\U0001f5d2\\ufe0f|\\U0001f5d3\\ufe0f|\\U0001f587\\ufe0f|\\u2702\\ufe0f|\\U0001f5c3\\ufe0f|\\U0001f5c4\\ufe0f|\\U0001f5d1\\ufe0f|\\U0001f5dd\\ufe0f|\\u26cf\\ufe0f|\\u2692\\ufe0f|\\U0001f6e0\\ufe0f|\\U0001f5e1\\ufe0f|\\u2694\\ufe0f|\\U0001f6e1\\ufe0f|\\u2699\\ufe0f|\\U0001f5dc\\ufe0f|\\u2696\\ufe0f|\\u26d3\\ufe0f|\\u2697\\ufe0f|\\U0001f6cf\\ufe0f|\\U0001f6cb\\ufe0f|\\u26b0\\ufe0f|\\u26b1\\ufe0f|\\u26a0\\ufe0f|\\u2622\\ufe0f|\\u2623\\ufe0f|\\u2b06\\ufe0f|\\u2197\\ufe0f|\\u27a1\\ufe0f|\\u2198\\ufe0f|\\u2b07\\ufe0f|\\u2199\\ufe0f|\\u2b05\\ufe0f|\\u2196\\ufe0f|\\u2195\\ufe0f|\\u2194\\ufe0f|\\u21a9\\ufe0f|\\u21aa\\ufe0f|\\u2934\\ufe0f|\\u2935\\ufe0f|\\u269b\\ufe0f|\\U0001f549\\ufe0f|\\u2721\\ufe0f|\\u2638\\ufe0f|\\u262f\\ufe0f|\\u271d\\ufe0f|\\u2626\\ufe0f|\\u262a\\ufe0f|\\u262e\\ufe0f|\\u25b6\\ufe0f|\\u23ed\\ufe0f|\\u23ef\\ufe0f|\\u25c0\\ufe0f|\\u23ee\\ufe0f|\\u23f8\\ufe0f|\\u23f9\\ufe0f|\\u23fa\\ufe0f|\\u23cf\\ufe0f|\\u2640\\ufe0f|\\u2642\\ufe0f|\\u2695\\ufe0f|\\u267e\\ufe0f|\\u267b\\ufe0f|\\u269c\\ufe0f|\\u2611\\ufe0f|\\u2714\\ufe0f|\\u2716\\ufe0f|\\u303d\\ufe0f|\\u2733\\ufe0f|\\u2734\\ufe0f|\\u2747\\ufe0f|\\u203c\\ufe0f|\\u2049\\ufe0f|\\u3030\\ufe0f|\\xa9\\ufe0f|\\xae\\ufe0f|\\u2122\\ufe0f|\\\\#\\u20e3|\\\\*\\u20e3|0\\u20e3|1\\u20e3|2\\u20e3|3\\u20e3|4\\u20e3|5\\u20e3|6\\u20e3|7\\u20e3|8\\u20e3|9\\u20e3|\\U0001f170\\ufe0f|\\U0001f171\\ufe0f|\\u2139\\ufe0f|\\u24c2\\ufe0f|\\U0001f17e\\ufe0f|\\U0001f17f\\ufe0f|\\U0001f202\\ufe0f|\\U0001f237\\ufe0f|\\u3297\\ufe0f|\\u3299\\ufe0f|\\u25fc\\ufe0f|\\u25fb\\ufe0f|\\u25aa\\ufe0f|\\u25ab\\ufe0f|\\U0001f3f3\\ufe0f|\\U0001f1e6\\U0001f1e8|\\U0001f1e6\\U0001f1e9|\\U0001f1e6\\U0001f1ea|\\U0001f1e6\\U0001f1eb|\\U0001f1e6\\U0001f1ec|\\U0001f1e6\\U0001f1ee|\\U0001f1e6\\U0001f1f1|\\U0001f1e6\\U0001f1f2|\\U0001f1e6\\U0001f1f4|\\U0001f1e6\\U0001f1f6|\\U0001f1e6\\U0001f1f7|\\U0001f1e6\\U0001f1f8|\\U0001f1e6\\U0001f1f9|\\U0001f1e6\\U0001f1fa|\\U0001f1e6\\U0001f1fc|\\U0001f1e6\\U0001f1fd|\\U0001f1e6\\U0001f1ff|\\U0001f1e7\\U0001f1e6|\\U0001f1e7\\U0001f1e7|\\U0001f1e7\\U0001f1e9|\\U0001f1e7\\U0001f1ea|\\U0001f1e7\\U0001f1eb|\\U0001f1e7\\U0001f1ec|\\U0001f1e7\\U0001f1ed|\\U0001f1e7\\U0001f1ee|\\U0001f1e7\\U0001f1ef|\\U0001f1e7\\U0001f1f1|\\U0001f1e7\\U0001f1f2|\\U0001f1e7\\U0001f1f3|\\U0001f1e7\\U0001f1f4|\\U0001f1e7\\U0001f1f6|\\U0001f1e7\\U0001f1f7|\\U0001f1e7\\U0001f1f8|\\U0001f1e7\\U0001f1f9|\\U0001f1e7\\U0001f1fb|\\U0001f1e7\\U0001f1fc|\\U0001f1e7\\U0001f1fe|\\U0001f1e7\\U0001f1ff|\\U0001f1e8\\U0001f1e6|\\U0001f1e8\\U0001f1e8|\\U0001f1e8\\U0001f1e9|\\U0001f1e8\\U0001f1eb|\\U0001f1e8\\U0001f1ec|\\U0001f1e8\\U0001f1ed|\\U0001f1e8\\U0001f1ee|\\U0001f1e8\\U0001f1f0|\\U0001f1e8\\U0001f1f1|\\U0001f1e8\\U0001f1f2|\\U0001f1e8\\U0001f1f3|\\U0001f1e8\\U0001f1f4|\\U0001f1e8\\U0001f1f5|\\U0001f1e8\\U0001f1f7|\\U0001f1e8\\U0001f1fa|\\U0001f1e8\\U0001f1fb|\\U0001f1e8\\U0001f1fc|\\U0001f1e8\\U0001f1fd|\\U0001f1e8\\U0001f1fe|\\U0001f1e8\\U0001f1ff|\\U0001f1e9\\U0001f1ea|\\U0001f1e9\\U0001f1ec|\\U0001f1e9\\U0001f1ef|\\U0001f1e9\\U0001f1f0|\\U0001f1e9\\U0001f1f2|\\U0001f1e9\\U0001f1f4|\\U0001f1e9\\U0001f1ff|\\U0001f1ea\\U0001f1e6|\\U0001f1ea\\U0001f1e8|\\U0001f1ea\\U0001f1ea|\\U0001f1ea\\U0001f1ec|\\U0001f1ea\\U0001f1ed|\\U0001f1ea\\U0001f1f7|\\U0001f1ea\\U0001f1f8|\\U0001f1ea\\U0001f1f9|\\U0001f1ea\\U0001f1fa|\\U0001f1eb\\U0001f1ee|\\U0001f1eb\\U0001f1ef|\\U0001f1eb\\U0001f1f0|\\U0001f1eb\\U0001f1f2|\\U0001f1eb\\U0001f1f4|\\U0001f1eb\\U0001f1f7|\\U0001f1ec\\U0001f1e6|\\U0001f1ec\\U0001f1e7|\\U0001f1ec\\U0001f1e9|\\U0001f1ec\\U0001f1ea|\\U0001f1ec\\U0001f1eb|\\U0001f1ec\\U0001f1ec|\\U0001f1ec\\U0001f1ed|\\U0001f1ec\\U0001f1ee|\\U0001f1ec\\U0001f1f1|\\U0001f1ec\\U0001f1f2|\\U0001f1ec\\U0001f1f3|\\U0001f1ec\\U0001f1f5|\\U0001f1ec\\U0001f1f6|\\U0001f1ec\\U0001f1f7|\\U0001f1ec\\U0001f1f8|\\U0001f1ec\\U0001f1f9|\\U0001f1ec\\U0001f1fa|\\U0001f1ec\\U0001f1fc|\\U0001f1ec\\U0001f1fe|\\U0001f1ed\\U0001f1f0|\\U0001f1ed\\U0001f1f2|\\U0001f1ed\\U0001f1f3|\\U0001f1ed\\U0001f1f7|\\U0001f1ed\\U0001f1f9|\\U0001f1ed\\U0001f1fa|\\U0001f1ee\\U0001f1e8|\\U0001f1ee\\U0001f1e9|\\U0001f1ee\\U0001f1ea|\\U0001f1ee\\U0001f1f1|\\U0001f1ee\\U0001f1f2|\\U0001f1ee\\U0001f1f3|\\U0001f1ee\\U0001f1f4|\\U0001f1ee\\U0001f1f6|\\U0001f1ee\\U0001f1f7|\\U0001f1ee\\U0001f1f8|\\U0001f1ee\\U0001f1f9|\\U0001f1ef\\U0001f1ea|\\U0001f1ef\\U0001f1f2|\\U0001f1ef\\U0001f1f4|\\U0001f1ef\\U0001f1f5|\\U0001f1f0\\U0001f1ea|\\U0001f1f0\\U0001f1ec|\\U0001f1f0\\U0001f1ed|\\U0001f1f0\\U0001f1ee|\\U0001f1f0\\U0001f1f2|\\U0001f1f0\\U0001f1f3|\\U0001f1f0\\U0001f1f5|\\U0001f1f0\\U0001f1f7|\\U0001f1f0\\U0001f1fc|\\U0001f1f0\\U0001f1fe|\\U0001f1f0\\U0001f1ff|\\U0001f1f1\\U0001f1e6|\\U0001f1f1\\U0001f1e7|\\U0001f1f1\\U0001f1e8|\\U0001f1f1\\U0001f1ee|\\U0001f1f1\\U0001f1f0|\\U0001f1f1\\U0001f1f7|\\U0001f1f1\\U0001f1f8|\\U0001f1f1\\U0001f1f9|\\U0001f1f1\\U0001f1fa|\\U0001f1f1\\U0001f1fb|\\U0001f1f1\\U0001f1fe|\\U0001f1f2\\U0001f1e6|\\U0001f1f2\\U0001f1e8|\\U0001f1f2\\U0001f1e9|\\U0001f1f2\\U0001f1ea|\\U0001f1f2\\U0001f1eb|\\U0001f1f2\\U0001f1ec|\\U0001f1f2\\U0001f1ed|\\U0001f1f2\\U0001f1f0|\\U0001f1f2\\U0001f1f1|\\U0001f1f2\\U0001f1f2|\\U0001f1f2\\U0001f1f3|\\U0001f1f2\\U0001f1f4|\\U0001f1f2\\U0001f1f5|\\U0001f1f2\\U0001f1f6|\\U0001f1f2\\U0001f1f7|\\U0001f1f2\\U0001f1f8|\\U0001f1f2\\U0001f1f9|\\U0001f1f2\\U0001f1fa|\\U0001f1f2\\U0001f1fb|\\U0001f1f2\\U0001f1fc|\\U0001f1f2\\U0001f1fd|\\U0001f1f2\\U0001f1fe|\\U0001f1f2\\U0001f1ff|\\U0001f1f3\\U0001f1e6|\\U0001f1f3\\U0001f1e8|\\U0001f1f3\\U0001f1ea|\\U0001f1f3\\U0001f1eb|\\U0001f1f3\\U0001f1ec|\\U0001f1f3\\U0001f1ee|\\U0001f1f3\\U0001f1f1|\\U0001f1f3\\U0001f1f4|\\U0001f1f3\\U0001f1f5|\\U0001f1f3\\U0001f1f7|\\U0001f1f3\\U0001f1fa|\\U0001f1f3\\U0001f1ff|\\U0001f1f4\\U0001f1f2|\\U0001f1f5\\U0001f1e6|\\U0001f1f5\\U0001f1ea|\\U0001f1f5\\U0001f1eb|\\U0001f1f5\\U0001f1ec|\\U0001f1f5\\U0001f1ed|\\U0001f1f5\\U0001f1f0|\\U0001f1f5\\U0001f1f1|\\U0001f1f5\\U0001f1f2|\\U0001f1f5\\U0001f1f3|\\U0001f1f5\\U0001f1f7|\\U0001f1f5\\U0001f1f8|\\U0001f1f5\\U0001f1f9|\\U0001f1f5\\U0001f1fc|\\U0001f1f5\\U0001f1fe|\\U0001f1f6\\U0001f1e6|\\U0001f1f7\\U0001f1ea|\\U0001f1f7\\U0001f1f4|\\U0001f1f7\\U0001f1f8|\\U0001f1f7\\U0001f1fa|\\U0001f1f7\\U0001f1fc|\\U0001f1f8\\U0001f1e6|\\U0001f1f8\\U0001f1e7|\\U0001f1f8\\U0001f1e8|\\U0001f1f8\\U0001f1e9|\\U0001f1f8\\U0001f1ea|\\U0001f1f8\\U0001f1ec|\\U0001f1f8\\U0001f1ed|\\U0001f1f8\\U0001f1ee|\\U0001f1f8\\U0001f1ef|\\U0001f1f8\\U0001f1f0|\\U0001f1f8\\U0001f1f1|\\U0001f1f8\\U0001f1f2|\\U0001f1f8\\U0001f1f3|\\U0001f1f8\\U0001f1f4|\\U0001f1f8\\U0001f1f7|\\U0001f1f8\\U0001f1f8|\\U0001f1f8\\U0001f1f9|\\U0001f1f8\\U0001f1fb|\\U0001f1f8\\U0001f1fd|\\U0001f1f8\\U0001f1fe|\\U0001f1f8\\U0001f1ff|\\U0001f1f9\\U0001f1e6|\\U0001f1f9\\U0001f1e8|\\U0001f1f9\\U0001f1e9|\\U0001f1f9\\U0001f1eb|\\U0001f1f9\\U0001f1ec|\\U0001f1f9\\U0001f1ed|\\U0001f1f9\\U0001f1ef|\\U0001f1f9\\U0001f1f0|\\U0001f1f9\\U0001f1f1|\\U0001f1f9\\U0001f1f2|\\U0001f1f9\\U0001f1f3|\\U0001f1f9\\U0001f1f4|\\U0001f1f9\\U0001f1f7|\\U0001f1f9\\U0001f1f9|\\U0001f1f9\\U0001f1fb|\\U0001f1f9\\U0001f1fc|\\U0001f1f9\\U0001f1ff|\\U0001f1fa\\U0001f1e6|\\U0001f1fa\\U0001f1ec|\\U0001f1fa\\U0001f1f2|\\U0001f1fa\\U0001f1f3|\\U0001f1fa\\U0001f1f8|\\U0001f1fa\\U0001f1fe|\\U0001f1fa\\U0001f1ff|\\U0001f1fb\\U0001f1e6|\\U0001f1fb\\U0001f1e8|\\U0001f1fb\\U0001f1ea|\\U0001f1fb\\U0001f1ec|\\U0001f1fb\\U0001f1ee|\\U0001f1fb\\U0001f1f3|\\U0001f1fb\\U0001f1fa|\\U0001f1fc\\U0001f1eb|\\U0001f1fc\\U0001f1f8|\\U0001f1fd\\U0001f1f0|\\U0001f1fe\\U0001f1ea|\\U0001f1fe\\U0001f1f9|\\U0001f1ff\\U0001f1e6|\\U0001f1ff\\U0001f1f2|\\U0001f1ff\\U0001f1fc|\\U0001f600|\\U0001f603|\\U0001f604|\\U0001f601|\\U0001f606|\\U0001f605|\\U0001f923|\\U0001f602|\\U0001f642|\\U0001f643|\\U0001f609|\\U0001f60a|\\U0001f607|\\U0001f970|\\U0001f60d|\\U0001f929|\\U0001f618|\\U0001f617|\\u263a|\\U0001f61a|\\U0001f619|\\U0001f60b|\\U0001f61b|\\U0001f61c|\\U0001f92a|\\U0001f61d|\\U0001f911|\\U0001f917|\\U0001f92d|\\U0001f92b|\\U0001f914|\\U0001f910|\\U0001f928|\\U0001f610|\\U0001f611|\\U0001f636|\\U0001f60f|\\U0001f612|\\U0001f644|\\U0001f62c|\\U0001f925|\\U0001f60c|\\U0001f614|\\U0001f62a|\\U0001f924|\\U0001f634|\\U0001f637|\\U0001f912|\\U0001f915|\\U0001f922|\\U0001f92e|\\U0001f927|\\U0001f975|\\U0001f976|\\U0001f974|\\U0001f635|\\U0001f92f|\\U0001f920|\\U0001f973|\\U0001f60e|\\U0001f913|\\U0001f9d0|\\U0001f615|\\U0001f61f|\\U0001f641|\\u2639|\\U0001f62e|\\U0001f62f|\\U0001f632|\\U0001f633|\\U0001f97a|\\U0001f626|\\U0001f627|\\U0001f628|\\U0001f630|\\U0001f625|\\U0001f622|\\U0001f62d|\\U0001f631|\\U0001f616|\\U0001f623|\\U0001f61e|\\U0001f613|\\U0001f629|\\U0001f62b|\\U0001f971|\\U0001f624|\\U0001f621|\\U0001f620|\\U0001f92c|\\U0001f608|\\U0001f47f|\\U0001f480|\\u2620|\\U0001f4a9|\\U0001f921|\\U0001f479|\\U0001f47a|\\U0001f47b|\\U0001f47d|\\U0001f47e|\\U0001f916|\\U0001f63a|\\U0001f638|\\U0001f639|\\U0001f63b|\\U0001f63c|\\U0001f63d|\\U0001f640|\\U0001f63f|\\U0001f63e|\\U0001f648|\\U0001f649|\\U0001f64a|\\U0001f48b|\\U0001f48c|\\U0001f498|\\U0001f49d|\\U0001f496|\\U0001f497|\\U0001f493|\\U0001f49e|\\U0001f495|\\U0001f49f|\\u2763|\\U0001f494|\\u2764|\\U0001f9e1|\\U0001f49b|\\U0001f49a|\\U0001f499|\\U0001f49c|\\U0001f90e|\\U0001f5a4|\\U0001f90d|\\U0001f4af|\\U0001f4a2|\\U0001f4a5|\\U0001f4ab|\\U0001f4a6|\\U0001f4a8|\\U0001f573|\\U0001f4a3|\\U0001f4ac|\\U0001f5e8|\\U0001f5ef|\\U0001f4ad|\\U0001f4a4|\\U0001f44b|\\U0001f91a|\\U0001f590|\\u270b|\\U0001f596|\\U0001f44c|\\U0001f90f|\\u270c|\\U0001f91e|\\U0001f91f|\\U0001f918|\\U0001f919|\\U0001f448|\\U0001f449|\\U0001f446|\\U0001f595|\\U0001f447|\\u261d|\\U0001f44d|\\U0001f44e|\\u270a|\\U0001f44a|\\U0001f91b|\\U0001f91c|\\U0001f44f|\\U0001f64c|\\U0001f450|\\U0001f932|\\U0001f91d|\\U0001f64f|\\u270d|\\U0001f485|\\U0001f933|\\U0001f4aa|\\U0001f9be|\\U0001f9bf|\\U0001f9b5|\\U0001f9b6|\\U0001f442|\\U0001f9bb|\\U0001f443|\\U0001f9e0|\\U0001f9b7|\\U0001f9b4|\\U0001f440|\\U0001f441|\\U0001f445|\\U0001f444|\\U0001f476|\\U0001f9d2|\\U0001f466|\\U0001f467|\\U0001f9d1|\\U0001f471|\\U0001f468|\\U0001f9d4|\\U0001f469|\\U0001f9d3|\\U0001f474|\\U0001f475|\\U0001f64d|\\U0001f64e|\\U0001f645|\\U0001f646|\\U0001f481|\\U0001f64b|\\U0001f9cf|\\U0001f647|\\U0001f926|\\U0001f937|\\U0001f46e|\\U0001f575|\\U0001f482|\\U0001f477|\\U0001f934|\\U0001f478|\\U0001f473|\\U0001f472|\\U0001f9d5|\\U0001f935|\\U0001f470|\\U0001f930|\\U0001f931|\\U0001f47c|\\U0001f385|\\U0001f936|\\U0001f9b8|\\U0001f9b9|\\U0001f9d9|\\U0001f9da|\\U0001f9db|\\U0001f9dc|\\U0001f9dd|\\U0001f9de|\\U0001f9df|\\U0001f486|\\U0001f487|\\U0001f6b6|\\U0001f9cd|\\U0001f9ce|\\U0001f3c3|\\U0001f483|\\U0001f57a|\\U0001f574|\\U0001f46f|\\U0001f9d6|\\U0001f9d7|\\U0001f93a|\\U0001f3c7|\\u26f7|\\U0001f3c2|\\U0001f3cc|\\U0001f3c4|\\U0001f6a3|\\U0001f3ca|\\u26f9|\\U0001f3cb|\\U0001f6b4|\\U0001f6b5|\\U0001f938|\\U0001f93c|\\U0001f93d|\\U0001f93e|\\U0001f939|\\U0001f9d8|\\U0001f6c0|\\U0001f6cc|\\U0001f46d|\\U0001f46b|\\U0001f46c|\\U0001f48f|\\U0001f491|\\U0001f46a|\\U0001f5e3|\\U0001f464|\\U0001f465|\\U0001f463|\\U0001f3fb|\\U0001f3fc|\\U0001f3fd|\\U0001f3fe|\\U0001f3ff|\\U0001f9b0|\\U0001f9b1|\\U0001f9b3|\\U0001f9b2|\\U0001f435|\\U0001f412|\\U0001f98d|\\U0001f9a7|\\U0001f436|\\U0001f415|\\U0001f9ae|\\U0001f429|\\U0001f43a|\\U0001f98a|\\U0001f99d|\\U0001f431|\\U0001f408|\\U0001f981|\\U0001f42f|\\U0001f405|\\U0001f406|\\U0001f434|\\U0001f40e|\\U0001f984|\\U0001f993|\\U0001f98c|\\U0001f42e|\\U0001f402|\\U0001f403|\\U0001f404|\\U0001f437|\\U0001f416|\\U0001f417|\\U0001f43d|\\U0001f40f|\\U0001f411|\\U0001f410|\\U0001f42a|\\U0001f42b|\\U0001f999|\\U0001f992|\\U0001f418|\\U0001f98f|\\U0001f99b|\\U0001f42d|\\U0001f401|\\U0001f400|\\U0001f439|\\U0001f430|\\U0001f407|\\U0001f43f|\\U0001f994|\\U0001f987|\\U0001f43b|\\U0001f428|\\U0001f43c|\\U0001f9a5|\\U0001f9a6|\\U0001f9a8|\\U0001f998|\\U0001f9a1|\\U0001f43e|\\U0001f983|\\U0001f414|\\U0001f413|\\U0001f423|\\U0001f424|\\U0001f425|\\U0001f426|\\U0001f427|\\U0001f54a|\\U0001f985|\\U0001f986|\\U0001f9a2|\\U0001f989|\\U0001f9a9|\\U0001f99a|\\U0001f99c|\\U0001f438|\\U0001f40a|\\U0001f422|\\U0001f98e|\\U0001f40d|\\U0001f432|\\U0001f409|\\U0001f995|\\U0001f996|\\U0001f433|\\U0001f40b|\\U0001f42c|\\U0001f41f|\\U0001f420|\\U0001f421|\\U0001f988|\\U0001f419|\\U0001f41a|\\U0001f40c|\\U0001f98b|\\U0001f41b|\\U0001f41c|\\U0001f41d|\\U0001f41e|\\U0001f997|\\U0001f577|\\U0001f578|\\U0001f982|\\U0001f99f|\\U0001f9a0|\\U0001f490|\\U0001f338|\\U0001f4ae|\\U0001f3f5|\\U0001f339|\\U0001f940|\\U0001f33a|\\U0001f33b|\\U0001f33c|\\U0001f337|\\U0001f331|\\U0001f332|\\U0001f333|\\U0001f334|\\U0001f335|\\U0001f33e|\\U0001f33f|\\u2618|\\U0001f340|\\U0001f341|\\U0001f342|\\U0001f343|\\U0001f347|\\U0001f348|\\U0001f349|\\U0001f34a|\\U0001f34b|\\U0001f34c|\\U0001f34d|\\U0001f96d|\\U0001f34e|\\U0001f34f|\\U0001f350|\\U0001f351|\\U0001f352|\\U0001f353|\\U0001f95d|\\U0001f345|\\U0001f965|\\U0001f951|\\U0001f346|\\U0001f954|\\U0001f955|\\U0001f33d|\\U0001f336|\\U0001f952|\\U0001f96c|\\U0001f966|\\U0001f9c4|\\U0001f9c5|\\U0001f344|\\U0001f95c|\\U0001f330|\\U0001f35e|\\U0001f950|\\U0001f956|\\U0001f968|\\U0001f96f|\\U0001f95e|\\U0001f9c7|\\U0001f9c0|\\U0001f356|\\U0001f357|\\U0001f969|\\U0001f953|\\U0001f354|\\U0001f35f|\\U0001f355|\\U0001f32d|\\U0001f96a|\\U0001f32e|\\U0001f32f|\\U0001f959|\\U0001f9c6|\\U0001f95a|\\U0001f373|\\U0001f958|\\U0001f372|\\U0001f963|\\U0001f957|\\U0001f37f|\\U0001f9c8|\\U0001f9c2|\\U0001f96b|\\U0001f371|\\U0001f358|\\U0001f359|\\U0001f35a|\\U0001f35b|\\U0001f35c|\\U0001f35d|\\U0001f360|\\U0001f362|\\U0001f363|\\U0001f364|\\U0001f365|\\U0001f96e|\\U0001f361|\\U0001f95f|\\U0001f960|\\U0001f961|\\U0001f980|\\U0001f99e|\\U0001f990|\\U0001f991|\\U0001f9aa|\\U0001f366|\\U0001f367|\\U0001f368|\\U0001f369|\\U0001f36a|\\U0001f382|\\U0001f370|\\U0001f9c1|\\U0001f967|\\U0001f36b|\\U0001f36c|\\U0001f36d|\\U0001f36e|\\U0001f36f|\\U0001f37c|\\U0001f95b|\\u2615|\\U0001f375|\\U0001f376|\\U0001f37e|\\U0001f377|\\U0001f378|\\U0001f379|\\U0001f37a|\\U0001f37b|\\U0001f942|\\U0001f943|\\U0001f964|\\U0001f9c3|\\U0001f9c9|\\U0001f9ca|\\U0001f962|\\U0001f37d|\\U0001f374|\\U0001f944|\\U0001f52a|\\U0001f3fa|\\U0001f30d|\\U0001f30e|\\U0001f30f|\\U0001f310|\\U0001f5fa|\\U0001f5fe|\\U0001f9ed|\\U0001f3d4|\\u26f0|\\U0001f30b|\\U0001f5fb|\\U0001f3d5|\\U0001f3d6|\\U0001f3dc|\\U0001f3dd|\\U0001f3de|\\U0001f3df|\\U0001f3db|\\U0001f3d7|\\U0001f9f1|\\U0001f3d8|\\U0001f3da|\\U0001f3e0|\\U0001f3e1|\\U0001f3e2|\\U0001f3e3|\\U0001f3e4|\\U0001f3e5|\\U0001f3e6|\\U0001f3e8|\\U0001f3e9|\\U0001f3ea|\\U0001f3eb|\\U0001f3ec|\\U0001f3ed|\\U0001f3ef|\\U0001f3f0|\\U0001f492|\\U0001f5fc|\\U0001f5fd|\\u26ea|\\U0001f54c|\\U0001f6d5|\\U0001f54d|\\u26e9|\\U0001f54b|\\u26f2|\\u26fa|\\U0001f301|\\U0001f303|\\U0001f3d9|\\U0001f304|\\U0001f305|\\U0001f306|\\U0001f307|\\U0001f309|\\u2668|\\U0001f3a0|\\U0001f3a1|\\U0001f3a2|\\U0001f488|\\U0001f3aa|\\U0001f682|\\U0001f683|\\U0001f684|\\U0001f685|\\U0001f686|\\U0001f687|\\U0001f688|\\U0001f689|\\U0001f68a|\\U0001f69d|\\U0001f69e|\\U0001f68b|\\U0001f68c|\\U0001f68d|\\U0001f68e|\\U0001f690|\\U0001f691|\\U0001f692|\\U0001f693|\\U0001f694|\\U0001f695|\\U0001f696|\\U0001f697|\\U0001f698|\\U0001f699|\\U0001f69a|\\U0001f69b|\\U0001f69c|\\U0001f3ce|\\U0001f3cd|\\U0001f6f5|\\U0001f9bd|\\U0001f9bc|\\U0001f6fa|\\U0001f6b2|\\U0001f6f4|\\U0001f6f9|\\U0001f68f|\\U0001f6e3|\\U0001f6e4|\\U0001f6e2|\\u26fd|\\U0001f6a8|\\U0001f6a5|\\U0001f6a6|\\U0001f6d1|\\U0001f6a7|\\u2693|\\u26f5|\\U0001f6f6|\\U0001f6a4|\\U0001f6f3|\\u26f4|\\U0001f6e5|\\U0001f6a2|\\u2708|\\U0001f6e9|\\U0001f6eb|\\U0001f6ec|\\U0001fa82|\\U0001f4ba|\\U0001f681|\\U0001f69f|\\U0001f6a0|\\U0001f6a1|\\U0001f6f0|\\U0001f680|\\U0001f6f8|\\U0001f6ce|\\U0001f9f3|\\u231b|\\u23f3|\\u231a|\\u23f0|\\u23f1|\\u23f2|\\U0001f570|\\U0001f55b|\\U0001f567|\\U0001f550|\\U0001f55c|\\U0001f551|\\U0001f55d|\\U0001f552|\\U0001f55e|\\U0001f553|\\U0001f55f|\\U0001f554|\\U0001f560|\\U0001f555|\\U0001f561|\\U0001f556|\\U0001f562|\\U0001f557|\\U0001f563|\\U0001f558|\\U0001f564|\\U0001f559|\\U0001f565|\\U0001f55a|\\U0001f566|\\U0001f311|\\U0001f312|\\U0001f313|\\U0001f314|\\U0001f315|\\U0001f316|\\U0001f317|\\U0001f318|\\U0001f319|\\U0001f31a|\\U0001f31b|\\U0001f31c|\\U0001f321|\\u2600|\\U0001f31d|\\U0001f31e|\\U0001fa90|\\u2b50|\\U0001f31f|\\U0001f320|\\U0001f30c|\\u2601|\\u26c5|\\u26c8|\\U0001f324|\\U0001f325|\\U0001f326|\\U0001f327|\\U0001f328|\\U0001f329|\\U0001f32a|\\U0001f32b|\\U0001f32c|\\U0001f300|\\U0001f308|\\U0001f302|\\u2602|\\u2614|\\u26f1|\\u26a1|\\u2744|\\u2603|\\u26c4|\\u2604|\\U0001f525|\\U0001f4a7|\\U0001f30a|\\U0001f383|\\U0001f384|\\U0001f386|\\U0001f387|\\U0001f9e8|\\u2728|\\U0001f388|\\U0001f389|\\U0001f38a|\\U0001f38b|\\U0001f38d|\\U0001f38e|\\U0001f38f|\\U0001f390|\\U0001f391|\\U0001f9e7|\\U0001f380|\\U0001f381|\\U0001f397|\\U0001f39f|\\U0001f3ab|\\U0001f396|\\U0001f3c6|\\U0001f3c5|\\U0001f947|\\U0001f948|\\U0001f949|\\u26bd|\\u26be|\\U0001f94e|\\U0001f3c0|\\U0001f3d0|\\U0001f3c8|\\U0001f3c9|\\U0001f3be|\\U0001f94f|\\U0001f3b3|\\U0001f3cf|\\U0001f3d1|\\U0001f3d2|\\U0001f94d|\\U0001f3d3|\\U0001f3f8|\\U0001f94a|\\U0001f94b|\\U0001f945|\\u26f3|\\u26f8|\\U0001f3a3|\\U0001f93f|\\U0001f3bd|\\U0001f3bf|\\U0001f6f7|\\U0001f94c|\\U0001f3af|\\U0001fa80|\\U0001fa81|\\U0001f3b1|\\U0001f52e|\\U0001f9ff|\\U0001f3ae|\\U0001f579|\\U0001f3b0|\\U0001f3b2|\\U0001f9e9|\\U0001f9f8|\\u2660|\\u2665|\\u2666|\\u2663|\\u265f|\\U0001f0cf|\\U0001f004|\\U0001f3b4|\\U0001f3ad|\\U0001f5bc|\\U0001f3a8|\\U0001f9f5|\\U0001f9f6|\\U0001f453|\\U0001f576|\\U0001f97d|\\U0001f97c|\\U0001f9ba|\\U0001f454|\\U0001f455|\\U0001f456|\\U0001f9e3|\\U0001f9e4|\\U0001f9e5|\\U0001f9e6|\\U0001f457|\\U0001f458|\\U0001f97b|\\U0001fa71|\\U0001fa72|\\U0001fa73|\\U0001f459|\\U0001f45a|\\U0001f45b|\\U0001f45c|\\U0001f45d|\\U0001f6cd|\\U0001f392|\\U0001f45e|\\U0001f45f|\\U0001f97e|\\U0001f97f|\\U0001f460|\\U0001f461|\\U0001fa70|\\U0001f462|\\U0001f451|\\U0001f452|\\U0001f3a9|\\U0001f393|\\U0001f9e2|\\u26d1|\\U0001f4ff|\\U0001f484|\\U0001f48d|\\U0001f48e|\\U0001f507|\\U0001f508|\\U0001f509|\\U0001f50a|\\U0001f4e2|\\U0001f4e3|\\U0001f4ef|\\U0001f514|\\U0001f515|\\U0001f3bc|\\U0001f3b5|\\U0001f3b6|\\U0001f399|\\U0001f39a|\\U0001f39b|\\U0001f3a4|\\U0001f3a7|\\U0001f4fb|\\U0001f3b7|\\U0001f3b8|\\U0001f3b9|\\U0001f3ba|\\U0001f3bb|\\U0001fa95|\\U0001f941|\\U0001f4f1|\\U0001f4f2|\\u260e|\\U0001f4de|\\U0001f4df|\\U0001f4e0|\\U0001f50b|\\U0001f50c|\\U0001f4bb|\\U0001f5a5|\\U0001f5a8|\\u2328|\\U0001f5b1|\\U0001f5b2|\\U0001f4bd|\\U0001f4be|\\U0001f4bf|\\U0001f4c0|\\U0001f9ee|\\U0001f3a5|\\U0001f39e|\\U0001f4fd|\\U0001f3ac|\\U0001f4fa|\\U0001f4f7|\\U0001f4f8|\\U0001f4f9|\\U0001f4fc|\\U0001f50d|\\U0001f50e|\\U0001f56f|\\U0001f4a1|\\U0001f526|\\U0001f3ee|\\U0001fa94|\\U0001f4d4|\\U0001f4d5|\\U0001f4d6|\\U0001f4d7|\\U0001f4d8|\\U0001f4d9|\\U0001f4da|\\U0001f4d3|\\U0001f4d2|\\U0001f4c3|\\U0001f4dc|\\U0001f4c4|\\U0001f4f0|\\U0001f5de|\\U0001f4d1|\\U0001f516|\\U0001f3f7|\\U0001f4b0|\\U0001f4b4|\\U0001f4b5|\\U0001f4b6|\\U0001f4b7|\\U0001f4b8|\\U0001f4b3|\\U0001f9fe|\\U0001f4b9|\\U0001f4b1|\\U0001f4b2|\\u2709|\\U0001f4e7|\\U0001f4e8|\\U0001f4e9|\\U0001f4e4|\\U0001f4e5|\\U0001f4e6|\\U0001f4eb|\\U0001f4ea|\\U0001f4ec|\\U0001f4ed|\\U0001f4ee|\\U0001f5f3|\\u270f|\\u2712|\\U0001f58b|\\U0001f58a|\\U0001f58c|\\U0001f58d|\\U0001f4dd|\\U0001f4bc|\\U0001f4c1|\\U0001f4c2|\\U0001f5c2|\\U0001f4c5|\\U0001f4c6|\\U0001f5d2|\\U0001f5d3|\\U0001f4c7|\\U0001f4c8|\\U0001f4c9|\\U0001f4ca|\\U0001f4cb|\\U0001f4cc|\\U0001f4cd|\\U0001f4ce|\\U0001f587|\\U0001f4cf|\\U0001f4d0|\\u2702|\\U0001f5c3|\\U0001f5c4|\\U0001f5d1|\\U0001f512|\\U0001f513|\\U0001f50f|\\U0001f510|\\U0001f511|\\U0001f5dd|\\U0001f528|\\U0001fa93|\\u26cf|\\u2692|\\U0001f6e0|\\U0001f5e1|\\u2694|\\U0001f52b|\\U0001f3f9|\\U0001f6e1|\\U0001f527|\\U0001f529|\\u2699|\\U0001f5dc|\\u2696|\\U0001f9af|\\U0001f517|\\u26d3|\\U0001f9f0|\\U0001f9f2|\\u2697|\\U0001f9ea|\\U0001f9eb|\\U0001f9ec|\\U0001f52c|\\U0001f52d|\\U0001f4e1|\\U0001f489|\\U0001fa78|\\U0001f48a|\\U0001fa79|\\U0001fa7a|\\U0001f6aa|\\U0001f6cf|\\U0001f6cb|\\U0001fa91|\\U0001f6bd|\\U0001f6bf|\\U0001f6c1|\\U0001fa92|\\U0001f9f4|\\U0001f9f7|\\U0001f9f9|\\U0001f9fa|\\U0001f9fb|\\U0001f9fc|\\U0001f9fd|\\U0001f9ef|\\U0001f6d2|\\U0001f6ac|\\u26b0|\\u26b1|\\U0001f5ff|\\U0001f3e7|\\U0001f6ae|\\U0001f6b0|\\u267f|\\U0001f6b9|\\U0001f6ba|\\U0001f6bb|\\U0001f6bc|\\U0001f6be|\\U0001f6c2|\\U0001f6c3|\\U0001f6c4|\\U0001f6c5|\\u26a0|\\U0001f6b8|\\u26d4|\\U0001f6ab|\\U0001f6b3|\\U0001f6ad|\\U0001f6af|\\U0001f6b1|\\U0001f6b7|\\U0001f4f5|\\U0001f51e|\\u2622|\\u2623|\\u2b06|\\u2197|\\u27a1|\\u2198|\\u2b07|\\u2199|\\u2b05|\\u2196|\\u2195|\\u2194|\\u21a9|\\u21aa|\\u2934|\\u2935|\\U0001f503|\\U0001f504|\\U0001f519|\\U0001f51a|\\U0001f51b|\\U0001f51c|\\U0001f51d|\\U0001f6d0|\\u269b|\\U0001f549|\\u2721|\\u2638|\\u262f|\\u271d|\\u2626|\\u262a|\\u262e|\\U0001f54e|\\U0001f52f|\\u2648|\\u2649|\\u264a|\\u264b|\\u264c|\\u264d|\\u264e|\\u264f|\\u2650|\\u2651|\\u2652|\\u2653|\\u26ce|\\U0001f500|\\U0001f501|\\U0001f502|\\u25b6|\\u23e9|\\u23ed|\\u23ef|\\u25c0|\\u23ea|\\u23ee|\\U0001f53c|\\u23eb|\\U0001f53d|\\u23ec|\\u23f8|\\u23f9|\\u23fa|\\u23cf|\\U0001f3a6|\\U0001f505|\\U0001f506|\\U0001f4f6|\\U0001f4f3|\\U0001f4f4|\\u2640|\\u2642|\\u2695|\\u267e|\\u267b|\\u269c|\\U0001f531|\\U0001f4db|\\U0001f530|\\u2b55|\\u2705|\\u2611|\\u2714|\\u2716|\\u274c|\\u274e|\\u2795|\\u2796|\\u2797|\\u27b0|\\u27bf|\\u303d|\\u2733|\\u2734|\\u2747|\\u203c|\\u2049|\\u2753|\\u2754|\\u2755|\\u2757|\\u3030|\\xa9|\\xae|\\u2122|\\U0001f51f|\\U0001f520|\\U0001f521|\\U0001f522|\\U0001f523|\\U0001f524|\\U0001f170|\\U0001f18e|\\U0001f171|\\U0001f191|\\U0001f192|\\U0001f193|\\u2139|\\U0001f194|\\u24c2|\\U0001f195|\\U0001f196|\\U0001f17e|\\U0001f197|\\U0001f17f|\\U0001f198|\\U0001f199|\\U0001f19a|\\U0001f201|\\U0001f202|\\U0001f237|\\U0001f236|\\U0001f22f|\\U0001f250|\\U0001f239|\\U0001f21a|\\U0001f232|\\U0001f251|\\U0001f238|\\U0001f234|\\U0001f233|\\u3297|\\u3299|\\U0001f23a|\\U0001f235|\\U0001f534|\\U0001f7e0|\\U0001f7e1|\\U0001f7e2|\\U0001f535|\\U0001f7e3|\\U0001f7e4|\\u26ab|\\u26aa|\\U0001f7e5|\\U0001f7e7|\\U0001f7e8|\\U0001f7e9|\\U0001f7e6|\\U0001f7ea|\\U0001f7eb|\\u2b1b|\\u2b1c|\\u25fc|\\u25fb|\\u25fe|\\u25fd|\\u25aa|\\u25ab|\\U0001f536|\\U0001f537|\\U0001f538|\\U0001f539|\\U0001f53a|\\U0001f53b|\\U0001f4a0|\\U0001f518|\\U0001f533|\\U0001f532|\\U0001f3c1|\\U0001f6a9|\\U0001f38c|\\U0001f3f4|\\U0001f3f3\")\n",
    "\n",
    "# Function to remove stop words from string(using the structure of the stopwords-iso.json file)\n",
    "def remove_stops_from_str(str, mystop):\n",
    "\tL_str=str.split(' ')\n",
    "\tnew_str=''\n",
    "\n",
    "\tfor word in L_str:\n",
    "\t\tin_stop=False\n",
    "\t\tfor L_lang in list(mystop.values()):\n",
    "\t\t\tif word.rstrip() in L_lang:\n",
    "\t\t\t\tin_stop=True\n",
    "\t\t\t\tbreak\n",
    "\n",
    "\t\tif in_stop==False:\n",
    "\t\t\tnew_str+=word.rstrip()+' '\n",
    "\n",
    "\n",
    "\treturn new_str\n",
    "\n",
    "\n",
    "\n",
    "# Function to remove stop words from list(using the structure of the stopwords-iso.json file)\n",
    "def remove_stops_from_list(L, mystop):\n",
    "\tL_filtered=[]\n",
    "\tfor word in L:\n",
    "\t\tin_stop=False\n",
    "\t\tfor L_lang in list(mystop.values()):\n",
    "\t\t\tif word.strip() in L_lang:\n",
    "\t\t\t\tin_stop=True\n",
    "\t\t\t\tbreak\n",
    "\t\t\n",
    "\t\tif in_stop==False:\n",
    "\t\t\tL_filtered.append(word)\n",
    "\n",
    "\treturn L_filtered\n",
    "\n",
    "\n",
    "# Creates a dataset from \"text\" column of the .csv file\n",
    "df = pd.read_csv('AllTweets.csv', usecols=['text']) # Change the location of the file!\n",
    "\n",
    "# As there are different sizes of JSON, we should use below instead of pd.read_json\n",
    "with open('stopwords-iso.json' , encoding=\"utf-8\") as json_stop_data: # Change the location of the file!\n",
    "\tstop_data=json.load(json_stop_data)\n",
    "\n",
    "# Creates a dataset for stop words\n",
    "st=pd.DataFrame.from_dict(stop_data,orient='index')\n",
    "\n",
    "\n",
    "# Remove mentions and hashtags\n",
    "df=df.replace(regex=re_mentions_hashtags, value='')\n",
    "\n",
    "# Remove links\n",
    "df=df.replace(regex=re_URLs, value='')\n",
    "\n",
    "# Remove numbers\n",
    "df=df.replace(regex=re_nums, value='')\n",
    "\n",
    "# Remove special characters\n",
    "df=df.replace(regex=re_special_chars, value='')\n",
    "\n",
    "# Remove HTML amp\n",
    "df=df.replace(regex=re_html_amp, value='')\n",
    "\n",
    "# Remove emoji - works much longer now... but cleaning text\n",
    "df=df.replace(regex=re_emoji, value='')\n",
    "\n",
    "#Replace new lines inside of the string/tweet by space\n",
    "df=df.replace(regex=re_nn, value=' ')\n",
    "\n",
    "\n",
    "L_tweets=df['text'].str.strip().tolist()\n",
    "\n",
    "\n",
    "df_tweets_sent=pd.DataFrame(L_tweets)\n",
    "df_tweets_sent.to_csv('./cleaned_tweets.csv', header=['tweets'], index=None, mode='w') # Change the location of the file!\n",
    "\n",
    "print('CSV cleaning finished!')\n",
    "\n"
   ]
  },
  {
   "cell_type": "code",
   "execution_count": null,
   "metadata": {},
   "outputs": [],
   "source": [
    "import pandas as pd\n",
    "from time import time\n",
    "import gensim\n",
    "from gensim.models import Word2Vec\n",
    "from gensim.utils import tokenize\n",
    "\n",
    "print('Model training started! Please, wait...')\n",
    "\n",
    "fmin_count = 4\n",
    "fsize = 50\n",
    "fwindow = 4\n",
    "\n",
    "df = pd.read_csv('./cleaned_tweets.csv') # Change the location of the file!\n",
    "\n",
    "\n",
    "L_sentences=df['tweets'].tolist() # for tweets\n",
    "# L_sentences=df['spoken_words'].tolist() \n",
    "\n",
    "sentences=[list(gensim.utils.tokenize(str(sent), deacc=True, lowercase=True)) for sent in L_sentences]\n",
    "\n",
    "print('Dataset: Tweets') \n",
    "\n",
    "print('The number of tweets:',len(sentences))\n",
    "\n",
    "# Build the model\n",
    "model = Word2Vec(min_count=20,\n",
    "                     window=2,\n",
    "                     size=300,\n",
    "                     sample=6e-5, \n",
    "                     alpha=0.03, \n",
    "                     min_alpha=0.0007, \n",
    "                     negative=20)\n",
    "\n",
    "# Build vocabulary\n",
    "model.build_vocab(sentences)\n",
    "\n",
    "t=time()\n",
    "\n",
    "# Train the model\n",
    "model.train(sentences, total_examples=model.corpus_count, epochs=30, report_delay=1)\n",
    "print('Time to train the model: {} mins'.format(round((time() - t) / 60, 2)))\n",
    "\n",
    "vocab_list=list(model.wv.vocab.keys())\n",
    "df_vocab_list=pd.DataFrame(vocab_list)\n",
    "df_vocab_list.to_csv('output_vocab.txt', header=None, index=None, sep=' ', mode='w') # Change the location of the file!\n",
    "\n",
    "# Save the model to further use in model_use.py to save the RAM\n",
    "model.save('./w2v.model')\n",
    "\n",
    "print('Model training started! Please, wait...')\n",
    "print('Model saved:', model)"
   ]
  },
  {
   "cell_type": "code",
   "execution_count": null,
   "metadata": {},
   "outputs": [],
   "source": [
    "import pandas as pd  # For data handling\n",
    "from time import time  # To time our operations\n",
    "import gensim\n",
    "from gensim.models import Word2Vec\n",
    "from gensim.utils import tokenize\n",
    "\n",
    "model = Word2Vec.load('./w2v.model')\n",
    "\n",
    "print('Program started. Type \\\"stop\\\" or use Ctrl+C to stop it:')\n",
    "\n",
    "test_word=''\n",
    "\n",
    "while test_word!='stop':\n",
    "\ttry:\n",
    "\t\ttest_word=input('\\nWord:')\n",
    "\t\tcounter=0\n",
    "\t\tL_similar=list(model.wv.most_similar(positive=test_word, topn=15))\n",
    "\t\tprint('\\nMost similar for \\\"'+test_word+'\\\":')\n",
    "\t\tfor word_tuple in L_similar: \n",
    "\t\t\tprint(str(counter+1)+'. '+word_tuple[0]) \n",
    "\t\t\tcounter+=1\n",
    "\texcept KeyError:\n",
    "\t\tprint('This word not in the vocabulary')\n",
    "\n",
    "\n",
    "print('Program stopped!')"
   ]
  },
  {
   "cell_type": "markdown",
   "metadata": {},
   "source": [
    "Keyword Search with the found keywords from the word vectors"
   ]
  },
  {
   "cell_type": "code",
   "execution_count": null,
   "metadata": {},
   "outputs": [],
   "source": [
    "AllTweets = pd.read_csv(\"AllTweets.csv\")"
   ]
  },
  {
   "cell_type": "code",
   "execution_count": null,
   "metadata": {},
   "outputs": [],
   "source": [
    "len(AllTweets)"
   ]
  },
  {
   "cell_type": "markdown",
   "metadata": {},
   "source": [
    "The automated content analysis is being feed with the words generated by word embedding \"NaturalLanguageProcessing\""
   ]
  },
  {
   "cell_type": "code",
   "execution_count": null,
   "metadata": {},
   "outputs": [],
   "source": [
    "def wordlist_any_present(text, query):\n",
    "    import re\n",
    "    text = str(text).lower()\n",
    "    newquery = []\n",
    "    for word in query:\n",
    "        newquery.append(str(word).lower())\n",
    "    tokens = re.findall(r\"[\\w']+|[.,!?;$@#]\", text)\n",
    "    \n",
    "    for word in newquery:\n",
    "        if word in tokens:\n",
    "            return 1\n",
    "    return 0\n"
   ]
  },
  {
   "cell_type": "markdown",
   "metadata": {},
   "source": [
    "Automated content analysis for the variable \"Skills\"...searching for the following words in the reviewed Tweets."
   ]
  },
  {
   "cell_type": "code",
   "execution_count": null,
   "metadata": {},
   "outputs": [],
   "source": [
    "AllTweets['Skills'] = AllTweets['text'].apply(wordlist_any_present,\n",
    "                                                       args=([\"unique\" , \"dedication\", \"impressive\" , \"talent\" , \"passion\" , \"gesture\" , \"genius\",\n",
    "                                                              \"highestpaid\", \"athletes\" , \"player\", \"greatest\", \"status\" , \"strength\" , \"fitness\" , \"Fitness\" , \"creative\", \n",
    "                                                              \"determination\" , \"health\" , \"courage\", \"energy\", \"balance\" , \"focus\" , \"efforts\" , \"effort\" , \n",
    "                                                              \"serve\" , \"serving\" , \"slice\" , \"slicing\" , \"backhand\" , \"bh\" , \"volleys\" , \"volley\", \"technique\" , \"smash\", \"grip\", \"hits\", \"hit\" , \n",
    "                                                              \"footwork\" , \"onehanded\" , \"tweener\" , \"tweeners\", \"average\" , \"rally\" , \"rallies\" , \"opponents\" , \"opponent\" , \"rate\" , \"motion\" , \"spin\" , \n",
    "                                                              \"rivals\" , \"rival\", \"superb\" , \"unbelievable\" , \"unreal\" , \"performance\" , \"master\" , \"Master\" , \"leading\" , \"underrated\" , \"rivalry\" , \n",
    "                                                              \"body\" , \"risk\" , \"successful\" , \"confidence\" , \"soul\" , \"working\" , \"motivation\" , \"mentally\" , \"train\" , \"practising\" , \n",
    "                                                              \"grow\" , \"grew\" , \"training\" , \"train\" , \"job\" , \"work\" , \"gesture\" , \"drive\" , \"gym\" , \"appreciated\" , \"art\" , \"ambassador\" , \"spirit\" , \"humble\",\n",
    "                                                              \"peace\" , \"business\" , \"blessing\" , \"goal\" , \"goals\" , \"frontline\" , \"happiness\" , \"success\" , \"force\" , \"willing\" , \n",
    "                                                              \"towards\" , \"wrist\" , \"position\" , \"ideal\" , \"feet\"  , \"foot\" , \"shoe\" , \"shoes\" , \"movement\" , \"cross\" , \"arm\" , \"storm\" , \n",
    "                                                              \"knees\" , \"impressed\" , \"moving\" , \"bounce\" , \"mentally strong\" , \"fit\" , \"fighting\" , \"creative\" , \n",
    "                                                              \"hander\" , \"lack of power\" , \"grown in power\" , \"pure power\" , \"model\" , \"greatness\" , \"beyond\" , \"athletic\" , \n",
    "                                                              \"mentally tough\" , \"challenging\" , \"competitive\" , \"boring\" , \"perspective\" , \"fair\" , \"fairness\" , \"jump\" , \"jumping\" , \"education\" , \n",
    "                                                              \"educated\" , \"fancy\" , \"faster\" ],))"
   ]
  },
  {
   "cell_type": "code",
   "execution_count": null,
   "metadata": {},
   "outputs": [],
   "source": [
    "AllTweets[\"Skills\"].value_counts()"
   ]
  },
  {
   "cell_type": "markdown",
   "metadata": {},
   "source": [
    "Automated content analysis for the variable \"Appearance\"...searching for the following words in the reviewed Tweets."
   ]
  },
  {
   "cell_type": "code",
   "execution_count": null,
   "metadata": {},
   "outputs": [],
   "source": [
    "AllTweets['Appearance'] = AllTweets['text'].apply(wordlist_any_present,\n",
    "                                                       args=([\"attitude\" , \"generous\" , \"classy\" , \"gentleman\" , \"Gentleman\" , \"funny\" , \"hilarious\" , \"jealous\" , \"cool\" , \"smart\" , \"interesting\" , \"idiot\" , \n",
    "                                                              \"cute\" , \"precious\" , \"sweet\" , \"cutest\" , \"beautiful\" , \"dancing\" , \"gorgeous\" , \"sexy\" , \"heart\" , \"shine\" , \n",
    "                                                              \"crying\" , \"adore\" , \"sweetie\" , \"dislike\" , \"horrible\" , \"shy\" , \"racist\" , \"cutie\" , \n",
    "                                                              \"sounds\" , \"sound\" , \"looked\" , \"haircut\" , \"hair\" , \"yummy\" , \"pink\" , \"lil\", \"grace\" , \"eye\" , \"beast\" , \"color\" , \"beau\" , \"nails\" , \n",
    "                                                              \"girlfriend\" , \"selfie\" , \"ring\" , \"lovely\" , \"wonderful\" , \"amazing\" , \"adorable\" , \"handsome\" , \"beard\" , \"goodness\" , \"girl\" , \"girls\" , \n",
    "                                                              \"lit\" , \"bear\" , \"jesus\",  \"darling\" , \"families\" , \"kids\" , \"moms\" , \"raised\" , \"brothers\" , \"couple\" , \"mom\" , \"mothers\" , \"mum\", \"mother\",\n",
    "                                                              \"father\" , \"fathers\", \"dad\" , \"daddy\" , \"wife\" , \"husband\" , \"silly\" , \"students\" , \"anniversary\" , \"bday\" , \"celebrating\" , \"son\" , \"daughter\"],)) "
   ]
  },
  {
   "cell_type": "code",
   "execution_count": null,
   "metadata": {},
   "outputs": [],
   "source": [
    "AllTweets[\"Appearance\"].value_counts()"
   ]
  },
  {
   "cell_type": "code",
   "execution_count": null,
   "metadata": {},
   "outputs": [],
   "source": [
    "AllTweets.to_csv(\"Final_Tweets.csv\")"
   ]
  },
  {
   "cell_type": "markdown",
   "metadata": {},
   "source": [
    "The saved Dataset \"Final_Tweets.csv\" is the basis for the descriptive and explorative statistics."
   ]
  },
  {
   "cell_type": "markdown",
   "metadata": {},
   "source": [
    "**Data cleaning for the Precision and Recall** "
   ]
  },
  {
   "cell_type": "code",
   "execution_count": null,
   "metadata": {},
   "outputs": [],
   "source": [
    "Tweets_Sample = pd.read_csv(\"Final_Tweets.csv\")"
   ]
  },
  {
   "cell_type": "markdown",
   "metadata": {},
   "source": [
    "Generating a new column \"Stereotyping\" for adding the previous made categories"
   ]
  },
  {
   "cell_type": "code",
   "execution_count": null,
   "metadata": {},
   "outputs": [],
   "source": [
    "def generate_category(row):\n",
    "    if row['Skills'] == 1:\n",
    "        row['Stereotyping'] = 1\n",
    "    if row['Appearance'] == 1:\n",
    "        row['Stereotyping'] = 2\n",
    "    return row"
   ]
  },
  {
   "cell_type": "code",
   "execution_count": null,
   "metadata": {},
   "outputs": [],
   "source": [
    "Tweets_Sample = Tweets_Sample.apply(generate_category, axis=1)"
   ]
  },
  {
   "cell_type": "code",
   "execution_count": null,
   "metadata": {},
   "outputs": [],
   "source": [
    "Tweets_Sample[\"Stereotyping\"].value_counts()"
   ]
  },
  {
   "cell_type": "markdown",
   "metadata": {},
   "source": [
    "Dropping the missing values in the column \"Stereotyping\""
   ]
  },
  {
   "cell_type": "code",
   "execution_count": null,
   "metadata": {},
   "outputs": [],
   "source": [
    "Tweets_Sample.isna().sum()"
   ]
  },
  {
   "cell_type": "code",
   "execution_count": null,
   "metadata": {},
   "outputs": [],
   "source": [
    "Tweets_Sample = Tweets_Sample.dropna(subset=[\"Stereotyping\"])"
   ]
  },
  {
   "cell_type": "markdown",
   "metadata": {},
   "source": [
    "**Getting the Tweets for manually coding**"
   ]
  },
  {
   "cell_type": "markdown",
   "metadata": {},
   "source": [
    "With the following step, a automatic generated sample of the whole population of Tweets was made available."
   ]
  },
  {
   "cell_type": "code",
   "execution_count": null,
   "metadata": {},
   "outputs": [],
   "source": [
    "Test_Sample = Tweets_Sample.sample(frac=0.012, random_state = 42)"
   ]
  },
  {
   "cell_type": "code",
   "execution_count": null,
   "metadata": {},
   "outputs": [],
   "source": [
    "Test_Sample"
   ]
  },
  {
   "cell_type": "markdown",
   "metadata": {},
   "source": [
    "To manually code the Tweets, we just need the columns \"id\", \"text\" and \"Stereotyping\""
   ]
  },
  {
   "cell_type": "code",
   "execution_count": null,
   "metadata": {},
   "outputs": [],
   "source": [
    "Test_Sample = Test_Sample[['id', \"text\" , \"Stereotyping\"]]"
   ]
  },
  {
   "cell_type": "markdown",
   "metadata": {},
   "source": [
    "The csv-file \"pd.train.csv\" is the basis for the manual coding procedure in Qualtrics"
   ]
  },
  {
   "cell_type": "code",
   "execution_count": null,
   "metadata": {},
   "outputs": [],
   "source": [
    "Test_Sample.to_csv(\"pd.train.csv\") #pd.train is the dataset to manually code the tweets"
   ]
  },
  {
   "cell_type": "markdown",
   "metadata": {},
   "source": [
    "After the manual coding, just the columns id and gender are necessary to align the two datasets"
   ]
  },
  {
   "cell_type": "code",
   "execution_count": null,
   "metadata": {},
   "outputs": [],
   "source": [
    "AllTweets_Test_after_manually_coding = Test_Sample[['id',  \"Stereotyping\"]]\n",
    "AllTweets_Test_after_manually_coding.reset_index(drop=True) #after the manually coding, we just need the columns \"id\" and \"Stereotyping\""
   ]
  },
  {
   "cell_type": "code",
   "execution_count": null,
   "metadata": {},
   "outputs": [],
   "source": [
    "AllTweets_Test_after_manually_coding.to_csv(\"Test.csv\")"
   ]
  },
  {
   "cell_type": "markdown",
   "metadata": {},
   "source": [
    "**The dataset, which was conducted within Qualtrics and which serves as the Train-Dataset is being implemented with the next steps**"
   ]
  },
  {
   "cell_type": "code",
   "execution_count": null,
   "metadata": {},
   "outputs": [],
   "source": [
    "AllTweets_Train_after_manually_coding = pd.read_csv(\"StereotypingTest.csv\") #this is the dataset which was downloaded from Qualtrics"
   ]
  },
  {
   "cell_type": "markdown",
   "metadata": {},
   "source": [
    "Choosing just the columns that are usefull"
   ]
  },
  {
   "cell_type": "code",
   "execution_count": null,
   "metadata": {},
   "outputs": [],
   "source": [
    "AllTweets_Train_after_manually_coding = AllTweets_Train_after_manually_coding[[\"Q7\" , \"Q1\"]] #the column Q7 is the answer-column for the id and Q1 is the answer-column for stereotyping"
   ]
  },
  {
   "cell_type": "markdown",
   "metadata": {},
   "source": [
    "Renaming the columns"
   ]
  },
  {
   "cell_type": "code",
   "execution_count": null,
   "metadata": {},
   "outputs": [],
   "source": [
    "AllTweets_Train_after_manually_coding = AllTweets_Train_after_manually_coding.rename(columns={'Q7': 'id', 'Q1': 'Bias'}) #more advantageous for the clarity"
   ]
  },
  {
   "cell_type": "code",
   "execution_count": null,
   "metadata": {},
   "outputs": [],
   "source": [
    "def generate_category_manually_coding(row):    #important that we have numerous categories for the further analysis \n",
    "    if row['Bias'] == \"Appearance & Looks\":\n",
    "        row['Stereotyping_Train'] = 2\n",
    "    if row['Bias'] == 'Physical & Mental Skills':\n",
    "        row['Stereotyping_Train'] = 1\n",
    "    return row"
   ]
  },
  {
   "cell_type": "code",
   "execution_count": null,
   "metadata": {},
   "outputs": [],
   "source": [
    "AllTweets_Train_after_manually_coding = AllTweets_Train_after_manually_coding.apply(generate_category_manually_coding, axis=1)"
   ]
  },
  {
   "cell_type": "markdown",
   "metadata": {},
   "source": [
    "The first two rows have to deleted"
   ]
  },
  {
   "cell_type": "code",
   "execution_count": null,
   "metadata": {},
   "outputs": [],
   "source": [
    "AllTweets_Train_after_manually_coding = AllTweets_Train_after_manually_coding.drop(0,1) #there are rows we do not need for the analysis\n",
    "AllTweets_Train_after_manually_coding.reset_index(drop=True) #reset the index"
   ]
  },
  {
   "cell_type": "code",
   "execution_count": null,
   "metadata": {},
   "outputs": [],
   "source": [
    "AllTweets_Train_after_manually_coding = AllTweets_Train_after_manually_coding[[\"id\" , \"Stereotyping_Train\"]]"
   ]
  },
  {
   "cell_type": "code",
   "execution_count": null,
   "metadata": {},
   "outputs": [],
   "source": [
    "AllTweets_Train_after_manually_coding.to_csv(\"Train.csv\")"
   ]
  },
  {
   "cell_type": "markdown",
   "metadata": {},
   "source": [
    "**Precision and Recall with the two Datasets \"Train\" and \"Test\"**"
   ]
  },
  {
   "cell_type": "code",
   "execution_count": null,
   "metadata": {},
   "outputs": [],
   "source": [
    "Train = pd.read_csv(\"Train.csv\")"
   ]
  },
  {
   "cell_type": "markdown",
   "metadata": {},
   "source": [
    "The dataset Test is the raw data which should be as similar to the dataset Train as possible"
   ]
  },
  {
   "cell_type": "code",
   "execution_count": null,
   "metadata": {},
   "outputs": [],
   "source": [
    "Test = pd.read_csv(\"Test.csv\")"
   ]
  },
  {
   "cell_type": "markdown",
   "metadata": {},
   "source": [
    "Merging the two datasets to \"TrainTest\" with the two columns \"Stereotyping\" and \"Stereotyping_Train\""
   ]
  },
  {
   "cell_type": "code",
   "execution_count": null,
   "metadata": {},
   "outputs": [],
   "source": [
    "TrainTest = Test.merge(Train, on='id', how=\"left\")"
   ]
  },
  {
   "cell_type": "code",
   "execution_count": null,
   "metadata": {},
   "outputs": [],
   "source": [
    "TrainTest.head()"
   ]
  },
  {
   "cell_type": "code",
   "execution_count": null,
   "metadata": {},
   "outputs": [],
   "source": [
    "TrainTest.isna().sum()"
   ]
  },
  {
   "cell_type": "markdown",
   "metadata": {},
   "source": [
    "For further analysis is is important to delete the missing variables within the dataset"
   ]
  },
  {
   "cell_type": "code",
   "execution_count": null,
   "metadata": {},
   "outputs": [],
   "source": [
    "TrainTest = TrainTest.dropna(subset=[\"Stereotyping_Train\"])"
   ]
  },
  {
   "cell_type": "markdown",
   "metadata": {},
   "source": [
    "Generating a dataset with the confusion matrix included for Classification Report and Accuracy testing"
   ]
  },
  {
   "cell_type": "code",
   "execution_count": null,
   "metadata": {},
   "outputs": [],
   "source": [
    "from sklearn.metrics import confusion_matrix"
   ]
  },
  {
   "cell_type": "code",
   "execution_count": null,
   "metadata": {},
   "outputs": [],
   "source": [
    "Matrix = (confusion_matrix(TrainTest['Stereotyping_Train'], TrainTest['Stereotyping']))"
   ]
  },
  {
   "cell_type": "markdown",
   "metadata": {},
   "source": [
    "Precision and Recall / Classification Report and Accuracy Score"
   ]
  },
  {
   "cell_type": "code",
   "execution_count": null,
   "metadata": {},
   "outputs": [],
   "source": [
    "print(Matrix) \n",
    "print(accuracy_score(TrainTest[\"Stereotyping_Train\"], TrainTest[\"Stereotyping\"])) "
   ]
  },
  {
   "cell_type": "code",
   "execution_count": null,
   "metadata": {},
   "outputs": [],
   "source": [
    "print(classification_report(TrainTest[\"Stereotyping_Train\"], TrainTest[\"Stereotyping\"]))"
   ]
  },
  {
   "cell_type": "markdown",
   "metadata": {},
   "source": [
    "**Statistical Procedure**"
   ]
  },
  {
   "cell_type": "markdown",
   "metadata": {},
   "source": [
    "Loading the dataset which was saved after the keyword search.."
   ]
  },
  {
   "cell_type": "code",
   "execution_count": null,
   "metadata": {},
   "outputs": [],
   "source": [
    "Final_Tweets = pd.read_csv(\"Final_Tweets.csv\")"
   ]
  },
  {
   "cell_type": "code",
   "execution_count": null,
   "metadata": {},
   "outputs": [],
   "source": [
    "Final_Tweets.columns"
   ]
  },
  {
   "cell_type": "code",
   "execution_count": null,
   "metadata": {},
   "outputs": [],
   "source": [
    "Final_Tweets = Final_Tweets[['id', \"text\" , \"Gender\" , \"Skills\" , \"Gender-Neutral\" , \"Appearance\"]]"
   ]
  },
  {
   "cell_type": "markdown",
   "metadata": {},
   "source": [
    "Choosing the relevant columns, which are required for further analysis"
   ]
  },
  {
   "cell_type": "code",
   "execution_count": null,
   "metadata": {},
   "outputs": [],
   "source": [
    "Final_Tweets.head()"
   ]
  },
  {
   "cell_type": "code",
   "execution_count": null,
   "metadata": {},
   "outputs": [],
   "source": [
    "len(Final_Tweets)"
   ]
  },
  {
   "cell_type": "code",
   "execution_count": null,
   "metadata": {},
   "outputs": [],
   "source": [
    "Final_Tweets[\"Gender\"].value_counts()"
   ]
  },
  {
   "cell_type": "code",
   "execution_count": null,
   "metadata": {},
   "outputs": [],
   "source": [
    "Final_Tweets[\"Gender\"].describe()"
   ]
  },
  {
   "cell_type": "markdown",
   "metadata": {},
   "source": [
    "Describtive Statistics for the variable \"Gender\". Retrieved from: https://stackoverflow.com/questions/33179122/seaborn-countplot-with-frequencies"
   ]
  },
  {
   "cell_type": "code",
   "execution_count": null,
   "metadata": {},
   "outputs": [],
   "source": [
    "ncount = len(Final_Tweets)\n",
    "\n",
    "plt.figure(figsize=(12,8))\n",
    "ax = sns.countplot(x=\"Gender\", data=Final_Tweets, order=[0,1])\n",
    "plt.title('Distribution of Gender')\n",
    "plt.xlabel('Gender')\n",
    "\n",
    "# Make twin axis\n",
    "ax2=ax.twinx()\n",
    "\n",
    "# Switch so count axis is on right, frequency on left\n",
    "ax2.yaxis.tick_left()\n",
    "ax.yaxis.tick_right()\n",
    "\n",
    "# Also switch the labels over\n",
    "ax.yaxis.set_label_position('right')\n",
    "ax2.yaxis.set_label_position('left')\n",
    "\n",
    "ax2.set_ylabel('Frequency [%]')\n",
    "\n",
    "for p in ax.patches:\n",
    "    x=p.get_bbox().get_points()[:,0]\n",
    "    y=p.get_bbox().get_points()[1,1]\n",
    "    ax.annotate('{:.1f}%'.format(100.*y/ncount), (x.mean(), y), \n",
    "            ha='center', va='bottom') # set the alignment of the text\n",
    "\n",
    "# Use a LinearLocator to ensure the correct number of ticks\n",
    "ax.yaxis.set_major_locator(ticker.LinearLocator(11))\n",
    "\n",
    "# Fix the frequency range to 0-100\n",
    "ax2.set_ylim(0,100)\n",
    "ax.set_ylim(0,ncount)\n",
    "\n",
    "# And use a MultipleLocator to ensure a tick spacing of 10\n",
    "ax2.yaxis.set_major_locator(ticker.MultipleLocator(10))\n",
    "\n",
    "# Need to turn the grid on ax2 off, otherwise the gridlines end up on top of the bars\n",
    "ax2.grid(None)\n",
    "\n",
    "plt.savefig('Distribution_of_Gender.png')"
   ]
  },
  {
   "cell_type": "markdown",
   "metadata": {},
   "source": [
    "Describtive Statistics for the variable \"Skills\""
   ]
  },
  {
   "cell_type": "code",
   "execution_count": null,
   "metadata": {},
   "outputs": [],
   "source": [
    "Final_Tweets[\"Skills\"].value_counts(normalize=True)"
   ]
  },
  {
   "cell_type": "markdown",
   "metadata": {},
   "source": [
    "Retrieved from: https://stackoverflow.com/questions/33179122/seaborn-countplot-with-frequencies"
   ]
  },
  {
   "cell_type": "code",
   "execution_count": null,
   "metadata": {},
   "outputs": [],
   "source": [
    "import pandas as pd\n",
    "import matplotlib.pyplot as plt\n",
    "import numpy as np\n",
    "import seaborn as sns\n",
    "import matplotlib.ticker as ticker\n",
    "\n",
    "ncount = len(Final_Tweets)\n",
    "\n",
    "plt.figure(figsize=(12,8))\n",
    "ax = sns.countplot(x=\"Skills\", data=Final_Tweets, order=[0,1])\n",
    "plt.title('Mental & Athletic Skills')\n",
    "plt.xlabel('Mental & Athletic Skills')\n",
    "\n",
    "# Make twin axis\n",
    "ax2=ax.twinx()\n",
    "\n",
    "# Switch so count axis is on right, frequency on left\n",
    "ax2.yaxis.tick_left()\n",
    "ax.yaxis.tick_right()\n",
    "\n",
    "# Also switch the labels over\n",
    "ax.yaxis.set_label_position('right')\n",
    "ax2.yaxis.set_label_position('left')\n",
    "\n",
    "ax2.set_ylabel('Frequency [%]')\n",
    "\n",
    "for p in ax.patches:\n",
    "    x=p.get_bbox().get_points()[:,0]\n",
    "    y=p.get_bbox().get_points()[1,1]\n",
    "    ax.annotate('{:.1f}%'.format(100.*y/ncount), (x.mean(), y), \n",
    "            ha='center', va='bottom') # set the alignment of the text\n",
    "\n",
    "# Use a LinearLocator to ensure the correct number of ticks\n",
    "ax.yaxis.set_major_locator(ticker.LinearLocator(11))\n",
    "\n",
    "# Fix the frequency range to 0-100\n",
    "ax2.set_ylim(0,100)\n",
    "ax.set_ylim(0,ncount)\n",
    "\n",
    "# And use a MultipleLocator to ensure a tick spacing of 10\n",
    "ax2.yaxis.set_major_locator(ticker.MultipleLocator(10))\n",
    "\n",
    "# Need to turn the grid on ax2 off, otherwise the gridlines end up on top of the bars\n",
    "ax2.grid(None)\n",
    "\n",
    "plt.savefig('Distribution_of_Mental & Athletic_Skills.png')\n"
   ]
  },
  {
   "cell_type": "code",
   "execution_count": null,
   "metadata": {},
   "outputs": [],
   "source": [
    "Final_Tweets.groupby('Gender')[['Skills']].describe().transpose()"
   ]
  },
  {
   "cell_type": "markdown",
   "metadata": {},
   "source": [
    "Descriptive statistics for the variable \"Appearance\""
   ]
  },
  {
   "cell_type": "code",
   "execution_count": null,
   "metadata": {},
   "outputs": [],
   "source": [
    "Final_Tweets[\"Appearance\"].value_counts(normalize=True)"
   ]
  },
  {
   "cell_type": "markdown",
   "metadata": {},
   "source": [
    "Retrieved from: https://stackoverflow.com/questions/33179122/seaborn-countplot-with-frequencies"
   ]
  },
  {
   "cell_type": "code",
   "execution_count": null,
   "metadata": {},
   "outputs": [],
   "source": [
    "import pandas as pd\n",
    "import matplotlib.pyplot as plt\n",
    "import numpy as np\n",
    "import seaborn as sns\n",
    "import matplotlib.ticker as ticker\n",
    "\n",
    "ncount = len(Final_Tweets)\n",
    "\n",
    "plt.figure(figsize=(12,8))\n",
    "ax = sns.countplot(x=\"Appearance\", data=Final_Tweets, order=[0,1])\n",
    "plt.title('Appearance & Background')\n",
    "plt.xlabel('Appearance & Background')\n",
    "\n",
    "# Make twin axis\n",
    "ax2=ax.twinx()\n",
    "\n",
    "# Switch so count axis is on right, frequency on left\n",
    "ax2.yaxis.tick_left()\n",
    "ax.yaxis.tick_right()\n",
    "\n",
    "# Also switch the labels over\n",
    "ax.yaxis.set_label_position('right')\n",
    "ax2.yaxis.set_label_position('left')\n",
    "\n",
    "ax2.set_ylabel('Frequency [%]')\n",
    "\n",
    "for p in ax.patches:\n",
    "    x=p.get_bbox().get_points()[:,0]\n",
    "    y=p.get_bbox().get_points()[1,1]\n",
    "    ax.annotate('{:.1f}%'.format(100.*y/ncount), (x.mean(), y), \n",
    "            ha='center', va='bottom') # set the alignment of the text\n",
    "\n",
    "# Use a LinearLocator to ensure the correct number of ticks\n",
    "ax.yaxis.set_major_locator(ticker.LinearLocator(11))\n",
    "\n",
    "# Fix the frequency range to 0-100\n",
    "ax2.set_ylim(0,100)\n",
    "ax.set_ylim(0,ncount)\n",
    "\n",
    "# And use a MultipleLocator to ensure a tick spacing of 10\n",
    "ax2.yaxis.set_major_locator(ticker.MultipleLocator(10))\n",
    "\n",
    "# Need to turn the grid on ax2 off, otherwise the gridlines end up on top of the bars\n",
    "ax2.grid(None)\n",
    "\n",
    "plt.savefig('Distribution_of_Appearance & Background.png')\n"
   ]
  },
  {
   "cell_type": "markdown",
   "metadata": {},
   "source": [
    "Descriptive statistics for the variable \"Appearance\" grouped by the variable \"Gender\""
   ]
  },
  {
   "cell_type": "code",
   "execution_count": null,
   "metadata": {},
   "outputs": [],
   "source": [
    "Final_Tweets.groupby('Gender')[[\"Appearance\"]].describe().transpose()"
   ]
  },
  {
   "cell_type": "markdown",
   "metadata": {},
   "source": [
    "**Hypothesis Testing**"
   ]
  },
  {
   "cell_type": "markdown",
   "metadata": {},
   "source": [
    "The logistic regression for the variables \"Skills\" and \"Gender\" was conducted with the help of the following code"
   ]
  },
  {
   "cell_type": "code",
   "execution_count": null,
   "metadata": {},
   "outputs": [],
   "source": [
    "ols_stat_skills = sm.OLS(Final_Tweets[\"Skills\"], sm.add_constant(Final_Tweets[\"Gender\"]))"
   ]
  },
  {
   "cell_type": "code",
   "execution_count": null,
   "metadata": {},
   "outputs": [],
   "source": [
    "result_ols_skills = ols_stat_skills.fit()"
   ]
  },
  {
   "cell_type": "code",
   "execution_count": null,
   "metadata": {},
   "outputs": [],
   "source": [
    "print(result_ols_skills.summary())"
   ]
  },
  {
   "cell_type": "markdown",
   "metadata": {},
   "source": [
    "The logistic regression for the variables \"Appearance\" and \"Gender\" was conducted with the help of the following code"
   ]
  },
  {
   "cell_type": "code",
   "execution_count": null,
   "metadata": {},
   "outputs": [],
   "source": [
    "ols_stat_appearance = sm.OLS(Final_Tweets[\"Appearance\"], sm.add_constant(Final_Tweets[\"Gender\"]))"
   ]
  },
  {
   "cell_type": "code",
   "execution_count": null,
   "metadata": {},
   "outputs": [],
   "source": [
    "result_ols_appearance = ols_stat_appearance.fit()"
   ]
  },
  {
   "cell_type": "code",
   "execution_count": null,
   "metadata": {},
   "outputs": [],
   "source": [
    "print(result_ols_appearance.summary())"
   ]
  },
  {
   "cell_type": "markdown",
   "metadata": {},
   "source": [
    "The t-test for the analysis of gender differences in the number of tweets was performed within SPSS, generating a data set that included only the variable \"Gender\"."
   ]
  },
  {
   "cell_type": "code",
   "execution_count": null,
   "metadata": {},
   "outputs": [],
   "source": [
    "a = Final_Tweets[[\"Gender\"]]\n",
    "a = a.reset_index()\n",
    "a = a.drop(['index'],axis=1)"
   ]
  },
  {
   "cell_type": "code",
   "execution_count": null,
   "metadata": {},
   "outputs": [],
   "source": [
    "a.to_csv(\"SPSS.csv\")"
   ]
  }
 ],
 "metadata": {
  "kernelspec": {
   "display_name": "Python 3",
   "language": "python",
   "name": "python3"
  },
  "language_info": {
   "codemirror_mode": {
    "name": "ipython",
    "version": 3
   },
   "file_extension": ".py",
   "mimetype": "text/x-python",
   "name": "python",
   "nbconvert_exporter": "python",
   "pygments_lexer": "ipython3",
   "version": "3.7.4"
  }
 },
 "nbformat": 4,
 "nbformat_minor": 4
}
